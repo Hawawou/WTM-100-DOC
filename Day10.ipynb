{
  "nbformat": 4,
  "nbformat_minor": 0,
  "metadata": {
    "colab": {
      "name": "Day10.ipynb",
      "provenance": [],
      "authorship_tag": "ABX9TyNT+LzfAfOgtOTc/fzSOl3o",
      "include_colab_link": true
    },
    "kernelspec": {
      "name": "python3",
      "display_name": "Python 3"
    },
    "language_info": {
      "name": "python"
    }
  },
  "cells": [
    {
      "cell_type": "markdown",
      "metadata": {
        "id": "view-in-github",
        "colab_type": "text"
      },
      "source": [
        "<a href=\"https://colab.research.google.com/github/Hawawou/WTM-100-DOC/blob/main/Day10.ipynb\" target=\"_parent\"><img src=\"https://colab.research.google.com/assets/colab-badge.svg\" alt=\"Open In Colab\"/></a>"
      ]
    },
    {
      "cell_type": "code",
      "metadata": {
        "colab": {
          "base_uri": "https://localhost:8080/"
        },
        "id": "yXVkpfpWjmej",
        "outputId": "ae12cacc-7a84-4617-c3ad-531de35f2add"
      },
      "source": [
        "#for loops\n",
        "a = [1, 2, 3, 4, 5]\n",
        "for i in a:\n",
        "  print(i)\n"
      ],
      "execution_count": null,
      "outputs": [
        {
          "output_type": "stream",
          "name": "stdout",
          "text": [
            "1\n",
            "2\n",
            "3\n",
            "4\n",
            "5\n"
          ]
        }
      ]
    },
    {
      "cell_type": "code",
      "metadata": {
        "colab": {
          "base_uri": "https://localhost:8080/"
        },
        "id": "X8g_aELtjCQD",
        "outputId": "78784c9a-96bb-4701-9fcd-bc6c34f7b9f8"
      },
      "source": [
        "#iter\n",
        "iter('foobar')"
      ],
      "execution_count": null,
      "outputs": [
        {
          "output_type": "execute_result",
          "data": {
            "text/plain": [
              "<str_iterator at 0x7f8520d0c050>"
            ]
          },
          "metadata": {},
          "execution_count": 3
        }
      ]
    },
    {
      "cell_type": "markdown",
      "metadata": {
        "id": "5nALBOsGkFcd"
      },
      "source": [
        "An iterable is an object that can be used in iteration. An iteration is a repetitive execution of the same block of code over and over"
      ]
    },
    {
      "cell_type": "code",
      "metadata": {
        "colab": {
          "base_uri": "https://localhost:8080/"
        },
        "id": "6p_Yhq-ljX6l",
        "outputId": "9113591c-8cdf-451f-bcdd-c145531dc4c5"
      },
      "source": [
        "iter(a)"
      ],
      "execution_count": null,
      "outputs": [
        {
          "output_type": "execute_result",
          "data": {
            "text/plain": [
              "<list_iterator at 0x7f8520cc2610>"
            ]
          },
          "metadata": {},
          "execution_count": 5
        }
      ]
    },
    {
      "cell_type": "code",
      "metadata": {
        "colab": {
          "base_uri": "https://localhost:8080/"
        },
        "id": "Rvg-Mw71rTe7",
        "outputId": "8bc72103-20c3-484a-f46c-3056f71cfdf0"
      },
      "source": [
        "iter({'foo', 'bar','baz'})"
      ],
      "execution_count": null,
      "outputs": [
        {
          "output_type": "execute_result",
          "data": {
            "text/plain": [
              "<set_iterator at 0x7f851cc44c30>"
            ]
          },
          "metadata": {},
          "execution_count": 7
        }
      ]
    },
    {
      "cell_type": "code",
      "metadata": {
        "colab": {
          "base_uri": "https://localhost:8080/"
        },
        "id": "NwcPL5ivr4IE",
        "outputId": "085c0b61-6147-4e0e-f7c2-a18a43f826bb"
      },
      "source": [
        "iter(['foo', 'bar', 'baz'])"
      ],
      "execution_count": null,
      "outputs": [
        {
          "output_type": "execute_result",
          "data": {
            "text/plain": [
              "<list_iterator at 0x7f851cbe5c10>"
            ]
          },
          "metadata": {},
          "execution_count": 9
        }
      ]
    },
    {
      "cell_type": "markdown",
      "metadata": {
        "id": "KUG5Kz68szD3"
      },
      "source": [
        "strings, list, tuple, dict, set and frozenset are iterable"
      ]
    },
    {
      "cell_type": "code",
      "metadata": {
        "colab": {
          "base_uri": "https://localhost:8080/"
        },
        "id": "6fP3VL4er-Tt",
        "outputId": "94db8554-a9aa-4530-a8fe-bd842bcdcdd9"
      },
      "source": [
        "itr = iter(a)\n",
        "itr"
      ],
      "execution_count": null,
      "outputs": [
        {
          "output_type": "execute_result",
          "data": {
            "text/plain": [
              "<list_iterator at 0x7f851cbe1050>"
            ]
          },
          "metadata": {},
          "execution_count": 11
        }
      ]
    },
    {
      "cell_type": "code",
      "metadata": {
        "colab": {
          "base_uri": "https://localhost:8080/"
        },
        "id": "pB75TtZrtc64",
        "outputId": "5d9ab4a9-2216-4ac8-d303-a3972f936923"
      },
      "source": [
        "next(itr)"
      ],
      "execution_count": null,
      "outputs": [
        {
          "output_type": "execute_result",
          "data": {
            "text/plain": [
              "2"
            ]
          },
          "metadata": {},
          "execution_count": 13
        }
      ]
    },
    {
      "cell_type": "markdown",
      "metadata": {
        "id": "E6c4tP0_m8Gv"
      },
      "source": [
        "next() obtains the next value"
      ]
    },
    {
      "cell_type": "code",
      "metadata": {
        "colab": {
          "base_uri": "https://localhost:8080/"
        },
        "id": "acCmo5ikuIGc",
        "outputId": "476fac4f-d020-4ceb-b9b3-cd27c406b21c"
      },
      "source": [
        "next(itr)"
      ],
      "execution_count": null,
      "outputs": [
        {
          "output_type": "execute_result",
          "data": {
            "text/plain": [
              "4"
            ]
          },
          "metadata": {},
          "execution_count": 15
        }
      ]
    },
    {
      "cell_type": "code",
      "metadata": {
        "colab": {
          "base_uri": "https://localhost:8080/",
          "height": 163
        },
        "id": "pgnlF73IuL8d",
        "outputId": "e7b277da-d8ae-4725-c975-a59fafac4d88"
      },
      "source": [
        "#all values have been called. StopIteration error is raised\n",
        "next(itr) "
      ],
      "execution_count": null,
      "outputs": [
        {
          "output_type": "error",
          "ename": "StopIteration",
          "evalue": "ignored",
          "traceback": [
            "\u001b[0;31m---------------------------------------------------------------------------\u001b[0m",
            "\u001b[0;31mStopIteration\u001b[0m                             Traceback (most recent call last)",
            "\u001b[0;32m<ipython-input-17-6693cc261707>\u001b[0m in \u001b[0;36m<module>\u001b[0;34m()\u001b[0m\n\u001b[0;32m----> 1\u001b[0;31m \u001b[0mnext\u001b[0m\u001b[0;34m(\u001b[0m\u001b[0mitr\u001b[0m\u001b[0;34m)\u001b[0m\u001b[0;34m\u001b[0m\u001b[0;34m\u001b[0m\u001b[0m\n\u001b[0m",
            "\u001b[0;31mStopIteration\u001b[0m: "
          ]
        }
      ]
    },
    {
      "cell_type": "code",
      "metadata": {
        "id": "p3Q0jbDSwkP1",
        "colab": {
          "base_uri": "https://localhost:8080/"
        },
        "outputId": "53808d83-c9fc-4d96-d781-f5dfb4a7092d"
      },
      "source": [
        "a = ['foo', 'bar', 'baz']\n",
        "a"
      ],
      "execution_count": 3,
      "outputs": [
        {
          "output_type": "execute_result",
          "data": {
            "text/plain": [
              "['foo', 'bar', 'baz']"
            ]
          },
          "metadata": {},
          "execution_count": 3
        }
      ]
    },
    {
      "cell_type": "code",
      "metadata": {
        "colab": {
          "base_uri": "https://localhost:8080/",
          "height": 35
        },
        "id": "uU6I7tFlniER",
        "outputId": "4810b076-6428-48c0-c947-dc735554c5dc"
      },
      "source": [
        "itr1 = iter(a)\n",
        "itr2 = iter(a)\n",
        "next(itr1)\n"
      ],
      "execution_count": 6,
      "outputs": [
        {
          "output_type": "execute_result",
          "data": {
            "application/vnd.google.colaboratory.intrinsic+json": {
              "type": "string"
            },
            "text/plain": [
              "'foo'"
            ]
          },
          "metadata": {},
          "execution_count": 6
        }
      ]
    },
    {
      "cell_type": "code",
      "metadata": {
        "colab": {
          "base_uri": "https://localhost:8080/",
          "height": 35
        },
        "id": "xS8mCI5nnvQs",
        "outputId": "5229fbdf-5f83-4faa-83c4-16e8e6011b41"
      },
      "source": [
        "next(itr1)"
      ],
      "execution_count": 8,
      "outputs": [
        {
          "output_type": "execute_result",
          "data": {
            "application/vnd.google.colaboratory.intrinsic+json": {
              "type": "string"
            },
            "text/plain": [
              "'baz'"
            ]
          },
          "metadata": {},
          "execution_count": 8
        }
      ]
    },
    {
      "cell_type": "code",
      "metadata": {
        "colab": {
          "base_uri": "https://localhost:8080/",
          "height": 163
        },
        "id": "IIqlRKOcnxxQ",
        "outputId": "42484e9f-b5f6-4708-b9c1-3c82a3c9ff03"
      },
      "source": [
        "next(itr1)"
      ],
      "execution_count": 10,
      "outputs": [
        {
          "output_type": "error",
          "ename": "StopIteration",
          "evalue": "ignored",
          "traceback": [
            "\u001b[0;31m---------------------------------------------------------------------------\u001b[0m",
            "\u001b[0;31mStopIteration\u001b[0m                             Traceback (most recent call last)",
            "\u001b[0;32m<ipython-input-10-0d1040ceefae>\u001b[0m in \u001b[0;36m<module>\u001b[0;34m()\u001b[0m\n\u001b[0;32m----> 1\u001b[0;31m \u001b[0mnext\u001b[0m\u001b[0;34m(\u001b[0m\u001b[0mitr1\u001b[0m\u001b[0;34m)\u001b[0m\u001b[0;34m\u001b[0m\u001b[0;34m\u001b[0m\u001b[0m\n\u001b[0m",
            "\u001b[0;31mStopIteration\u001b[0m: "
          ]
        }
      ]
    },
    {
      "cell_type": "code",
      "metadata": {
        "colab": {
          "base_uri": "https://localhost:8080/"
        },
        "id": "WdQyluagqA7P",
        "outputId": "4c5f9ce3-fad5-444b-cf56-113ea9a9d329"
      },
      "source": [
        "x = ['python', 'java', 'php', 'ruby']\n",
        "itr = iter(x)\n",
        "list(itr)"
      ],
      "execution_count": 12,
      "outputs": [
        {
          "output_type": "execute_result",
          "data": {
            "text/plain": [
              "['python', 'java', 'php', 'ruby']"
            ]
          },
          "metadata": {},
          "execution_count": 12
        }
      ]
    },
    {
      "cell_type": "code",
      "metadata": {
        "colab": {
          "base_uri": "https://localhost:8080/"
        },
        "id": "6DW3n65Pvwd2",
        "outputId": "4db62e3f-5a1a-4404-d119-6fd5f720a4a5"
      },
      "source": [
        "x = ['python', 'java', 'php', 'ruby']\n",
        "itr = iter(x)\n",
        "tuple(itr)"
      ],
      "execution_count": 15,
      "outputs": [
        {
          "output_type": "execute_result",
          "data": {
            "text/plain": [
              "('python', 'java', 'php', 'ruby')"
            ]
          },
          "metadata": {},
          "execution_count": 15
        }
      ]
    },
    {
      "cell_type": "code",
      "metadata": {
        "colab": {
          "base_uri": "https://localhost:8080/"
        },
        "id": "iPA5nMSKwAZk",
        "outputId": "d627a310-05d9-437c-8776-8075a659488b"
      },
      "source": [
        "x = ['python', 'java', 'php', 'ruby']\n",
        "itr = iter(x)\n",
        "set(itr)"
      ],
      "execution_count": 17,
      "outputs": [
        {
          "output_type": "execute_result",
          "data": {
            "text/plain": [
              "{'java', 'php', 'python', 'ruby'}"
            ]
          },
          "metadata": {},
          "execution_count": 17
        }
      ]
    },
    {
      "cell_type": "code",
      "metadata": {
        "colab": {
          "base_uri": "https://localhost:8080/"
        },
        "id": "VWe4IUIhyWqK",
        "outputId": "0eecee19-6c51-450f-87cd-c293cc8e9c6f"
      },
      "source": [
        "y = ['python', 'java', 'php', 'ruby']\n",
        "for i in y:\n",
        "  print(i)\n"
      ],
      "execution_count": 22,
      "outputs": [
        {
          "output_type": "stream",
          "name": "stdout",
          "text": [
            "python\n",
            "java\n",
            "php\n",
            "ruby\n"
          ]
        }
      ]
    },
    {
      "cell_type": "code",
      "metadata": {
        "colab": {
          "base_uri": "https://localhost:8080/"
        },
        "id": "u9Fk0scC0ArO",
        "outputId": "c1f8ea49-2037-4380-a763-b166c533f44a"
      },
      "source": [
        "#iterating through a dictionary\n",
        "d = {'python': 1, 'java': 2, 'php': 3, 'ruby': 4} \n",
        "for i in d:\n",
        "  print(i)"
      ],
      "execution_count": 24,
      "outputs": [
        {
          "output_type": "stream",
          "name": "stdout",
          "text": [
            "python\n",
            "java\n",
            "php\n",
            "ruby\n"
          ]
        }
      ]
    },
    {
      "cell_type": "markdown",
      "metadata": {
        "id": "GKwOTfA304KV"
      },
      "source": [
        "iterating through a dictionary assigns the var to the key  "
      ]
    },
    {
      "cell_type": "code",
      "metadata": {
        "colab": {
          "base_uri": "https://localhost:8080/"
        },
        "id": "NaxmwwSB1G-o",
        "outputId": "f96c8739-671e-45b4-8832-c5c5b87baaa4"
      },
      "source": [
        "#assigning dictionary value\n",
        "for i in d:\n",
        "  print(d[i])"
      ],
      "execution_count": 27,
      "outputs": [
        {
          "output_type": "stream",
          "name": "stdout",
          "text": [
            "1\n",
            "2\n",
            "3\n",
            "4\n"
          ]
        }
      ]
    },
    {
      "cell_type": "code",
      "metadata": {
        "colab": {
          "base_uri": "https://localhost:8080/"
        },
        "id": "I9RPSXu01Y1s",
        "outputId": "e482680a-81a0-481f-d897-d568fd105c4b"
      },
      "source": [
        "#alternatively\n",
        "for a in d.values():\n",
        "  print(a)"
      ],
      "execution_count": 30,
      "outputs": [
        {
          "output_type": "stream",
          "name": "stdout",
          "text": [
            "1\n",
            "2\n",
            "3\n",
            "4\n"
          ]
        }
      ]
    },
    {
      "cell_type": "code",
      "metadata": {
        "colab": {
          "base_uri": "https://localhost:8080/"
        },
        "id": "o9a0sXi31odI",
        "outputId": "ed32d0b9-b17c-4ec0-ce8e-36f416ebfd23"
      },
      "source": [
        "#getting both the keys and values\n",
        "d = {'python': 1, 'java': 2, 'php': 3, 'ruby': 4} \n",
        "for i, a in d.items():\n",
        "  print('i =', i, ', a =', a)"
      ],
      "execution_count": 36,
      "outputs": [
        {
          "output_type": "stream",
          "name": "stdout",
          "text": [
            "i = python , a = 1\n",
            "i = java , a = 2\n",
            "i = php , a = 3\n",
            "i = ruby , a = 4\n"
          ]
        }
      ]
    },
    {
      "cell_type": "code",
      "metadata": {
        "colab": {
          "base_uri": "https://localhost:8080/"
        },
        "id": "1kNacyFW5UUc",
        "outputId": "2a8e8bf6-9e41-45ce-9d6c-a2dddc0a4d8b"
      },
      "source": [
        "#range() function\n",
        "x = range(8)\n",
        "list(x)\n",
        "# for n in x:\n",
        "  # print(n)"
      ],
      "execution_count": 40,
      "outputs": [
        {
          "output_type": "execute_result",
          "data": {
            "text/plain": [
              "[0, 1, 2, 3, 4, 5, 6, 7]"
            ]
          },
          "metadata": {},
          "execution_count": 40
        }
      ]
    },
    {
      "cell_type": "code",
      "metadata": {
        "colab": {
          "base_uri": "https://localhost:8080/"
        },
        "id": "FA69Bnqt6mZb",
        "outputId": "f6cbdc1b-bb86-4d87-ab04-14090496ae6f"
      },
      "source": [
        "tuple(x)\n",
        "set(x)"
      ],
      "execution_count": 43,
      "outputs": [
        {
          "output_type": "execute_result",
          "data": {
            "text/plain": [
              "{0, 1, 2, 3, 4, 5, 6, 7}"
            ]
          },
          "metadata": {},
          "execution_count": 43
        }
      ]
    },
    {
      "cell_type": "code",
      "metadata": {
        "colab": {
          "base_uri": "https://localhost:8080/"
        },
        "id": "af157fe77Zdk",
        "outputId": "fd845bc1-8c67-4dbc-c518-0390ff48340a"
      },
      "source": [
        "#break and continue statement\n",
        "for i in y:\n",
        "  if 'j' in i:\n",
        "    break\n",
        "  print(i)\n"
      ],
      "execution_count": 45,
      "outputs": [
        {
          "output_type": "stream",
          "name": "stdout",
          "text": [
            "python\n"
          ]
        }
      ]
    },
    {
      "cell_type": "code",
      "metadata": {
        "colab": {
          "base_uri": "https://localhost:8080/"
        },
        "id": "5GCxt6sO73JE",
        "outputId": "b2994c39-fa0a-4e83-bfc8-9a92be409f84"
      },
      "source": [
        "for i in y:\n",
        "  if 'j' in i:\n",
        "    continue\n",
        "  print(i)"
      ],
      "execution_count": 48,
      "outputs": [
        {
          "output_type": "stream",
          "name": "stdout",
          "text": [
            "python\n",
            "php\n",
            "ruby\n"
          ]
        }
      ]
    },
    {
      "cell_type": "code",
      "metadata": {
        "colab": {
          "base_uri": "https://localhost:8080/"
        },
        "id": "2UofkHbP8Ds3",
        "outputId": "1b23e4c6-75a1-4e8e-9aad-a41ab0ed27a0"
      },
      "source": [
        "#else clause\n",
        "for i in y:\n",
        "  print(i)\n",
        "else:\n",
        "  print('Done!')"
      ],
      "execution_count": 51,
      "outputs": [
        {
          "output_type": "stream",
          "name": "stdout",
          "text": [
            "python\n",
            "java\n",
            "php\n",
            "ruby\n",
            "Done!\n"
          ]
        }
      ]
    },
    {
      "cell_type": "code",
      "metadata": {
        "colab": {
          "base_uri": "https://localhost:8080/"
        },
        "id": "VgJR9UAo8Txp",
        "outputId": "d88f64ab-2475-41f8-a82d-2e60eeed269a"
      },
      "source": [
        "for i in y:\n",
        "  if i == 'php':\n",
        "    break\n",
        "  print(i)\n",
        "else:\n",
        "  print('Done!')\n",
        "  "
      ],
      "execution_count": 52,
      "outputs": [
        {
          "output_type": "stream",
          "name": "stdout",
          "text": [
            "python\n",
            "java\n"
          ]
        }
      ]
    }
  ]
}