{
  "nbformat": 4,
  "nbformat_minor": 0,
  "metadata": {
    "colab": {
      "name": "Day12.ipynb",
      "provenance": [],
      "authorship_tag": "ABX9TyNG7mo4yOcfW1fIguyVsv1w",
      "include_colab_link": true
    },
    "kernelspec": {
      "name": "python3",
      "display_name": "Python 3"
    },
    "language_info": {
      "name": "python"
    }
  },
  "cells": [
    {
      "cell_type": "markdown",
      "metadata": {
        "id": "view-in-github",
        "colab_type": "text"
      },
      "source": [
        "<a href=\"https://colab.research.google.com/github/Hawawou/WTM-100-DOC/blob/main/Day12.ipynb\" target=\"_parent\"><img src=\"https://colab.research.google.com/assets/colab-badge.svg\" alt=\"Open In Colab\"/></a>"
      ]
    },
    {
      "cell_type": "code",
      "metadata": {
        "id": "1Pe7Eh-FaskB",
        "colab": {
          "base_uri": "https://localhost:8080/"
        },
        "outputId": "df6b23da-78df-4485-8da2-bfc1fbb88029"
      },
      "source": [
        "#data types\n",
        "#integers\n",
        "x = 2386745654687\n",
        "x\n"
      ],
      "execution_count": 2,
      "outputs": [
        {
          "output_type": "execute_result",
          "data": {
            "text/plain": [
              "2386745654687"
            ]
          },
          "metadata": {},
          "execution_count": 2
        }
      ]
    },
    {
      "cell_type": "code",
      "metadata": {
        "colab": {
          "base_uri": "https://localhost:8080/"
        },
        "id": "-7PexxQ3ETaS",
        "outputId": "efd5cee2-63ce-45cc-eb26-758bb74013e9"
      },
      "source": [
        "#base other than base 10\n",
        "print(0o10) #octal base 8"
      ],
      "execution_count": 6,
      "outputs": [
        {
          "output_type": "stream",
          "name": "stdout",
          "text": [
            "8\n"
          ]
        }
      ]
    },
    {
      "cell_type": "code",
      "metadata": {
        "colab": {
          "base_uri": "https://localhost:8080/"
        },
        "id": "micZDre2ExjG",
        "outputId": "2a1947a1-723f-4b41-ffde-fdae7aa4a52c"
      },
      "source": [
        "print(0x10) #hexadecimal base 16"
      ],
      "execution_count": 8,
      "outputs": [
        {
          "output_type": "stream",
          "name": "stdout",
          "text": [
            "16\n"
          ]
        }
      ]
    },
    {
      "cell_type": "code",
      "metadata": {
        "colab": {
          "base_uri": "https://localhost:8080/"
        },
        "id": "KnTYTc7CE2EI",
        "outputId": "520d12df-8e65-4d0e-eb9c-34e955fc22d6"
      },
      "source": [
        "print(0b10) #base 2"
      ],
      "execution_count": 10,
      "outputs": [
        {
          "output_type": "stream",
          "name": "stdout",
          "text": [
            "2\n"
          ]
        }
      ]
    },
    {
      "cell_type": "code",
      "metadata": {
        "colab": {
          "base_uri": "https://localhost:8080/"
        },
        "id": "0I3K94OeFCyG",
        "outputId": "35a4d683-dd2e-4c3e-f822-d9d2075bb2cf"
      },
      "source": [
        "#floating point numbers\n",
        "print(326.3867)"
      ],
      "execution_count": 12,
      "outputs": [
        {
          "output_type": "stream",
          "name": "stdout",
          "text": [
            "326.3867\n"
          ]
        }
      ]
    },
    {
      "cell_type": "code",
      "metadata": {
        "colab": {
          "base_uri": "https://localhost:8080/"
        },
        "id": "fhPQK5cFFXW9",
        "outputId": "9e3f1fd5-5daf-49bd-c8a0-85780fe8f6cb"
      },
      "source": [
        "type(56.23)"
      ],
      "execution_count": 14,
      "outputs": [
        {
          "output_type": "execute_result",
          "data": {
            "text/plain": [
              "float"
            ]
          },
          "metadata": {},
          "execution_count": 14
        }
      ]
    },
    {
      "cell_type": "code",
      "metadata": {
        "colab": {
          "base_uri": "https://localhost:8080/"
        },
        "id": "tcqbJqc-FcOo",
        "outputId": "31187662-302f-474a-ff17-4c056c53d97d"
      },
      "source": [
        ".2"
      ],
      "execution_count": 16,
      "outputs": [
        {
          "output_type": "execute_result",
          "data": {
            "text/plain": [
              "0.2"
            ]
          },
          "metadata": {},
          "execution_count": 16
        }
      ]
    },
    {
      "cell_type": "code",
      "metadata": {
        "colab": {
          "base_uri": "https://localhost:8080/"
        },
        "id": "L6ni4SeDFftK",
        "outputId": "031b68ae-81f0-4345-fea2-fea53f175225"
      },
      "source": [
        "0x564\n"
      ],
      "execution_count": 18,
      "outputs": [
        {
          "output_type": "execute_result",
          "data": {
            "text/plain": [
              "1380"
            ]
          },
          "metadata": {},
          "execution_count": 18
        }
      ]
    },
    {
      "cell_type": "code",
      "metadata": {
        "colab": {
          "base_uri": "https://localhost:8080/"
        },
        "id": "7x9cHXl1FjMn",
        "outputId": "522d5e22-c68c-470a-fab0-9b3ff843cb4e"
      },
      "source": [
        "0b10"
      ],
      "execution_count": 21,
      "outputs": [
        {
          "output_type": "execute_result",
          "data": {
            "text/plain": [
              "2"
            ]
          },
          "metadata": {},
          "execution_count": 21
        }
      ]
    },
    {
      "cell_type": "code",
      "metadata": {
        "colab": {
          "base_uri": "https://localhost:8080/"
        },
        "id": "XEEaHcv6FpUd",
        "outputId": "c7fa2b6b-ce00-4525-c78e-d10b4bf49bd5"
      },
      "source": [
        ".4e7 #exponetial"
      ],
      "execution_count": 23,
      "outputs": [
        {
          "output_type": "execute_result",
          "data": {
            "text/plain": [
              "4000000.0"
            ]
          },
          "metadata": {},
          "execution_count": 23
        }
      ]
    },
    {
      "cell_type": "code",
      "metadata": {
        "colab": {
          "base_uri": "https://localhost:8080/"
        },
        "id": "PDgf_Su3FxVu",
        "outputId": "bb3095a2-3096-45e4-f1fb-c48ce5cd9e3e"
      },
      "source": [
        "23e-4"
      ],
      "execution_count": 26,
      "outputs": [
        {
          "output_type": "execute_result",
          "data": {
            "text/plain": [
              "0.0023"
            ]
          },
          "metadata": {},
          "execution_count": 26
        }
      ]
    },
    {
      "cell_type": "code",
      "metadata": {
        "colab": {
          "base_uri": "https://localhost:8080/"
        },
        "id": "RZ837RkAGVP7",
        "outputId": "26505a67-13b4-4e6d-ef31-3dd283b52f6a"
      },
      "source": [
        "#complex numbers\n",
        "x = 2+6j\n",
        "x"
      ],
      "execution_count": 29,
      "outputs": [
        {
          "output_type": "execute_result",
          "data": {
            "text/plain": [
              "(2+6j)"
            ]
          },
          "metadata": {},
          "execution_count": 29
        }
      ]
    },
    {
      "cell_type": "code",
      "metadata": {
        "colab": {
          "base_uri": "https://localhost:8080/"
        },
        "id": "HatBWRh1Grdb",
        "outputId": "6c17976f-41f0-41be-f96e-2f30b5f7d8c2"
      },
      "source": [
        "type(x)"
      ],
      "execution_count": 31,
      "outputs": [
        {
          "output_type": "execute_result",
          "data": {
            "text/plain": [
              "complex"
            ]
          },
          "metadata": {},
          "execution_count": 31
        }
      ]
    },
    {
      "cell_type": "code",
      "metadata": {
        "colab": {
          "base_uri": "https://localhost:8080/",
          "height": 35
        },
        "id": "BALDKbuZGyGE",
        "outputId": "7628afa1-d635-4ee4-933f-89793dd5f18f"
      },
      "source": [
        "#strings\n",
        "y = \"Hello world!\"\n",
        "y\n"
      ],
      "execution_count": 33,
      "outputs": [
        {
          "output_type": "execute_result",
          "data": {
            "application/vnd.google.colaboratory.intrinsic+json": {
              "type": "string"
            },
            "text/plain": [
              "'Hello world!'"
            ]
          },
          "metadata": {},
          "execution_count": 33
        }
      ]
    },
    {
      "cell_type": "code",
      "metadata": {
        "colab": {
          "base_uri": "https://localhost:8080/"
        },
        "id": "M881qJiVG7rP",
        "outputId": "6a25fa38-f2f3-49b2-c08c-0d455d2827ad"
      },
      "source": [
        "type(y)"
      ],
      "execution_count": 35,
      "outputs": [
        {
          "output_type": "execute_result",
          "data": {
            "text/plain": [
              "str"
            ]
          },
          "metadata": {},
          "execution_count": 35
        }
      ]
    },
    {
      "cell_type": "code",
      "metadata": {
        "colab": {
          "base_uri": "https://localhost:8080/"
        },
        "id": "kT29M6nLG9QN",
        "outputId": "bce243aa-e71f-4b50-a89e-06597098fe3f"
      },
      "source": [
        "#including quote character\n",
        "print(\"I'm a future data scientist\")"
      ],
      "execution_count": 38,
      "outputs": [
        {
          "output_type": "stream",
          "name": "stdout",
          "text": [
            "I'm a future data scientist\n"
          ]
        }
      ]
    },
    {
      "cell_type": "code",
      "metadata": {
        "colab": {
          "base_uri": "https://localhost:8080/"
        },
        "id": "vOb34h-NHXzT",
        "outputId": "744e6b50-c27a-4943-bbfe-1c4133569b30"
      },
      "source": [
        "print('Hey how \"are you\"?')"
      ],
      "execution_count": 41,
      "outputs": [
        {
          "output_type": "stream",
          "name": "stdout",
          "text": [
            "Hey how \"are you\"?\n"
          ]
        }
      ]
    },
    {
      "cell_type": "code",
      "metadata": {
        "colab": {
          "base_uri": "https://localhost:8080/"
        },
        "id": "aCEtydrkHf-F",
        "outputId": "7cd5aadf-62d1-4301-8fa0-14a270c7ad96"
      },
      "source": [
        "print('This is a string that contains a single \\' character ')"
      ],
      "execution_count": 43,
      "outputs": [
        {
          "output_type": "stream",
          "name": "stdout",
          "text": [
            "This is a string that contains a single ' character \n"
          ]
        }
      ]
    },
    {
      "cell_type": "code",
      "metadata": {
        "colab": {
          "base_uri": "https://localhost:8080/"
        },
        "id": "lkD49c_XIZSu",
        "outputId": "847734ff-d5d5-4783-ba1c-7ab0c47a5d6e"
      },
      "source": [
        "print('foo\\tbar')  #\\t inserts a tab"
      ],
      "execution_count": 45,
      "outputs": [
        {
          "output_type": "stream",
          "name": "stdout",
          "text": [
            "foo\tbar\n"
          ]
        }
      ]
    },
    {
      "cell_type": "code",
      "metadata": {
        "colab": {
          "base_uri": "https://localhost:8080/"
        },
        "id": "NTtvgOhUIg50",
        "outputId": "6e9461a9-9939-4018-aec5-7ce18cdc1ed2"
      },
      "source": [
        "#boolean type\n",
        "type(True)"
      ],
      "execution_count": 2,
      "outputs": [
        {
          "output_type": "execute_result",
          "data": {
            "text/plain": [
              "bool"
            ]
          },
          "metadata": {},
          "execution_count": 2
        }
      ]
    },
    {
      "cell_type": "code",
      "metadata": {
        "colab": {
          "base_uri": "https://localhost:8080/"
        },
        "id": "_spfuIUPj55p",
        "outputId": "90fa4ef3-055d-420f-84b4-76a01984a9c8"
      },
      "source": [
        "a = 20\n",
        "if a % 2 == 0:\n",
        "  print(True)\n",
        "else:\n",
        "  print(False)"
      ],
      "execution_count": 4,
      "outputs": [
        {
          "output_type": "stream",
          "name": "stdout",
          "text": [
            "True\n"
          ]
        }
      ]
    },
    {
      "cell_type": "code",
      "metadata": {
        "colab": {
          "base_uri": "https://localhost:8080/"
        },
        "id": "Jx8ucn4AlZIo",
        "outputId": "e082173a-b85c-4431-e901-133ec5e2247a"
      },
      "source": [
        "#built-in functions\n",
        "abs(23.34)"
      ],
      "execution_count": 6,
      "outputs": [
        {
          "output_type": "execute_result",
          "data": {
            "text/plain": [
              "23.34"
            ]
          },
          "metadata": {},
          "execution_count": 6
        }
      ]
    },
    {
      "cell_type": "code",
      "metadata": {
        "id": "BHeJNNPnmAbP"
      },
      "source": [
        ""
      ],
      "execution_count": 8,
      "outputs": []
    }
  ]
}