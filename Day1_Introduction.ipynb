{
  "nbformat": 4,
  "nbformat_minor": 0,
  "metadata": {
    "colab": {
      "name": "Day1-Introduction.ipynb",
      "provenance": [],
      "collapsed_sections": [],
      "authorship_tag": "ABX9TyOgpvrWyHftCayKCVZUuVLl",
      "include_colab_link": true
    },
    "kernelspec": {
      "name": "python3",
      "display_name": "Python 3"
    },
    "language_info": {
      "name": "python"
    }
  },
  "cells": [
    {
      "cell_type": "markdown",
      "metadata": {
        "id": "view-in-github",
        "colab_type": "text"
      },
      "source": [
        "<a href=\"https://colab.research.google.com/github/Hawawou/WTM-100-DOC/blob/main/Day1_Introduction.ipynb\" target=\"_parent\"><img src=\"https://colab.research.google.com/assets/colab-badge.svg\" alt=\"Open In Colab\"/></a>"
      ]
    },
    {
      "cell_type": "code",
      "metadata": {
        "colab": {
          "base_uri": "https://localhost:8080/"
        },
        "id": "nuwnQJrSlOKj",
        "outputId": "a0ac080a-c8f5-405d-8e22-a75d1b6b5842"
      },
      "source": [
        "def addUp(arr, p):\n",
        "  for i in arr:\n",
        "    if p - i in arr:\n",
        "      return True\n",
        "    else:\n",
        "      return False\n",
        "\n",
        "#Examples\n",
        "print(addUp([12, 10, 9, 6], 18))\n",
        "print(addUp([56, 20, 1, 45], 50))\n",
        "\n",
        "\n"
      ],
      "execution_count": null,
      "outputs": [
        {
          "output_type": "stream",
          "text": [
            "True\n",
            "False\n"
          ],
          "name": "stdout"
        }
      ]
    },
    {
      "cell_type": "code",
      "metadata": {
        "colab": {
          "base_uri": "https://localhost:8080/"
        },
        "id": "q5UZDCzoxcLg",
        "outputId": "714a5543-b10e-4f22-d482-00df0ca9ad68"
      },
      "source": [
        "#Day 2\n",
        "#creating variables\n",
        "sample_variable=\"Hello world\"\n",
        "print (sample_variable)\n",
        "\n"
      ],
      "execution_count": null,
      "outputs": [
        {
          "output_type": "stream",
          "text": [
            "Hello world\n"
          ],
          "name": "stdout"
        }
      ]
    },
    {
      "cell_type": "code",
      "metadata": {
        "colab": {
          "base_uri": "https://localhost:8080/",
          "height": 129
        },
        "id": "-ltV8y2A1uer",
        "outputId": "c8944c07-9c52-4369-a5e9-152027b5f8c5"
      },
      "source": [
        "#Variable names that do not work\n",
        "#*name = Hawa - variable names cannot start with special characters \n",
        "#4greetings = \"Good morning\" - variable name cannot start with a number\n",
        "#my-name = \"Hawa\" - should be separated by an underscore\n",
        "#my name = \"Hawa\" - should be separated by an underscore\n",
        "#.my_name=\"Hawa\"\n",
        "\n"
      ],
      "execution_count": null,
      "outputs": [
        {
          "output_type": "error",
          "ename": "SyntaxError",
          "evalue": "ignored",
          "traceback": [
            "\u001b[0;36m  File \u001b[0;32m\"<ipython-input-9-7265b9bdb774>\"\u001b[0;36m, line \u001b[0;32m6\u001b[0m\n\u001b[0;31m    .my_name=\"Hawa\"\u001b[0m\n\u001b[0m    ^\u001b[0m\n\u001b[0;31mSyntaxError\u001b[0m\u001b[0;31m:\u001b[0m invalid syntax\n"
          ]
        }
      ]
    },
    {
      "cell_type": "code",
      "metadata": {
        "colab": {
          "base_uri": "https://localhost:8080/"
        },
        "id": "XF5Z35Z2hk0q",
        "outputId": "db159ee4-aa20-46a8-d4fc-f45851f122b4"
      },
      "source": [
        "#Day 3\n",
        "var1 = 2+2 #data type - integer\n",
        "print (var1)"
      ],
      "execution_count": null,
      "outputs": [
        {
          "output_type": "stream",
          "text": [
            "4\n"
          ],
          "name": "stdout"
        }
      ]
    },
    {
      "cell_type": "markdown",
      "metadata": {
        "id": "0M8JD_08qtjR"
      },
      "source": [
        "the variable stores the value of 2+2"
      ]
    },
    {
      "cell_type": "code",
      "metadata": {
        "colab": {
          "base_uri": "https://localhost:8080/"
        },
        "id": "B_kcMWcS2Cl8",
        "outputId": "fdfb142b-b2a0-4532-dd22-6f6bc075ef89"
      },
      "source": [
        "var2 = 3+2/5 #data type - float\n",
        "print (var2)"
      ],
      "execution_count": null,
      "outputs": [
        {
          "output_type": "stream",
          "text": [
            "3.4\n"
          ],
          "name": "stdout"
        }
      ]
    },
    {
      "cell_type": "markdown",
      "metadata": {
        "id": "0VJR5sFQrzo7"
      },
      "source": [
        "3 is added with the floating point number 2/5 and stored in var2"
      ]
    },
    {
      "cell_type": "code",
      "metadata": {
        "colab": {
          "base_uri": "https://localhost:8080/"
        },
        "id": "dl1dZ_kOlC8f",
        "outputId": "55510af6-bb8d-44c1-9d2b-96e83beb77ed"
      },
      "source": [
        "var3 = 4*16 # data type - integer\n",
        "print (var3)"
      ],
      "execution_count": null,
      "outputs": [
        {
          "output_type": "stream",
          "text": [
            "64\n"
          ],
          "name": "stdout"
        }
      ]
    },
    {
      "cell_type": "markdown",
      "metadata": {
        "id": "gS5kGPXar-6C"
      },
      "source": [
        "4 is multiplied by 16 and the value stored in var 3"
      ]
    },
    {
      "cell_type": "code",
      "metadata": {
        "id": "qjMOO_7el-qq",
        "colab": {
          "base_uri": "https://localhost:8080/"
        },
        "outputId": "91f5ec50-3df2-4322-f4da-001185491ad3"
      },
      "source": [
        "var4 = 4**6 #integer\n",
        "print (var4)"
      ],
      "execution_count": 9,
      "outputs": [
        {
          "output_type": "stream",
          "text": [
            "4096\n"
          ],
          "name": "stdout"
        }
      ]
    },
    {
      "cell_type": "markdown",
      "metadata": {
        "id": "fIzgdSRfsHBS"
      },
      "source": [
        "4 is multiplied 6 times"
      ]
    },
    {
      "cell_type": "code",
      "metadata": {
        "colab": {
          "base_uri": "https://localhost:8080/"
        },
        "id": "wbTIzOkYoxx_",
        "outputId": "ace4c284-dbbe-4bd9-d63e-1c2e5c5af198"
      },
      "source": [
        "var5 = 'Hello'+' '+'world'#integer\n",
        "print(var5)"
      ],
      "execution_count": 11,
      "outputs": [
        {
          "output_type": "stream",
          "text": [
            "Hello world\n"
          ],
          "name": "stdout"
        }
      ]
    },
    {
      "cell_type": "markdown",
      "metadata": {
        "id": "DvJtmsyus7j0"
      },
      "source": [
        "The string 'Hello' is concatenated with the string 'world'"
      ]
    },
    {
      "cell_type": "code",
      "metadata": {
        "colab": {
          "base_uri": "https://localhost:8080/"
        },
        "id": "36w-TUlVo_yx",
        "outputId": "b25d3036-83c2-4dc5-bede-4968a319f2ad"
      },
      "source": [
        "var6 = 'Hello world ' * 5 # string\n",
        "print(var6)"
      ],
      "execution_count": 14,
      "outputs": [
        {
          "output_type": "stream",
          "text": [
            "Hello world Hello world Hello world Hello world Hello world \n"
          ],
          "name": "stdout"
        }
      ]
    },
    {
      "cell_type": "markdown",
      "metadata": {
        "id": "dlOzwxNYtME1"
      },
      "source": [
        "Here hello world is printed 5 times since multiplying a string by an integer say n returns the string n times"
      ]
    },
    {
      "cell_type": "code",
      "metadata": {
        "colab": {
          "base_uri": "https://localhost:8080/"
        },
        "id": "ypfoIr5rpP7H",
        "outputId": "ec27379a-de40-4d8f-f5da-c6d3c3d07c39"
      },
      "source": [
        "var7 = 4 % 3 #integer\n",
        "print(var7)"
      ],
      "execution_count": 17,
      "outputs": [
        {
          "output_type": "stream",
          "text": [
            "1\n"
          ],
          "name": "stdout"
        }
      ]
    },
    {
      "cell_type": "markdown",
      "metadata": {
        "id": "_S_AavemtiS1"
      },
      "source": [
        "the modulo expression returns the remainder when a number is divided by another"
      ]
    }
  ]
}