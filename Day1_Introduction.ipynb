{
  "nbformat": 4,
  "nbformat_minor": 0,
  "metadata": {
    "colab": {
      "name": "Day1-Introduction.ipynb",
      "provenance": [],
      "authorship_tag": "ABX9TyOKTxm/laML4fIlXMk4L1Eb",
      "include_colab_link": true
    },
    "kernelspec": {
      "name": "python3",
      "display_name": "Python 3"
    },
    "language_info": {
      "name": "python"
    }
  },
  "cells": [
    {
      "cell_type": "markdown",
      "metadata": {
        "id": "view-in-github",
        "colab_type": "text"
      },
      "source": [
        "<a href=\"https://colab.research.google.com/github/Hawawou/WTM-100-DOC/blob/main/Day1_Introduction.ipynb\" target=\"_parent\"><img src=\"https://colab.research.google.com/assets/colab-badge.svg\" alt=\"Open In Colab\"/></a>"
      ]
    },
    {
      "cell_type": "code",
      "metadata": {
        "colab": {
          "base_uri": "https://localhost:8080/"
        },
        "id": "nuwnQJrSlOKj",
        "outputId": "a0ac080a-c8f5-405d-8e22-a75d1b6b5842"
      },
      "source": [
        "def addUp(arr, p):\n",
        "  for i in arr:\n",
        "    if p - i in arr:\n",
        "      return True\n",
        "    else:\n",
        "      return False\n",
        "\n",
        "#Examples\n",
        "print(addUp([12, 10, 9, 6], 18))\n",
        "print(addUp([56, 20, 1, 45], 100))\n",
        "\n",
        "\n"
      ],
      "execution_count": 5,
      "outputs": [
        {
          "output_type": "stream",
          "text": [
            "True\n",
            "False\n"
          ],
          "name": "stdout"
        }
      ]
    }
  ]
}