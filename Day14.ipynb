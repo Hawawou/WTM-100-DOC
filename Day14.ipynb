{
  "nbformat": 4,
  "nbformat_minor": 0,
  "metadata": {
    "colab": {
      "name": "Day14.ipynb",
      "provenance": [],
      "collapsed_sections": [],
      "authorship_tag": "ABX9TyNy2ScqqN84h4QViRgp8sIr",
      "include_colab_link": true
    },
    "kernelspec": {
      "name": "python3",
      "display_name": "Python 3"
    },
    "language_info": {
      "name": "python"
    }
  },
  "cells": [
    {
      "cell_type": "markdown",
      "metadata": {
        "id": "view-in-github",
        "colab_type": "text"
      },
      "source": [
        "<a href=\"https://colab.research.google.com/github/Hawawou/WTM-100-DOC/blob/main/Day14.ipynb\" target=\"_parent\"><img src=\"https://colab.research.google.com/assets/colab-badge.svg\" alt=\"Open In Colab\"/></a>"
      ]
    },
    {
      "cell_type": "code",
      "metadata": {
        "colab": {
          "base_uri": "https://localhost:8080/"
        },
        "id": "0bYtfeJUfm4N",
        "outputId": "80673eb5-a3a6-4e0c-ced0-f4a80128faac"
      },
      "source": [
        "#functions\n",
        "def f():\n",
        "  s  = '-- Inside f()'\n",
        "  print(s)\n",
        "\n",
        "print('Before calling f()')\n",
        "f()\n",
        "print('After calling')"
      ],
      "execution_count": null,
      "outputs": [
        {
          "output_type": "stream",
          "name": "stdout",
          "text": [
            "Before calling f()\n",
            "-- Inside f()\n",
            "After calling\n"
          ]
        }
      ]
    },
    {
      "cell_type": "code",
      "metadata": {
        "colab": {
          "base_uri": "https://localhost:8080/"
        },
        "id": "4yLYjKM9lO_W",
        "outputId": "80b8c4c8-0aca-4dbd-b541-c46672bc7003"
      },
      "source": [
        "def greetings(name):\n",
        "  print (f'Hello {name}')\n",
        "greetings('Hawa')"
      ],
      "execution_count": null,
      "outputs": [
        {
          "output_type": "stream",
          "name": "stdout",
          "text": [
            "Hello Hawa\n"
          ]
        }
      ]
    },
    {
      "cell_type": "markdown",
      "metadata": {
        "id": "cpSJtv1znxHq"
      },
      "source": [
        "number of parameters must match number of arguments"
      ]
    },
    {
      "cell_type": "code",
      "metadata": {
        "colab": {
          "base_uri": "https://localhost:8080/"
        },
        "id": "0gm0WVFom8iq",
        "outputId": "6bb535ac-7741-40c3-f5ad-072f6bebfe0a"
      },
      "source": [
        "#keywords arguments\n",
        "greetings(name='Fadia')"
      ],
      "execution_count": null,
      "outputs": [
        {
          "output_type": "stream",
          "name": "stdout",
          "text": [
            "Hello Fadia\n"
          ]
        }
      ]
    },
    {
      "cell_type": "code",
      "metadata": {
        "colab": {
          "base_uri": "https://localhost:8080/"
        },
        "id": "VcF3zG-mu4dI",
        "outputId": "a95aa6a7-adaf-4f9e-b16d-a2499e62037d"
      },
      "source": [
        "#by pass value vs by pass reference\n",
        "def f(fx):\n",
        "  fx = 10\n",
        "\n",
        "x = 5\n",
        "f(x)\n",
        "x"
      ],
      "execution_count": null,
      "outputs": [
        {
          "output_type": "execute_result",
          "data": {
            "text/plain": [
              "5"
            ]
          },
          "metadata": {},
          "execution_count": 14
        }
      ]
    },
    {
      "cell_type": "code",
      "metadata": {
        "colab": {
          "base_uri": "https://localhost:8080/"
        },
        "id": "wZ8zctPJv_mU",
        "outputId": "97ef691f-e204-44c7-915e-4010f794227c"
      },
      "source": [
        "def f(x):\n",
        "  x = 'foo'\n",
        "\n",
        "for i in (\n",
        "    40,\n",
        "    dict(foo=1, bar=2),\n",
        "    {1,2,3},\n",
        "    ['foo', 'bar', 'baz']):\n",
        "  f(i)\n",
        "  print(i)"
      ],
      "execution_count": null,
      "outputs": [
        {
          "output_type": "stream",
          "name": "stdout",
          "text": [
            "40\n",
            "{'foo': 1, 'bar': 2}\n",
            "{1, 2, 3}\n",
            "['foo', 'bar', 'baz']\n"
          ]
        }
      ]
    },
    {
      "cell_type": "code",
      "metadata": {
        "colab": {
          "base_uri": "https://localhost:8080/"
        },
        "id": "8OvxK62h0alo",
        "outputId": "cba0a53a-388c-4441-a43d-78d6c6fc5702"
      },
      "source": [
        "#return statement\n",
        "def hello():\n",
        "  print('good morning')\n",
        "  print('have a nice day!')\n",
        "  return\n",
        "\n",
        "hello()"
      ],
      "execution_count": null,
      "outputs": [
        {
          "output_type": "stream",
          "name": "stdout",
          "text": [
            "good morning\n",
            "have a nice day!\n"
          ]
        }
      ]
    },
    {
      "cell_type": "code",
      "metadata": {
        "colab": {
          "base_uri": "https://localhost:8080/"
        },
        "id": "9zyv_Sng0wy8",
        "outputId": "395effb0-e3d8-4cac-d2bd-efa9539950da"
      },
      "source": [
        "#must not be at the end of the statement\n",
        "def f(x):\n",
        "  if x < 0:\n",
        "    return \n",
        "  if x > 100:\n",
        "    return \n",
        "  print(x)\n",
        "\n",
        "f(-23)\n",
        "f(182)\n",
        "f(67)\n",
        "\n",
        "\n"
      ],
      "execution_count": null,
      "outputs": [
        {
          "output_type": "stream",
          "name": "stdout",
          "text": [
            "67\n"
          ]
        }
      ]
    },
    {
      "cell_type": "code",
      "metadata": {
        "id": "nRRuytLR2caY",
        "colab": {
          "base_uri": "https://localhost:8080/",
          "height": 35
        },
        "outputId": "1d4acbf0-447a-47ef-f50f-909a48ffbfc6"
      },
      "source": [
        "#returning data to the caller\n",
        "def f():\n",
        "  return 'foo'\n",
        "\n",
        "s = f()\n",
        "s"
      ],
      "execution_count": null,
      "outputs": [
        {
          "output_type": "execute_result",
          "data": {
            "application/vnd.google.colaboratory.intrinsic+json": {
              "type": "string"
            },
            "text/plain": [
              "'foo'"
            ]
          },
          "metadata": {},
          "execution_count": 1
        }
      ]
    },
    {
      "cell_type": "code",
      "metadata": {
        "colab": {
          "base_uri": "https://localhost:8080/"
        },
        "id": "xbANt7QrHMnu",
        "outputId": "e63b2312-7f7a-43d8-d719-3d3b296db402"
      },
      "source": [
        "#a function can return any kind of object\n",
        "def exa():\n",
        "  return dict(foo=1, bar=2, baz=3)\n",
        "\n",
        "exa()"
      ],
      "execution_count": null,
      "outputs": [
        {
          "output_type": "execute_result",
          "data": {
            "text/plain": [
              "{'bar': 2, 'baz': 3, 'foo': 1}"
            ]
          },
          "metadata": {},
          "execution_count": 3
        }
      ]
    },
    {
      "cell_type": "code",
      "metadata": {
        "colab": {
          "base_uri": "https://localhost:8080/",
          "height": 35
        },
        "id": "w9Tti2J5HvtD",
        "outputId": "d0a9b70b-9fa1-4510-f419-86e7c3037941"
      },
      "source": [
        "def f():\n",
        "  return 'foobar'\n",
        "\n",
        "f()[2:4]"
      ],
      "execution_count": null,
      "outputs": [
        {
          "output_type": "execute_result",
          "data": {
            "application/vnd.google.colaboratory.intrinsic+json": {
              "type": "string"
            },
            "text/plain": [
              "'ob'"
            ]
          },
          "metadata": {},
          "execution_count": 5
        }
      ]
    },
    {
      "cell_type": "code",
      "metadata": {
        "colab": {
          "base_uri": "https://localhost:8080/"
        },
        "id": "gpEoNEyTH7Ul",
        "outputId": "71cb9eae-3257-4eb8-daa6-6b43a649f2f0"
      },
      "source": [
        "def g():\n",
        "  pass\n",
        "print(g())"
      ],
      "execution_count": null,
      "outputs": [
        {
          "output_type": "stream",
          "name": "stdout",
          "text": [
            "None\n"
          ]
        }
      ]
    },
    {
      "cell_type": "code",
      "metadata": {
        "colab": {
          "base_uri": "https://localhost:8080/"
        },
        "id": "C8bv34oCJYaZ",
        "outputId": "d64aae84-a3e1-4a70-ce16-f3cc489aa7c2"
      },
      "source": [
        "#revisiting side effects\n",
        "def double(num):\n",
        "  return num * 2\n",
        "\n",
        "double(89)"
      ],
      "execution_count": null,
      "outputs": [
        {
          "output_type": "execute_result",
          "data": {
            "text/plain": [
              "178"
            ]
          },
          "metadata": {},
          "execution_count": 12
        }
      ]
    },
    {
      "cell_type": "code",
      "metadata": {
        "colab": {
          "base_uri": "https://localhost:8080/"
        },
        "id": "b0lxG2S3N3zP",
        "outputId": "c2783418-50af-49db-a4c6-a6cf0a5169b5"
      },
      "source": [
        "def double_list(x):\n",
        "  i = 0\n",
        "  while i < len(x):\n",
        "    x[i] *= 2\n",
        "    i += 1\n",
        "\n",
        "a = [3,4,5,6]\n",
        "double_list(a)\n",
        "a"
      ],
      "execution_count": null,
      "outputs": [
        {
          "output_type": "execute_result",
          "data": {
            "text/plain": [
              "[6, 8, 10, 12]"
            ]
          },
          "metadata": {},
          "execution_count": 16
        }
      ]
    },
    {
      "cell_type": "code",
      "metadata": {
        "colab": {
          "base_uri": "https://localhost:8080/"
        },
        "id": "m4cisCLEO50t",
        "outputId": "5194f8e9-8df8-43e1-d0a0-7d5b98f89714"
      },
      "source": [
        "#variable-length\n",
        "def avg(a, b, c):\n",
        "  return (a + b + c)/3\n",
        "\n",
        "avg(2,3,5)"
      ],
      "execution_count": null,
      "outputs": [
        {
          "output_type": "execute_result",
          "data": {
            "text/plain": [
              "3.3333333333333335"
            ]
          },
          "metadata": {},
          "execution_count": 18
        }
      ]
    },
    {
      "cell_type": "code",
      "metadata": {
        "colab": {
          "base_uri": "https://localhost:8080/"
        },
        "id": "F1JsPRjuPi6a",
        "outputId": "332a8150-e2f1-4762-db39-459b5c3f0b58"
      },
      "source": [
        "def avg(a):\n",
        "  total = 0\n",
        "  for i in a:\n",
        "    total += i\n",
        "  return total/ len(a)\n",
        "\n",
        "avg([1, 2, 3])"
      ],
      "execution_count": null,
      "outputs": [
        {
          "output_type": "execute_result",
          "data": {
            "text/plain": [
              "2.0"
            ]
          },
          "metadata": {},
          "execution_count": 21
        }
      ]
    },
    {
      "cell_type": "code",
      "metadata": {
        "colab": {
          "base_uri": "https://localhost:8080/"
        },
        "id": "OcsD8q5vQFYv",
        "outputId": "75a58643-7d28-4c0a-9d91-202e842161e8"
      },
      "source": [
        "#argument tuple packing\n",
        "#*indicates tuple packing \n",
        "def f(*args):\n",
        "  print(args)\n",
        "  print(type(args), len(args))\n",
        "  for x in args:\n",
        "    print (x)\n",
        "\n",
        "f(1, 2, 3)"
      ],
      "execution_count": null,
      "outputs": [
        {
          "output_type": "stream",
          "name": "stdout",
          "text": [
            "(1, 2, 3)\n",
            "<class 'tuple'> 3\n",
            "1\n",
            "2\n",
            "3\n"
          ]
        }
      ]
    },
    {
      "cell_type": "code",
      "metadata": {
        "colab": {
          "base_uri": "https://localhost:8080/"
        },
        "id": "GZ1DOB8YR6BZ",
        "outputId": "d08089a7-ab56-4868-8d50-c31490be82fc"
      },
      "source": [
        "def avg(*args):\n",
        "  return sum(args)/ len(args)\n",
        "\n",
        "avg(1, 2, 3)"
      ],
      "execution_count": null,
      "outputs": [
        {
          "output_type": "execute_result",
          "data": {
            "text/plain": [
              "2.0"
            ]
          },
          "metadata": {},
          "execution_count": 26
        }
      ]
    },
    {
      "cell_type": "code",
      "metadata": {
        "colab": {
          "base_uri": "https://localhost:8080/"
        },
        "id": "JBT2LVxKSpAh",
        "outputId": "edabbd13-2ae9-42f6-f06d-c8561e9a21f0"
      },
      "source": [
        "#argument tuple unpacking\n",
        "t = ['foo', 'bar', 'baz']\n",
        "f(*t)"
      ],
      "execution_count": null,
      "outputs": [
        {
          "output_type": "stream",
          "name": "stdout",
          "text": [
            "('foo', 'bar', 'baz')\n",
            "<class 'tuple'> 3\n",
            "foo\n",
            "bar\n",
            "baz\n"
          ]
        }
      ]
    },
    {
      "cell_type": "code",
      "metadata": {
        "colab": {
          "base_uri": "https://localhost:8080/"
        },
        "id": "DWYbD_WKTYVK",
        "outputId": "e8555841-78c8-41a9-c2e8-96ace6d33d9b"
      },
      "source": [
        "s = {1,2,3}\n",
        "f(*s)"
      ],
      "execution_count": null,
      "outputs": [
        {
          "output_type": "stream",
          "name": "stdout",
          "text": [
            "(1, 2, 3)\n",
            "<class 'tuple'> 3\n",
            "1\n",
            "2\n",
            "3\n"
          ]
        }
      ]
    },
    {
      "cell_type": "code",
      "metadata": {
        "colab": {
          "base_uri": "https://localhost:8080/"
        },
        "id": "Eycj5pcPTiAO",
        "outputId": "33bf3c6f-4a4d-4eb5-ec6a-5476410922d9"
      },
      "source": [
        "def f(*args):\n",
        "  print(type(args), args)\n",
        "\n",
        "a = ['foo', 'bar', 'baz']\n",
        "f(*a)"
      ],
      "execution_count": null,
      "outputs": [
        {
          "output_type": "stream",
          "name": "stdout",
          "text": [
            "<class 'tuple'> ('foo', 'bar', 'baz')\n"
          ]
        }
      ]
    },
    {
      "cell_type": "code",
      "metadata": {
        "colab": {
          "base_uri": "https://localhost:8080/"
        },
        "id": "mDjnx92gTzHV",
        "outputId": "9ce034d2-d492-4b26-e966-2a130b5007a3"
      },
      "source": [
        "#argument dictionary packing\n",
        "def f(**kwargs):\n",
        "     print(kwargs)\n",
        "     print(type(kwargs))\n",
        "     for key, val in kwargs.items():\n",
        "            print(key, '->', val)\n",
        "\n",
        "f(foo=1, bar=2, baz=3)"
      ],
      "execution_count": null,
      "outputs": [
        {
          "output_type": "stream",
          "name": "stdout",
          "text": [
            "{'foo': 1, 'bar': 2, 'baz': 3}\n",
            "<class 'dict'>\n",
            "foo -> 1\n",
            "bar -> 2\n",
            "baz -> 3\n"
          ]
        }
      ]
    },
    {
      "cell_type": "code",
      "metadata": {
        "id": "CvtGvE1ddENa",
        "colab": {
          "base_uri": "https://localhost:8080/"
        },
        "outputId": "93b66a87-ddb6-43c2-a692-c2c31f80137b"
      },
      "source": [
        "#dictionary unpacking\n",
        "def f(x,y,z):\n",
        "  print(F'x = {x}')\n",
        "  print(F'y = {y}')\n",
        "  print(F'z = {z}')\n",
        "\n",
        "d = {'x': 'foo', 'y': 56, 'z': 'ghj'}\n",
        "f(**d)\n"
      ],
      "execution_count": 1,
      "outputs": [
        {
          "output_type": "stream",
          "name": "stdout",
          "text": [
            "a = foo\n",
            "y = 56\n",
            "z = ghj\n"
          ]
        }
      ]
    },
    {
      "cell_type": "code",
      "metadata": {
        "id": "b_D4Xb3euA9c",
        "colab": {
          "base_uri": "https://localhost:8080/"
        },
        "outputId": "b627bc9e-1e22-481e-f3a5-8c68f466348a"
      },
      "source": [
        "#mnultiple unpackings in python\n",
        "def f(*args):\n",
        "  for i in args:\n",
        "    print(i)\n",
        "\n",
        "a =[1,2,3]\n",
        "b =(4,5,6)\n",
        "s ={7,8,9}\n",
        "\n",
        "f(*a,*b,*s)"
      ],
      "execution_count": 4,
      "outputs": [
        {
          "output_type": "stream",
          "name": "stdout",
          "text": [
            "1\n",
            "2\n",
            "3\n",
            "4\n",
            "5\n",
            "6\n",
            "8\n",
            "9\n",
            "7\n"
          ]
        }
      ]
    },
    {
      "cell_type": "code",
      "metadata": {
        "colab": {
          "base_uri": "https://localhost:8080/"
        },
        "id": "MSVsoxi-7Vm5",
        "outputId": "e9e0e6c6-fa30-471a-8277-e79cf97a001b"
      },
      "source": [
        "#keyword only arguments\n",
        "def concat(*args):\n",
        "  print(f'-> {\".\".join(args)}')\n",
        "\n",
        "concat('A','S','C','I','I')"
      ],
      "execution_count": 6,
      "outputs": [
        {
          "output_type": "stream",
          "name": "stdout",
          "text": [
            "-> A.S.C.I.I\n"
          ]
        }
      ]
    },
    {
      "cell_type": "code",
      "metadata": {
        "colab": {
          "base_uri": "https://localhost:8080/"
        },
        "id": "c2GZTH0b9g0n",
        "outputId": "0b4ac705-e399-40b2-9081-cd5af9e4743e"
      },
      "source": [
        "def concat(*args, prefix='->', sep='.'):\n",
        "  print(f'{prefix}{sep.join(args)}')\n",
        "\n",
        "concat('a', 'b', 'c')"
      ],
      "execution_count": 2,
      "outputs": [
        {
          "output_type": "stream",
          "name": "stdout",
          "text": [
            "->a.b.c\n"
          ]
        }
      ]
    },
    {
      "cell_type": "code",
      "metadata": {
        "colab": {
          "base_uri": "https://localhost:8080/"
        },
        "id": "vq-GLOKq8fnq",
        "outputId": "a07363b1-dc28-4e93-918c-73b686cc87ec"
      },
      "source": [
        "def oper(x,y, op='+'): # + is the default value\n",
        "  if op == '+':\n",
        "    return x + y\n",
        "  elif op == '-':\n",
        "    return x - y\n",
        "  elif op == '/':\n",
        "    return x/y\n",
        "  else:\n",
        "    return None\n",
        "\n",
        "oper(4,8,)"
      ],
      "execution_count": 7,
      "outputs": [
        {
          "output_type": "execute_result",
          "data": {
            "text/plain": [
              "12"
            ]
          },
          "metadata": {},
          "execution_count": 7
        }
      ]
    },
    {
      "cell_type": "code",
      "metadata": {
        "colab": {
          "base_uri": "https://localhost:8080/"
        },
        "id": "htdso0sm_Kdv",
        "outputId": "0a8a91a4-8c35-49d4-f59a-6aabb04e4c1a"
      },
      "source": [
        "oper(3,4, '-')\n",
        "oper(3,4, '/')"
      ],
      "execution_count": 10,
      "outputs": [
        {
          "output_type": "execute_result",
          "data": {
            "text/plain": [
              "0.75"
            ]
          },
          "metadata": {},
          "execution_count": 10
        }
      ]
    },
    {
      "cell_type": "code",
      "metadata": {
        "colab": {
          "base_uri": "https://localhost:8080/"
        },
        "id": "o2JzZXuE_4Kr",
        "outputId": "2383d34b-7baf-4015-e119-ab6134a8c913"
      },
      "source": [
        "#positional-only argument(corresponding arguments must be supplied positionally)\n",
        "def f(x, y, z):\n",
        "    print(f'x: {x}')\n",
        "    print(f'y: {y}')\n",
        "    print(f'z: {z}')\n",
        "\n",
        "f(2,4,6)"
      ],
      "execution_count": 5,
      "outputs": [
        {
          "output_type": "stream",
          "name": "stdout",
          "text": [
            "x: 2\n",
            "y: 4\n",
            "z: 6\n"
          ]
        }
      ]
    },
    {
      "cell_type": "code",
      "metadata": {
        "id": "tKt3gzyJwwun"
      },
      "source": [
        "#docstring- used to suppky documentation for a function\n",
        "def avg(*avg):\n",
        "  \"\"\"Returns the average of a list of numeric values. \"\"\"\n",
        "  return sum(args) / len(args)"
      ],
      "execution_count": 6,
      "outputs": []
    },
    {
      "cell_type": "markdown",
      "metadata": {
        "id": "nr_Jf6wNx5k7"
      },
      "source": [
        "Docstring: first statement in the body of a python function that's a string"
      ]
    },
    {
      "cell_type": "code",
      "metadata": {
        "id": "KvakmlbGyfwv"
      },
      "source": [
        "#multi line docstrings\n",
        "def foo(bar=0, baz=1):\n",
        "  \"\"\"Perform a foo transformation\n",
        "\n",
        "  Keyword  arguments:\n",
        "  bar - magnitude along the bar axis default = 0\n",
        "  \"\"\"\n",
        "#  <function body>\n"
      ],
      "execution_count": 9,
      "outputs": []
    },
    {
      "cell_type": "code",
      "metadata": {
        "colab": {
          "base_uri": "https://localhost:8080/"
        },
        "id": "yxGsb5ZUzFhp",
        "outputId": "af798aac-d701-4667-909d-e6a4422dd733"
      },
      "source": [
        "help(avg)"
      ],
      "execution_count": 11,
      "outputs": [
        {
          "output_type": "stream",
          "name": "stdout",
          "text": [
            "Help on function avg in module __main__:\n",
            "\n",
            "avg(*avg)\n",
            "    Returns the average of a list of numeric values.\n",
            "\n"
          ]
        }
      ]
    },
    {
      "cell_type": "code",
      "metadata": {
        "colab": {
          "base_uri": "https://localhost:8080/"
        },
        "id": "EXiKPi9szRYr",
        "outputId": "57d24354-ecb1-4c7a-f508-c92b8902dea3"
      },
      "source": [
        "#python function annotations\n",
        "def f(a: int, b:str) -> float:\n",
        "  print(a,b)\n",
        "  return(3.5)\n",
        "\n",
        "f(1, 'foo')"
      ],
      "execution_count": 13,
      "outputs": [
        {
          "output_type": "stream",
          "name": "stdout",
          "text": [
            "1 foo\n"
          ]
        },
        {
          "output_type": "execute_result",
          "data": {
            "text/plain": [
              "3.5"
            ]
          },
          "metadata": {},
          "execution_count": 13
        }
      ]
    },
    {
      "cell_type": "markdown",
      "metadata": {
        "id": "uBcV_g_Iz_DH"
      },
      "source": [
        "provides a way to attach meta data to a functions parameter and return value\n"
      ]
    },
    {
      "cell_type": "code",
      "metadata": {
        "colab": {
          "base_uri": "https://localhost:8080/"
        },
        "id": "2MY5k1sQ2CI0",
        "outputId": "e63b8cc3-8b12-4d0f-83a0-af5ca32c2c2a"
      },
      "source": [
        "#can also be a composite object\n",
        "def area(\n",
        "    r: {\n",
        "        'desc': 'radius of circle',\n",
        "        'type': float\n",
        "        }\n",
        ") -> \\\n",
        "{\n",
        "    'desc': 'area of cirle',\n",
        "    'type': 'float'\n",
        "}:\n",
        "  return 3.14159 * (r ** 2)\n",
        "area(2.5)\n",
        "area.__annotations__"
      ],
      "execution_count": 18,
      "outputs": [
        {
          "output_type": "execute_result",
          "data": {
            "text/plain": [
              "{'r': {'desc': 'radius of circle', 'type': float},\n",
              " 'return': {'desc': 'area of cirle', 'type': 'float'}}"
            ]
          },
          "metadata": {},
          "execution_count": 18
        }
      ]
    },
    {
      "cell_type": "code",
      "metadata": {
        "colab": {
          "base_uri": "https://localhost:8080/"
        },
        "id": "6h8rvtGj4Y-X",
        "outputId": "8f2af9e9-10bf-44e3-e838-9c16931830fe"
      },
      "source": [
        "def f(a: int, b: str) -> float:\n",
        "  print(a, b)\n",
        "  return 1, 2, 3\n",
        "\n",
        "f('hey', 23) "
      ],
      "execution_count": 20,
      "outputs": [
        {
          "output_type": "stream",
          "name": "stdout",
          "text": [
            "hey 23\n"
          ]
        },
        {
          "output_type": "execute_result",
          "data": {
            "text/plain": [
              "(1, 2, 3)"
            ]
          },
          "metadata": {},
          "execution_count": 20
        }
      ]
    },
    {
      "cell_type": "code",
      "metadata": {
        "id": "zETE25GS8c32"
      },
      "source": [
        ""
      ],
      "execution_count": null,
      "outputs": []
    }
  ]
}