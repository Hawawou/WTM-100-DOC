{
  "nbformat": 4,
  "nbformat_minor": 0,
  "metadata": {
    "colab": {
      "name": "Day14.ipynb",
      "provenance": [],
      "authorship_tag": "ABX9TyOzbrMWFyt+Olh26/1jrbaj",
      "include_colab_link": true
    },
    "kernelspec": {
      "name": "python3",
      "display_name": "Python 3"
    },
    "language_info": {
      "name": "python"
    }
  },
  "cells": [
    {
      "cell_type": "markdown",
      "metadata": {
        "id": "view-in-github",
        "colab_type": "text"
      },
      "source": [
        "<a href=\"https://colab.research.google.com/github/Hawawou/WTM-100-DOC/blob/main/Day14.ipynb\" target=\"_parent\"><img src=\"https://colab.research.google.com/assets/colab-badge.svg\" alt=\"Open In Colab\"/></a>"
      ]
    },
    {
      "cell_type": "code",
      "metadata": {
        "colab": {
          "base_uri": "https://localhost:8080/"
        },
        "id": "0bYtfeJUfm4N",
        "outputId": "80673eb5-a3a6-4e0c-ced0-f4a80128faac"
      },
      "source": [
        "#functions\n",
        "def f():\n",
        "  s  = '-- Inside f()'\n",
        "  print(s)\n",
        "\n",
        "print('Before calling f()')\n",
        "f()\n",
        "print('After calling')"
      ],
      "execution_count": null,
      "outputs": [
        {
          "output_type": "stream",
          "name": "stdout",
          "text": [
            "Before calling f()\n",
            "-- Inside f()\n",
            "After calling\n"
          ]
        }
      ]
    },
    {
      "cell_type": "code",
      "metadata": {
        "colab": {
          "base_uri": "https://localhost:8080/"
        },
        "id": "4yLYjKM9lO_W",
        "outputId": "80b8c4c8-0aca-4dbd-b541-c46672bc7003"
      },
      "source": [
        "def greetings(name):\n",
        "  print (f'Hello {name}')\n",
        "greetings('Hawa')"
      ],
      "execution_count": null,
      "outputs": [
        {
          "output_type": "stream",
          "name": "stdout",
          "text": [
            "Hello Hawa\n"
          ]
        }
      ]
    },
    {
      "cell_type": "markdown",
      "metadata": {
        "id": "cpSJtv1znxHq"
      },
      "source": [
        "number of parameters must match number of arguments"
      ]
    },
    {
      "cell_type": "code",
      "metadata": {
        "colab": {
          "base_uri": "https://localhost:8080/"
        },
        "id": "0gm0WVFom8iq",
        "outputId": "6bb535ac-7741-40c3-f5ad-072f6bebfe0a"
      },
      "source": [
        "#keywords arguments\n",
        "greetings(name='Fadia')"
      ],
      "execution_count": null,
      "outputs": [
        {
          "output_type": "stream",
          "name": "stdout",
          "text": [
            "Hello Fadia\n"
          ]
        }
      ]
    },
    {
      "cell_type": "code",
      "metadata": {
        "colab": {
          "base_uri": "https://localhost:8080/"
        },
        "id": "VcF3zG-mu4dI",
        "outputId": "a95aa6a7-adaf-4f9e-b16d-a2499e62037d"
      },
      "source": [
        "#by pass value vs by pass reference\n",
        "def f(fx):\n",
        "  fx = 10\n",
        "\n",
        "x = 5\n",
        "f(x)\n",
        "x"
      ],
      "execution_count": null,
      "outputs": [
        {
          "output_type": "execute_result",
          "data": {
            "text/plain": [
              "5"
            ]
          },
          "metadata": {},
          "execution_count": 14
        }
      ]
    },
    {
      "cell_type": "code",
      "metadata": {
        "colab": {
          "base_uri": "https://localhost:8080/"
        },
        "id": "wZ8zctPJv_mU",
        "outputId": "97ef691f-e204-44c7-915e-4010f794227c"
      },
      "source": [
        "def f(x):\n",
        "  x = 'foo'\n",
        "\n",
        "for i in (\n",
        "    40,\n",
        "    dict(foo=1, bar=2),\n",
        "    {1,2,3},\n",
        "    ['foo', 'bar', 'baz']):\n",
        "  f(i)\n",
        "  print(i)"
      ],
      "execution_count": null,
      "outputs": [
        {
          "output_type": "stream",
          "name": "stdout",
          "text": [
            "40\n",
            "{'foo': 1, 'bar': 2}\n",
            "{1, 2, 3}\n",
            "['foo', 'bar', 'baz']\n"
          ]
        }
      ]
    },
    {
      "cell_type": "code",
      "metadata": {
        "colab": {
          "base_uri": "https://localhost:8080/"
        },
        "id": "8OvxK62h0alo",
        "outputId": "cba0a53a-388c-4441-a43d-78d6c6fc5702"
      },
      "source": [
        "#return statement\n",
        "def hello():\n",
        "  print('good morning')\n",
        "  print('have a nice day!')\n",
        "  return\n",
        "\n",
        "hello()"
      ],
      "execution_count": null,
      "outputs": [
        {
          "output_type": "stream",
          "name": "stdout",
          "text": [
            "good morning\n",
            "have a nice day!\n"
          ]
        }
      ]
    },
    {
      "cell_type": "code",
      "metadata": {
        "colab": {
          "base_uri": "https://localhost:8080/"
        },
        "id": "9zyv_Sng0wy8",
        "outputId": "395effb0-e3d8-4cac-d2bd-efa9539950da"
      },
      "source": [
        "#must not be at the end of the statement\n",
        "def f(x):\n",
        "  if x < 0:\n",
        "    return \n",
        "  if x > 100:\n",
        "    return \n",
        "  print(x)\n",
        "\n",
        "f(-23)\n",
        "f(182)\n",
        "f(67)\n",
        "\n",
        "\n"
      ],
      "execution_count": null,
      "outputs": [
        {
          "output_type": "stream",
          "name": "stdout",
          "text": [
            "67\n"
          ]
        }
      ]
    },
    {
      "cell_type": "code",
      "metadata": {
        "id": "nRRuytLR2caY",
        "colab": {
          "base_uri": "https://localhost:8080/",
          "height": 35
        },
        "outputId": "1d4acbf0-447a-47ef-f50f-909a48ffbfc6"
      },
      "source": [
        "#returning data to the caller\n",
        "def f():\n",
        "  return 'foo'\n",
        "\n",
        "s = f()\n",
        "s"
      ],
      "execution_count": 1,
      "outputs": [
        {
          "output_type": "execute_result",
          "data": {
            "application/vnd.google.colaboratory.intrinsic+json": {
              "type": "string"
            },
            "text/plain": [
              "'foo'"
            ]
          },
          "metadata": {},
          "execution_count": 1
        }
      ]
    },
    {
      "cell_type": "code",
      "metadata": {
        "colab": {
          "base_uri": "https://localhost:8080/"
        },
        "id": "xbANt7QrHMnu",
        "outputId": "e63b2312-7f7a-43d8-d719-3d3b296db402"
      },
      "source": [
        "#a function can return any kind of object\n",
        "def exa():\n",
        "  return dict(foo=1, bar=2, baz=3)\n",
        "\n",
        "exa()"
      ],
      "execution_count": 3,
      "outputs": [
        {
          "output_type": "execute_result",
          "data": {
            "text/plain": [
              "{'bar': 2, 'baz': 3, 'foo': 1}"
            ]
          },
          "metadata": {},
          "execution_count": 3
        }
      ]
    },
    {
      "cell_type": "code",
      "metadata": {
        "colab": {
          "base_uri": "https://localhost:8080/",
          "height": 35
        },
        "id": "w9Tti2J5HvtD",
        "outputId": "d0a9b70b-9fa1-4510-f419-86e7c3037941"
      },
      "source": [
        "def f():\n",
        "  return 'foobar'\n",
        "\n",
        "f()[2:4]"
      ],
      "execution_count": 5,
      "outputs": [
        {
          "output_type": "execute_result",
          "data": {
            "application/vnd.google.colaboratory.intrinsic+json": {
              "type": "string"
            },
            "text/plain": [
              "'ob'"
            ]
          },
          "metadata": {},
          "execution_count": 5
        }
      ]
    },
    {
      "cell_type": "code",
      "metadata": {
        "colab": {
          "base_uri": "https://localhost:8080/"
        },
        "id": "gpEoNEyTH7Ul",
        "outputId": "71cb9eae-3257-4eb8-daa6-6b43a649f2f0"
      },
      "source": [
        "def g():\n",
        "  pass\n",
        "print(g())"
      ],
      "execution_count": 10,
      "outputs": [
        {
          "output_type": "stream",
          "name": "stdout",
          "text": [
            "None\n"
          ]
        }
      ]
    },
    {
      "cell_type": "code",
      "metadata": {
        "colab": {
          "base_uri": "https://localhost:8080/"
        },
        "id": "C8bv34oCJYaZ",
        "outputId": "d64aae84-a3e1-4a70-ce16-f3cc489aa7c2"
      },
      "source": [
        "#revisiting side effects\n",
        "def double(num):\n",
        "  return num * 2\n",
        "\n",
        "double(89)"
      ],
      "execution_count": 12,
      "outputs": [
        {
          "output_type": "execute_result",
          "data": {
            "text/plain": [
              "178"
            ]
          },
          "metadata": {},
          "execution_count": 12
        }
      ]
    },
    {
      "cell_type": "code",
      "metadata": {
        "colab": {
          "base_uri": "https://localhost:8080/"
        },
        "id": "b0lxG2S3N3zP",
        "outputId": "c2783418-50af-49db-a4c6-a6cf0a5169b5"
      },
      "source": [
        "def double_list(x):\n",
        "  i = 0\n",
        "  while i < len(x):\n",
        "    x[i] *= 2\n",
        "    i += 1\n",
        "\n",
        "a = [3,4,5,6]\n",
        "double_list(a)\n",
        "a"
      ],
      "execution_count": 16,
      "outputs": [
        {
          "output_type": "execute_result",
          "data": {
            "text/plain": [
              "[6, 8, 10, 12]"
            ]
          },
          "metadata": {},
          "execution_count": 16
        }
      ]
    },
    {
      "cell_type": "code",
      "metadata": {
        "colab": {
          "base_uri": "https://localhost:8080/"
        },
        "id": "m4cisCLEO50t",
        "outputId": "5194f8e9-8df8-43e1-d0a0-7d5b98f89714"
      },
      "source": [
        "#variable-length\n",
        "def avg(a, b, c):\n",
        "  return (a + b + c)/3\n",
        "\n",
        "avg(2,3,5)"
      ],
      "execution_count": 18,
      "outputs": [
        {
          "output_type": "execute_result",
          "data": {
            "text/plain": [
              "3.3333333333333335"
            ]
          },
          "metadata": {},
          "execution_count": 18
        }
      ]
    },
    {
      "cell_type": "code",
      "metadata": {
        "colab": {
          "base_uri": "https://localhost:8080/"
        },
        "id": "F1JsPRjuPi6a",
        "outputId": "332a8150-e2f1-4762-db39-459b5c3f0b58"
      },
      "source": [
        "def avg(a):\n",
        "  total = 0\n",
        "  for i in a:\n",
        "    total += i\n",
        "  return total/ len(a)\n",
        "\n",
        "avg([1, 2, 3])"
      ],
      "execution_count": 21,
      "outputs": [
        {
          "output_type": "execute_result",
          "data": {
            "text/plain": [
              "2.0"
            ]
          },
          "metadata": {},
          "execution_count": 21
        }
      ]
    },
    {
      "cell_type": "code",
      "metadata": {
        "colab": {
          "base_uri": "https://localhost:8080/"
        },
        "id": "OcsD8q5vQFYv",
        "outputId": "75a58643-7d28-4c0a-9d91-202e842161e8"
      },
      "source": [
        "#argument tuple packing\n",
        "#*indicates tuple packing \n",
        "def f(*args):\n",
        "  print(args)\n",
        "  print(type(args), len(args))\n",
        "  for x in args:\n",
        "    print (x)\n",
        "\n",
        "f(1, 2, 3)"
      ],
      "execution_count": 24,
      "outputs": [
        {
          "output_type": "stream",
          "name": "stdout",
          "text": [
            "(1, 2, 3)\n",
            "<class 'tuple'> 3\n",
            "1\n",
            "2\n",
            "3\n"
          ]
        }
      ]
    },
    {
      "cell_type": "code",
      "metadata": {
        "colab": {
          "base_uri": "https://localhost:8080/"
        },
        "id": "GZ1DOB8YR6BZ",
        "outputId": "d08089a7-ab56-4868-8d50-c31490be82fc"
      },
      "source": [
        "def avg(*args):\n",
        "  return sum(args)/ len(args)\n",
        "\n",
        "avg(1, 2, 3)"
      ],
      "execution_count": 26,
      "outputs": [
        {
          "output_type": "execute_result",
          "data": {
            "text/plain": [
              "2.0"
            ]
          },
          "metadata": {},
          "execution_count": 26
        }
      ]
    },
    {
      "cell_type": "code",
      "metadata": {
        "colab": {
          "base_uri": "https://localhost:8080/"
        },
        "id": "JBT2LVxKSpAh",
        "outputId": "edabbd13-2ae9-42f6-f06d-c8561e9a21f0"
      },
      "source": [
        "#argument tuple unpacking\n",
        "t = ['foo', 'bar', 'baz']\n",
        "f(*t)"
      ],
      "execution_count": 28,
      "outputs": [
        {
          "output_type": "stream",
          "name": "stdout",
          "text": [
            "('foo', 'bar', 'baz')\n",
            "<class 'tuple'> 3\n",
            "foo\n",
            "bar\n",
            "baz\n"
          ]
        }
      ]
    },
    {
      "cell_type": "code",
      "metadata": {
        "colab": {
          "base_uri": "https://localhost:8080/"
        },
        "id": "DWYbD_WKTYVK",
        "outputId": "e8555841-78c8-41a9-c2e8-96ace6d33d9b"
      },
      "source": [
        "s = {1,2,3}\n",
        "f(*s)"
      ],
      "execution_count": 30,
      "outputs": [
        {
          "output_type": "stream",
          "name": "stdout",
          "text": [
            "(1, 2, 3)\n",
            "<class 'tuple'> 3\n",
            "1\n",
            "2\n",
            "3\n"
          ]
        }
      ]
    },
    {
      "cell_type": "code",
      "metadata": {
        "colab": {
          "base_uri": "https://localhost:8080/"
        },
        "id": "Eycj5pcPTiAO",
        "outputId": "33bf3c6f-4a4d-4eb5-ec6a-5476410922d9"
      },
      "source": [
        "def f(*args):\n",
        "  print(type(args), args)\n",
        "\n",
        "a = ['foo', 'bar', 'baz']\n",
        "f(*a)"
      ],
      "execution_count": 32,
      "outputs": [
        {
          "output_type": "stream",
          "name": "stdout",
          "text": [
            "<class 'tuple'> ('foo', 'bar', 'baz')\n"
          ]
        }
      ]
    },
    {
      "cell_type": "code",
      "metadata": {
        "colab": {
          "base_uri": "https://localhost:8080/"
        },
        "id": "mDjnx92gTzHV",
        "outputId": "9ce034d2-d492-4b26-e966-2a130b5007a3"
      },
      "source": [
        "#argument dictionary packing\n",
        "def f(**kwargs):\n",
        "     print(kwargs)\n",
        "     print(type(kwargs))\n",
        "     for key, val in kwargs.items():\n",
        "            print(key, '->', val)\n",
        "\n",
        "f(foo=1, bar=2, baz=3)"
      ],
      "execution_count": 37,
      "outputs": [
        {
          "output_type": "stream",
          "name": "stdout",
          "text": [
            "{'foo': 1, 'bar': 2, 'baz': 3}\n",
            "<class 'dict'>\n",
            "foo -> 1\n",
            "bar -> 2\n",
            "baz -> 3\n"
          ]
        }
      ]
    },
    {
      "cell_type": "code",
      "metadata": {
        "id": "CvtGvE1ddENa"
      },
      "source": [
        "#dictionary unpacking\n"
      ],
      "execution_count": null,
      "outputs": []
    }
  ]
}