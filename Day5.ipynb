{
  "nbformat": 4,
  "nbformat_minor": 0,
  "metadata": {
    "colab": {
      "name": "Day5.ipynb",
      "provenance": [],
      "authorship_tag": "ABX9TyPsx8OC1ohq8wesfIa31Mow",
      "include_colab_link": true
    },
    "kernelspec": {
      "name": "python3",
      "display_name": "Python 3"
    },
    "language_info": {
      "name": "python"
    }
  },
  "cells": [
    {
      "cell_type": "markdown",
      "metadata": {
        "id": "view-in-github",
        "colab_type": "text"
      },
      "source": [
        "<a href=\"https://colab.research.google.com/github/Hawawou/WTM-100-DOC/blob/main/Day5.ipynb\" target=\"_parent\"><img src=\"https://colab.research.google.com/assets/colab-badge.svg\" alt=\"Open In Colab\"/></a>"
      ]
    },
    {
      "cell_type": "code",
      "metadata": {
        "colab": {
          "base_uri": "https://localhost:8080/"
        },
        "id": "FjLD4lA1Snmq",
        "outputId": "7fef76f5-32bb-4cdb-f800-68af562d8e7f"
      },
      "source": [
        "sample_list = [\"hello\", \"world\", \"how\", \"are\", \"you?\"]\n",
        "print(sample_list[0])"
      ],
      "execution_count": 2,
      "outputs": [
        {
          "output_type": "stream",
          "name": "stdout",
          "text": [
            "hello\n"
          ]
        }
      ]
    },
    {
      "cell_type": "code",
      "metadata": {
        "colab": {
          "base_uri": "https://localhost:8080/"
        },
        "id": "WG72WpuGT0GY",
        "outputId": "bd1fb290-3d9f-4dea-c963-a6ca5be2f189"
      },
      "source": [
        "var = sample_list[2]\n",
        "print(var)"
      ],
      "execution_count": 4,
      "outputs": [
        {
          "output_type": "stream",
          "name": "stdout",
          "text": [
            "how\n"
          ]
        }
      ]
    },
    {
      "cell_type": "code",
      "metadata": {
        "colab": {
          "base_uri": "https://localhost:8080/"
        },
        "id": "ii3DeTomT_et",
        "outputId": "932e0ef0-1afe-421d-a3d2-49d58fc6ac9f"
      },
      "source": [
        "a = sample_list[0:2]\n",
        "print(a)"
      ],
      "execution_count": 6,
      "outputs": [
        {
          "output_type": "stream",
          "name": "stdout",
          "text": [
            "['hello', 'world']\n"
          ]
        }
      ]
    },
    {
      "cell_type": "code",
      "metadata": {
        "colab": {
          "base_uri": "https://localhost:8080/"
        },
        "id": "11xf_8kYUURp",
        "outputId": "aa70ee8d-828d-4d2f-b0e4-c93897964823"
      },
      "source": [
        "listindex1 = [2, 4, 6, 8, 10]\n",
        "print(listindex1[0]) #index 9 is out of range"
      ],
      "execution_count": 11,
      "outputs": [
        {
          "output_type": "stream",
          "name": "stdout",
          "text": [
            "2\n"
          ]
        }
      ]
    },
    {
      "cell_type": "code",
      "metadata": {
        "colab": {
          "base_uri": "https://localhost:8080/"
        },
        "id": "EjnS7VZjU0nU",
        "outputId": "cae2beda-4626-48ae-bcbb-0fcc9625856f"
      },
      "source": [
        "var1 = listindex1[4]\n",
        "print(var1)"
      ],
      "execution_count": 13,
      "outputs": [
        {
          "output_type": "stream",
          "name": "stdout",
          "text": [
            "10\n"
          ]
        }
      ]
    },
    {
      "cell_type": "code",
      "metadata": {
        "colab": {
          "base_uri": "https://localhost:8080/"
        },
        "id": "-pJrrDHIVBnR",
        "outputId": "58174923-5658-4e1b-bf73-104dffee2cb3"
      },
      "source": [
        "listindex2 = listindex1[1:4]\n",
        "print(listindex2)"
      ],
      "execution_count": 14,
      "outputs": [
        {
          "output_type": "stream",
          "name": "stdout",
          "text": [
            "[4, 6, 8]\n"
          ]
        }
      ]
    }
  ]
}