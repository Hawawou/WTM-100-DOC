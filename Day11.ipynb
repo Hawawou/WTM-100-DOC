{
  "nbformat": 4,
  "nbformat_minor": 0,
  "metadata": {
    "colab": {
      "name": "Day11.ipynb",
      "provenance": [],
      "authorship_tag": "ABX9TyMIRZWSxuSJBStEovvphJLS",
      "include_colab_link": true
    },
    "kernelspec": {
      "name": "python3",
      "display_name": "Python 3"
    },
    "language_info": {
      "name": "python"
    }
  },
  "cells": [
    {
      "cell_type": "markdown",
      "metadata": {
        "id": "view-in-github",
        "colab_type": "text"
      },
      "source": [
        "<a href=\"https://colab.research.google.com/github/Hawawou/WTM-100-DOC/blob/main/Day11.ipynb\" target=\"_parent\"><img src=\"https://colab.research.google.com/assets/colab-badge.svg\" alt=\"Open In Colab\"/></a>"
      ]
    },
    {
      "cell_type": "code",
      "metadata": {
        "colab": {
          "base_uri": "https://localhost:8080/"
        },
        "id": "0BpvupoERIH-",
        "outputId": "71166109-cdd1-4d4d-981a-a25b1695af0f"
      },
      "source": [
        "\n",
        "#lists and tuples \n",
        "a = ['python', 'java', 'php', 'ruby']\n",
        "a"
      ],
      "execution_count": 1,
      "outputs": [
        {
          "output_type": "execute_result",
          "data": {
            "text/plain": [
              "['python', 'java', 'php', 'ruby']"
            ]
          },
          "metadata": {},
          "execution_count": 1
        }
      ]
    },
    {
      "cell_type": "markdown",
      "metadata": {
        "id": "eUl7v1bDYkMr"
      },
      "source": [
        "lists are ordered,\n",
        "can contain arbitrary objects,\n",
        "can be accessed by index,\n",
        "are mutable,\n",
        "are dynamic"
      ]
    },
    {
      "cell_type": "code",
      "metadata": {
        "colab": {
          "base_uri": "https://localhost:8080/"
        },
        "id": "SFJWVripYlnN",
        "outputId": "5af714db-7b04-4289-de20-fd8af087e036"
      },
      "source": [
        "#ordered\n",
        "b = ['java', 'ruby', 'php', 'python']\n",
        "a == b"
      ],
      "execution_count": 3,
      "outputs": [
        {
          "output_type": "execute_result",
          "data": {
            "text/plain": [
              "False"
            ]
          },
          "metadata": {},
          "execution_count": 3
        }
      ]
    },
    {
      "cell_type": "code",
      "metadata": {
        "colab": {
          "base_uri": "https://localhost:8080/"
        },
        "id": "IzGNkFjbZGzr",
        "outputId": "203cf5c1-326c-4779-d061-c797bbd42099"
      },
      "source": [
        "#can have elements of varying types\n",
        "c = [1, 'python', 23.434, True]\n",
        "c"
      ],
      "execution_count": 5,
      "outputs": [
        {
          "output_type": "execute_result",
          "data": {
            "text/plain": [
              "[1, 'python', 23.434, True]"
            ]
          },
          "metadata": {},
          "execution_count": 5
        }
      ]
    },
    {
      "cell_type": "code",
      "metadata": {
        "colab": {
          "base_uri": "https://localhost:8080/"
        },
        "id": "esyX4RxIZSKy",
        "outputId": "0e8b3c4c-9405-40f8-a5e3-b6b7dd9f5f38"
      },
      "source": [
        "#can contain complex functions\n",
        "a = [int, len]\n",
        "a"
      ],
      "execution_count": 9,
      "outputs": [
        {
          "output_type": "execute_result",
          "data": {
            "text/plain": [
              "[int, <function len>]"
            ]
          },
          "metadata": {},
          "execution_count": 9
        }
      ]
    },
    {
      "cell_type": "code",
      "metadata": {
        "colab": {
          "base_uri": "https://localhost:8080/"
        },
        "id": "Li9eJoZNaWzm",
        "outputId": "dc257c67-54ea-4474-bdfd-5564e82d30d7"
      },
      "source": [
        "#any object can appear several times\n",
        "a = ['bark', 'woof', 'bark', 'meow']\n",
        "a"
      ],
      "execution_count": 12,
      "outputs": [
        {
          "output_type": "execute_result",
          "data": {
            "text/plain": [
              "['bark', 'woof', 'bark', 'meow']"
            ]
          },
          "metadata": {},
          "execution_count": 12
        }
      ]
    },
    {
      "cell_type": "code",
      "metadata": {
        "colab": {
          "base_uri": "https://localhost:8080/",
          "height": 35
        },
        "id": "uMZ6SUcmbNpf",
        "outputId": "cdbf2261-cf75-4ff8-cc31-a213aee3e6b3"
      },
      "source": [
        "#can be accessed by index\n",
        "a[0]"
      ],
      "execution_count": 15,
      "outputs": [
        {
          "output_type": "execute_result",
          "data": {
            "application/vnd.google.colaboratory.intrinsic+json": {
              "type": "string"
            },
            "text/plain": [
              "'bark'"
            ]
          },
          "metadata": {},
          "execution_count": 15
        }
      ]
    },
    {
      "cell_type": "code",
      "metadata": {
        "colab": {
          "base_uri": "https://localhost:8080/",
          "height": 35
        },
        "id": "MTI2T2rUbes-",
        "outputId": "0b1937eb-d89f-437c-87ed-addcae391bde"
      },
      "source": [
        "a[3]"
      ],
      "execution_count": 17,
      "outputs": [
        {
          "output_type": "execute_result",
          "data": {
            "application/vnd.google.colaboratory.intrinsic+json": {
              "type": "string"
            },
            "text/plain": [
              "'meow'"
            ]
          },
          "metadata": {},
          "execution_count": 17
        }
      ]
    },
    {
      "cell_type": "code",
      "metadata": {
        "colab": {
          "base_uri": "https://localhost:8080/",
          "height": 35
        },
        "id": "orYycQdabkvK",
        "outputId": "38d16563-d2a8-4977-fcee-5c01d2cf0e56"
      },
      "source": [
        "a[-1]"
      ],
      "execution_count": 19,
      "outputs": [
        {
          "output_type": "execute_result",
          "data": {
            "application/vnd.google.colaboratory.intrinsic+json": {
              "type": "string"
            },
            "text/plain": [
              "'meow'"
            ]
          },
          "metadata": {},
          "execution_count": 19
        }
      ]
    },
    {
      "cell_type": "code",
      "metadata": {
        "colab": {
          "base_uri": "https://localhost:8080/"
        },
        "id": "Puc-jiGPb9-Q",
        "outputId": "9a112735-ce09-4357-f2a0-7919d9707e57"
      },
      "source": [
        "a[0:2]"
      ],
      "execution_count": 25,
      "outputs": [
        {
          "output_type": "execute_result",
          "data": {
            "text/plain": [
              "['bark', 'woof']"
            ]
          },
          "metadata": {},
          "execution_count": 25
        }
      ]
    },
    {
      "cell_type": "code",
      "metadata": {
        "colab": {
          "base_uri": "https://localhost:8080/"
        },
        "id": "iQC4_0wEcNXU",
        "outputId": "6a386baf-ea37-49f4-ebed-7379aaddbf24"
      },
      "source": [
        "b = ['java', 'ruby', 'php', 'python', 'javascript']\n",
        "b[:4]"
      ],
      "execution_count": 26,
      "outputs": [
        {
          "output_type": "execute_result",
          "data": {
            "text/plain": [
              "['java', 'ruby', 'php', 'python']"
            ]
          },
          "metadata": {},
          "execution_count": 26
        }
      ]
    },
    {
      "cell_type": "code",
      "metadata": {
        "colab": {
          "base_uri": "https://localhost:8080/"
        },
        "id": "V1z-uArNc54m",
        "outputId": "51f9326f-7e4d-4990-c68f-b8e09183d31c"
      },
      "source": [
        "b[::-1]"
      ],
      "execution_count": 30,
      "outputs": [
        {
          "output_type": "execute_result",
          "data": {
            "text/plain": [
              "['javascript', 'python', 'php', 'ruby', 'java']"
            ]
          },
          "metadata": {},
          "execution_count": 30
        }
      ]
    },
    {
      "cell_type": "code",
      "metadata": {
        "colab": {
          "base_uri": "https://localhost:8080/"
        },
        "id": "x2NMIaw2fSiz",
        "outputId": "c00e7bea-9670-44c1-dd8a-cceb80cd5bd8"
      },
      "source": [
        "'python' in b"
      ],
      "execution_count": 32,
      "outputs": [
        {
          "output_type": "execute_result",
          "data": {
            "text/plain": [
              "True"
            ]
          },
          "metadata": {},
          "execution_count": 32
        }
      ]
    },
    {
      "cell_type": "code",
      "metadata": {
        "colab": {
          "base_uri": "https://localhost:8080/"
        },
        "id": "vfGfzYdeg5qc",
        "outputId": "78904a9a-b105-4517-f31c-36672fe94b88"
      },
      "source": [
        "'css' in b"
      ],
      "execution_count": 34,
      "outputs": [
        {
          "output_type": "execute_result",
          "data": {
            "text/plain": [
              "False"
            ]
          },
          "metadata": {},
          "execution_count": 34
        }
      ]
    },
    {
      "cell_type": "code",
      "metadata": {
        "colab": {
          "base_uri": "https://localhost:8080/"
        },
        "id": "pco_ZBfwg9Ka",
        "outputId": "1af2708e-4ad7-4128-a34e-c2531ba607d7"
      },
      "source": [
        "#concatenation\n",
        "b + ['css']\n",
        "\n"
      ],
      "execution_count": 38,
      "outputs": [
        {
          "output_type": "execute_result",
          "data": {
            "text/plain": [
              "['java', 'ruby', 'php', 'python', 'javascript', 'css']"
            ]
          },
          "metadata": {},
          "execution_count": 38
        }
      ]
    },
    {
      "cell_type": "code",
      "metadata": {
        "colab": {
          "base_uri": "https://localhost:8080/"
        },
        "id": "8v4XmWVehPiL",
        "outputId": "c4b47b71-1f16-4a33-8639-4b6cbcbf5dff"
      },
      "source": [
        "b * 2"
      ],
      "execution_count": 40,
      "outputs": [
        {
          "output_type": "execute_result",
          "data": {
            "text/plain": [
              "['java',\n",
              " 'ruby',\n",
              " 'php',\n",
              " 'python',\n",
              " 'javascript',\n",
              " 'java',\n",
              " 'ruby',\n",
              " 'php',\n",
              " 'python',\n",
              " 'javascript']"
            ]
          },
          "metadata": {},
          "execution_count": 40
        }
      ]
    },
    {
      "cell_type": "code",
      "metadata": {
        "colab": {
          "base_uri": "https://localhost:8080/"
        },
        "id": "R8yNMk8PhrqC",
        "outputId": "730c1c73-3dd8-4f83-938c-329b8d3ca0d7"
      },
      "source": [
        "len(b)"
      ],
      "execution_count": 43,
      "outputs": [
        {
          "output_type": "execute_result",
          "data": {
            "text/plain": [
              "5"
            ]
          },
          "metadata": {},
          "execution_count": 43
        }
      ]
    },
    {
      "cell_type": "code",
      "metadata": {
        "colab": {
          "base_uri": "https://localhost:8080/",
          "height": 35
        },
        "id": "48VExL2whzpd",
        "outputId": "ffedd779-bcd1-45df-8cf5-186f291f3d2f"
      },
      "source": [
        "min(b)"
      ],
      "execution_count": 46,
      "outputs": [
        {
          "output_type": "execute_result",
          "data": {
            "application/vnd.google.colaboratory.intrinsic+json": {
              "type": "string"
            },
            "text/plain": [
              "'java'"
            ]
          },
          "metadata": {},
          "execution_count": 46
        }
      ]
    },
    {
      "cell_type": "code",
      "metadata": {
        "colab": {
          "base_uri": "https://localhost:8080/",
          "height": 35
        },
        "id": "6o0278y5h3tc",
        "outputId": "921e1e0f-9954-4450-b14b-01fd1d019a95"
      },
      "source": [
        "max('b')"
      ],
      "execution_count": 48,
      "outputs": [
        {
          "output_type": "execute_result",
          "data": {
            "application/vnd.google.colaboratory.intrinsic+json": {
              "type": "string"
            },
            "text/plain": [
              "'b'"
            ]
          },
          "metadata": {},
          "execution_count": 48
        }
      ]
    },
    {
      "cell_type": "code",
      "metadata": {
        "colab": {
          "base_uri": "https://localhost:8080/"
        },
        "id": "pJ1VcGVJiHaK",
        "outputId": "2e448fa8-9ce3-4543-c436-2cd070ed5729"
      },
      "source": [
        "b[::-1]"
      ],
      "execution_count": 50,
      "outputs": [
        {
          "output_type": "execute_result",
          "data": {
            "text/plain": [
              "['javascript', 'python', 'php', 'ruby', 'java']"
            ]
          },
          "metadata": {},
          "execution_count": 50
        }
      ]
    },
    {
      "cell_type": "code",
      "metadata": {
        "colab": {
          "base_uri": "https://localhost:8080/"
        },
        "id": "eoNCW8PBj33V",
        "outputId": "ea7b8c72-ae55-4ad8-cec3-0d5257ce6235"
      },
      "source": [
        "#lists can contain other lists\n",
        "x = ['a', 'ccc', b, 'shine', ['hh', 'ddd']]\n",
        "x"
      ],
      "execution_count": 53,
      "outputs": [
        {
          "output_type": "execute_result",
          "data": {
            "text/plain": [
              "['a',\n",
              " 'ccc',\n",
              " ['java', 'ruby', 'php', 'python', 'javascript'],\n",
              " 'shine',\n",
              " ['hh', 'ddd']]"
            ]
          },
          "metadata": {},
          "execution_count": 53
        }
      ]
    },
    {
      "cell_type": "code",
      "metadata": {
        "colab": {
          "base_uri": "https://localhost:8080/"
        },
        "id": "62c0MfOYrzqW",
        "outputId": "ac3b08e3-bb42-416e-edc1-cba377fcb2e2"
      },
      "source": [
        "x[2]"
      ],
      "execution_count": 55,
      "outputs": [
        {
          "output_type": "execute_result",
          "data": {
            "text/plain": [
              "['java', 'ruby', 'php', 'python', 'javascript']"
            ]
          },
          "metadata": {},
          "execution_count": 55
        }
      ]
    },
    {
      "cell_type": "code",
      "metadata": {
        "colab": {
          "base_uri": "https://localhost:8080/",
          "height": 35
        },
        "id": "VLvqK53gsUQu",
        "outputId": "40340ef6-1f07-4c62-e748-04dc3a8cc465"
      },
      "source": [
        "x[2][3]"
      ],
      "execution_count": 57,
      "outputs": [
        {
          "output_type": "execute_result",
          "data": {
            "application/vnd.google.colaboratory.intrinsic+json": {
              "type": "string"
            },
            "text/plain": [
              "'python'"
            ]
          },
          "metadata": {},
          "execution_count": 57
        }
      ]
    },
    {
      "cell_type": "code",
      "metadata": {
        "colab": {
          "base_uri": "https://localhost:8080/"
        },
        "id": "e9SpZNhQsat_",
        "outputId": "b9bc357f-b97d-4ddb-c3eb-11ed9c524d42"
      },
      "source": [
        "b[3] = 'laravel'\n",
        "b\n"
      ],
      "execution_count": 59,
      "outputs": [
        {
          "output_type": "execute_result",
          "data": {
            "text/plain": [
              "['java', 'ruby', 'php', 'laravel', 'javascript']"
            ]
          },
          "metadata": {},
          "execution_count": 59
        }
      ]
    },
    {
      "cell_type": "code",
      "metadata": {
        "colab": {
          "base_uri": "https://localhost:8080/"
        },
        "id": "-juqx9kzu9x3",
        "outputId": "887f5f93-8832-414c-f550-29dac7971458"
      },
      "source": [
        "b[0:2] = ['perl', 'ajax']\n",
        "b"
      ],
      "execution_count": 62,
      "outputs": [
        {
          "output_type": "execute_result",
          "data": {
            "text/plain": [
              "['perl', 'ajax', 'php', 'laravel', 'javascript']"
            ]
          },
          "metadata": {},
          "execution_count": 62
        }
      ]
    },
    {
      "cell_type": "code",
      "metadata": {
        "colab": {
          "base_uri": "https://localhost:8080/"
        },
        "id": "JdYne1J7vKcu",
        "outputId": "4030c2d7-26c9-40cf-9882-74d3196d7bb3"
      },
      "source": [
        "b[2:2] = ['react', 'angular']\n",
        "b"
      ],
      "execution_count": 68,
      "outputs": [
        {
          "output_type": "execute_result",
          "data": {
            "text/plain": [
              "['perl',\n",
              " 'ajax',\n",
              " 'react',\n",
              " 'angular',\n",
              " 'angular',\n",
              " 'react',\n",
              " 'angular',\n",
              " 'php',\n",
              " 'laravel',\n",
              " 'javascript']"
            ]
          },
          "metadata": {},
          "execution_count": 68
        }
      ]
    },
    {
      "cell_type": "code",
      "metadata": {
        "colab": {
          "base_uri": "https://localhost:8080/"
        },
        "id": "DRXEQ74Myufj",
        "outputId": "c3b28885-f035-49fe-c780-54589ea9288d"
      },
      "source": [
        "b[2:3] = []\n",
        "b"
      ],
      "execution_count": 69,
      "outputs": [
        {
          "output_type": "execute_result",
          "data": {
            "text/plain": [
              "['perl',\n",
              " 'ajax',\n",
              " 'angular',\n",
              " 'angular',\n",
              " 'react',\n",
              " 'angular',\n",
              " 'php',\n",
              " 'laravel',\n",
              " 'javascript']"
            ]
          },
          "metadata": {},
          "execution_count": 69
        }
      ]
    },
    {
      "cell_type": "code",
      "metadata": {
        "colab": {
          "base_uri": "https://localhost:8080/"
        },
        "id": "yort0Jyay-NN",
        "outputId": "f15c5a9d-8773-4ffb-ed7f-a438dc609e8e"
      },
      "source": [
        "b[2:3] = []\n",
        "b"
      ],
      "execution_count": 71,
      "outputs": [
        {
          "output_type": "execute_result",
          "data": {
            "text/plain": [
              "['perl', 'ajax', 'react', 'angular', 'php', 'laravel', 'javascript']"
            ]
          },
          "metadata": {},
          "execution_count": 71
        }
      ]
    },
    {
      "cell_type": "code",
      "metadata": {
        "colab": {
          "base_uri": "https://localhost:8080/"
        },
        "id": "B1aWnCnmzEWZ",
        "outputId": "04c7f388-37bf-49b3-a82e-755443c024e4"
      },
      "source": [
        "del b[2:3]\n",
        "b"
      ],
      "execution_count": 73,
      "outputs": [
        {
          "output_type": "execute_result",
          "data": {
            "text/plain": [
              "['perl', 'ajax', 'php', 'laravel', 'javascript']"
            ]
          },
          "metadata": {},
          "execution_count": 73
        }
      ]
    },
    {
      "cell_type": "code",
      "metadata": {
        "colab": {
          "base_uri": "https://localhost:8080/"
        },
        "id": "r-vW_OK2zV-5",
        "outputId": "bb43ed47-7747-4eb3-ffd1-e661984da205"
      },
      "source": [
        "b += ['next.js']\n",
        "b"
      ],
      "execution_count": 79,
      "outputs": [
        {
          "output_type": "execute_result",
          "data": {
            "text/plain": [
              "['perl',\n",
              " 'ajax',\n",
              " 'php',\n",
              " 'laravel',\n",
              " 'javascript',\n",
              " 'n',\n",
              " 'e',\n",
              " 'x',\n",
              " 't',\n",
              " '.',\n",
              " 'j',\n",
              " 's',\n",
              " 'next.js',\n",
              " 'next.js',\n",
              " 'next.js']"
            ]
          },
          "metadata": {},
          "execution_count": 79
        }
      ]
    },
    {
      "cell_type": "code",
      "metadata": {
        "colab": {
          "base_uri": "https://localhost:8080/"
        },
        "id": "Rt7jQbPd0z1d",
        "outputId": "815cefe3-52db-48ec-c0b4-49d0824cbf90"
      },
      "source": [
        "#methods that modify a list\n",
        "a = [1, 2, 3, 4, 5, 6]\n",
        "x = a.append(7)\n",
        "print(x)\n",
        "a\n"
      ],
      "execution_count": 85,
      "outputs": [
        {
          "output_type": "stream",
          "name": "stdout",
          "text": [
            "None\n"
          ]
        },
        {
          "output_type": "execute_result",
          "data": {
            "text/plain": [
              "[1, 2, 3, 4, 5, 6, 7]"
            ]
          },
          "metadata": {},
          "execution_count": 85
        }
      ]
    },
    {
      "cell_type": "code",
      "metadata": {
        "colab": {
          "base_uri": "https://localhost:8080/"
        },
        "id": "csU9DNaT3w5E",
        "outputId": "48bc7656-7bad-43a0-adfd-7579fa4673e0"
      },
      "source": [
        "a += [8, 9, 10]\n",
        "a"
      ],
      "execution_count": 87,
      "outputs": [
        {
          "output_type": "execute_result",
          "data": {
            "text/plain": [
              "[1, 2, 3, 4, 5, 6, 7, 8, 9, 10, 8, 9, 10]"
            ]
          },
          "metadata": {},
          "execution_count": 87
        }
      ]
    },
    {
      "cell_type": "code",
      "metadata": {
        "colab": {
          "base_uri": "https://localhost:8080/"
        },
        "id": "HmMrtVuG5_yy",
        "outputId": "1a30c328-7cf6-41f0-831d-c18d7c6024e3"
      },
      "source": [
        "a.insert(3, 4.5)\n",
        "a"
      ],
      "execution_count": 90,
      "outputs": [
        {
          "output_type": "execute_result",
          "data": {
            "text/plain": [
              "[1, 2, 3, 4.5, 4.5, 4.5, 4, 5, 6, 7, 8, 9, 10, 8, 9, 10]"
            ]
          },
          "metadata": {},
          "execution_count": 90
        }
      ]
    },
    {
      "cell_type": "code",
      "metadata": {
        "colab": {
          "base_uri": "https://localhost:8080/",
          "height": 180
        },
        "id": "VhcseSpz6y5M",
        "outputId": "7ed6f8b4-1b3b-4f91-a10c-c188be65059c"
      },
      "source": [
        "a.remove(3)\n",
        "a"
      ],
      "execution_count": 92,
      "outputs": [
        {
          "output_type": "error",
          "ename": "ValueError",
          "evalue": "ignored",
          "traceback": [
            "\u001b[0;31m---------------------------------------------------------------------------\u001b[0m",
            "\u001b[0;31mValueError\u001b[0m                                Traceback (most recent call last)",
            "\u001b[0;32m<ipython-input-92-057a2709e981>\u001b[0m in \u001b[0;36m<module>\u001b[0;34m()\u001b[0m\n\u001b[0;32m----> 1\u001b[0;31m \u001b[0ma\u001b[0m\u001b[0;34m.\u001b[0m\u001b[0mremove\u001b[0m\u001b[0;34m(\u001b[0m\u001b[0;36m3\u001b[0m\u001b[0;34m)\u001b[0m\u001b[0;34m\u001b[0m\u001b[0;34m\u001b[0m\u001b[0m\n\u001b[0m\u001b[1;32m      2\u001b[0m \u001b[0ma\u001b[0m\u001b[0;34m\u001b[0m\u001b[0;34m\u001b[0m\u001b[0m\n",
            "\u001b[0;31mValueError\u001b[0m: list.remove(x): x not in list"
          ]
        }
      ]
    },
    {
      "cell_type": "code",
      "metadata": {
        "colab": {
          "base_uri": "https://localhost:8080/"
        },
        "id": "82Vga1b767GB",
        "outputId": "577e004b-c837-470e-b51d-84deddbd13f3"
      },
      "source": [
        "a.remove(4.5)\n",
        "a"
      ],
      "execution_count": 95,
      "outputs": [
        {
          "output_type": "execute_result",
          "data": {
            "text/plain": [
              "[1, 2, 4, 5, 6, 7, 8, 9, 10, 8, 9, 10]"
            ]
          },
          "metadata": {},
          "execution_count": 95
        }
      ]
    },
    {
      "cell_type": "code",
      "metadata": {
        "colab": {
          "base_uri": "https://localhost:8080/"
        },
        "id": "0cAXq0Vo7CUB",
        "outputId": "a67dbcb9-c12d-4c0d-dfe4-6fbf50f31b5d"
      },
      "source": [
        "a.pop()"
      ],
      "execution_count": 97,
      "outputs": [
        {
          "output_type": "execute_result",
          "data": {
            "text/plain": [
              "9"
            ]
          },
          "metadata": {},
          "execution_count": 97
        }
      ]
    },
    {
      "cell_type": "code",
      "metadata": {
        "colab": {
          "base_uri": "https://localhost:8080/"
        },
        "id": "E6TJ525C75kR",
        "outputId": "33d49728-f649-4e39-8f2c-4f7d8e45b62b"
      },
      "source": [
        "a.pop(0)"
      ],
      "execution_count": 99,
      "outputs": [
        {
          "output_type": "execute_result",
          "data": {
            "text/plain": [
              "2"
            ]
          },
          "metadata": {},
          "execution_count": 99
        }
      ]
    },
    {
      "cell_type": "code",
      "metadata": {
        "colab": {
          "base_uri": "https://localhost:8080/"
        },
        "id": "CAwNoOMe8AlV",
        "outputId": "d181ad93-1887-48a5-9fd1-6772e8e628ef"
      },
      "source": [
        "#dynamic\n",
        "a"
      ],
      "execution_count": 101,
      "outputs": [
        {
          "output_type": "execute_result",
          "data": {
            "text/plain": [
              "[4, 5, 6, 7, 8, 9, 10, 8]"
            ]
          },
          "metadata": {},
          "execution_count": 101
        }
      ]
    },
    {
      "cell_type": "code",
      "metadata": {
        "id": "auXbCpp78dCE"
      },
      "source": [
        "#tuples\n"
      ],
      "execution_count": null,
      "outputs": []
    },
    {
      "cell_type": "markdown",
      "metadata": {
        "id": "5vUoo0od8uON"
      },
      "source": [
        "different from list in that they're immutable and are enclosed with paranthesis"
      ]
    },
    {
      "cell_type": "code",
      "metadata": {
        "colab": {
          "base_uri": "https://localhost:8080/"
        },
        "id": "S-KL9mPF9GKa",
        "outputId": "98b68561-4ab8-4dbf-d76f-6fc0a9b9b836"
      },
      "source": [
        "t = ('foo', 'bar', 'qux')\n",
        "t"
      ],
      "execution_count": 104,
      "outputs": [
        {
          "output_type": "execute_result",
          "data": {
            "text/plain": [
              "('foo', 'bar', 'qux')"
            ]
          },
          "metadata": {},
          "execution_count": 104
        }
      ]
    },
    {
      "cell_type": "code",
      "metadata": {
        "colab": {
          "base_uri": "https://localhost:8080/",
          "height": 35
        },
        "id": "OfoXq-869SPE",
        "outputId": "55a2c921-0446-49d3-e8c9-987086bd0b3f"
      },
      "source": [
        "t[0]"
      ],
      "execution_count": 106,
      "outputs": [
        {
          "output_type": "execute_result",
          "data": {
            "application/vnd.google.colaboratory.intrinsic+json": {
              "type": "string"
            },
            "text/plain": [
              "'foo'"
            ]
          },
          "metadata": {},
          "execution_count": 106
        }
      ]
    }
  ]
}