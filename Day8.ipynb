{
  "nbformat": 4,
  "nbformat_minor": 0,
  "metadata": {
    "colab": {
      "name": "Day8.ipynb",
      "provenance": [],
      "authorship_tag": "ABX9TyP9GeCHgm6Blvpstyp2Sf8E",
      "include_colab_link": true
    },
    "kernelspec": {
      "name": "python3",
      "display_name": "Python 3"
    },
    "language_info": {
      "name": "python"
    }
  },
  "cells": [
    {
      "cell_type": "markdown",
      "metadata": {
        "id": "view-in-github",
        "colab_type": "text"
      },
      "source": [
        "<a href=\"https://colab.research.google.com/github/Hawawou/WTM-100-DOC/blob/main/Day8.ipynb\" target=\"_parent\"><img src=\"https://colab.research.google.com/assets/colab-badge.svg\" alt=\"Open In Colab\"/></a>"
      ]
    },
    {
      "cell_type": "code",
      "metadata": {
        "colab": {
          "base_uri": "https://localhost:8080/"
        },
        "id": "UiDxpnI8Oy5u",
        "outputId": "5a94b6a6-02b4-4ce0-8823-70e58c72dc11"
      },
      "source": [
        "#conditionals in python\n",
        "x = 0\n",
        "y = 5\n",
        "if y < x:\n",
        "  print('yes')\n",
        "else:\n",
        "  print('no')"
      ],
      "execution_count": 6,
      "outputs": [
        {
          "output_type": "stream",
          "name": "stdout",
          "text": [
            "no\n"
          ]
        }
      ]
    },
    {
      "cell_type": "code",
      "metadata": {
        "colab": {
          "base_uri": "https://localhost:8080/"
        },
        "id": "MPluMeTuQhXI",
        "outputId": "e0bb01e7-3bee-4a02-85a2-45c3297a6495"
      },
      "source": [
        "if 'aul' in 'grault':\n",
        "  print('yes')"
      ],
      "execution_count": 8,
      "outputs": [
        {
          "output_type": "stream",
          "name": "stdout",
          "text": [
            "yes\n"
          ]
        }
      ]
    },
    {
      "cell_type": "code",
      "metadata": {
        "colab": {
          "base_uri": "https://localhost:8080/"
        },
        "id": "Vvk5qhc7Q3ei",
        "outputId": "d43f5dff-21d9-4fc9-b1cb-54bca112b88d"
      },
      "source": [
        "if 'foo' in ['bar', 'baz', 'qux']:\n",
        "  print('Expression was true')\n",
        "  print('Executing statement in suite')\n",
        "  print('Done')\n",
        "print('After conditional')"
      ],
      "execution_count": 10,
      "outputs": [
        {
          "output_type": "stream",
          "name": "stdout",
          "text": [
            "After conditional\n"
          ]
        }
      ]
    },
    {
      "cell_type": "code",
      "metadata": {
        "colab": {
          "base_uri": "https://localhost:8080/"
        },
        "id": "ccPDR5ZLSKvI",
        "outputId": "6b1a3f88-7352-4fb0-a378-e3ad54153bfc"
      },
      "source": [
        "if 'foo' in ['foo', 'baz', 'bar']:\n",
        "  print('Outer condition is true')\n",
        "\n",
        "  if 10 > 20:\n",
        "    print('Inner condition')\n",
        "\n",
        "  print('Between inner conditions')\n",
        "\n",
        "  if 10 < 20:\n",
        "    print('Inner condition 2')\n",
        "    \n",
        "  print('End of outer condition')\n",
        "\n",
        "print('After outer condition')"
      ],
      "execution_count": 12,
      "outputs": [
        {
          "output_type": "stream",
          "name": "stdout",
          "text": [
            "Outer condition is true\n",
            "Between inner conditions\n",
            "Inner condition 2\n",
            "End of outer condition\n",
            "After outer condition\n"
          ]
        }
      ]
    },
    {
      "cell_type": "markdown",
      "metadata": {
        "id": "D8-2mspxT8M2"
      },
      "source": [
        "the off-side rule: defines blocks by identation"
      ]
    },
    {
      "cell_type": "code",
      "metadata": {
        "colab": {
          "base_uri": "https://localhost:8080/"
        },
        "id": "rTmVcK1BUzGs",
        "outputId": "7d755697-4e54-44df-d562-f00dcfa5aa61"
      },
      "source": [
        "x = 20\n",
        "\n",
        "if x < 50:\n",
        "  print('(first suit)')\n",
        "  print('x is small')\n",
        "else:\n",
        "  print('(second suite)')\n",
        "  print('x is large')"
      ],
      "execution_count": 14,
      "outputs": [
        {
          "output_type": "stream",
          "name": "stdout",
          "text": [
            "(first suit)\n",
            "x is small\n"
          ]
        }
      ]
    },
    {
      "cell_type": "code",
      "metadata": {
        "colab": {
          "base_uri": "https://localhost:8080/"
        },
        "id": "6EJmw15tVLMB",
        "outputId": "75fb1156-fca7-4b42-b46a-cf59709a4c9d"
      },
      "source": [
        "name = 'Joe'\n",
        "if name == 'Fred':\n",
        "  print('Hello Fred')\n",
        "elif name == 'Xander':\n",
        "  print('Hello Xander')\n",
        "elif name == 'Joe':\n",
        "  print('Hello Joe')\n",
        "else:\n",
        "  print('I do not know who you are')"
      ],
      "execution_count": 16,
      "outputs": [
        {
          "output_type": "stream",
          "name": "stdout",
          "text": [
            "Hello Joe\n"
          ]
        }
      ]
    },
    {
      "cell_type": "code",
      "metadata": {
        "colab": {
          "base_uri": "https://localhost:8080/"
        },
        "id": "090ZC0avV903",
        "outputId": "3c7b7c3e-4296-4ee0-b2b1-7a66ea0c0c18"
      },
      "source": [
        "names = {\n",
        "    'Fred': 'Hello Fred',\n",
        "    'Xander': 'Hello Xander',\n",
        "    'Joe':'Hello Joe',\n",
        "    'Arnold': 'Hello Arnold'\n",
        "}\n",
        "\n",
        "print(names.get('Joe', 'I do not know who you are!'))"
      ],
      "execution_count": 18,
      "outputs": [
        {
          "output_type": "stream",
          "name": "stdout",
          "text": [
            "Hello Joe\n"
          ]
        }
      ]
    },
    {
      "cell_type": "code",
      "metadata": {
        "colab": {
          "base_uri": "https://localhost:8080/"
        },
        "id": "pvjiSvCWWhRk",
        "outputId": "463cf90b-9144-45d1-b6c7-2941c6b4571c"
      },
      "source": [
        "print(names.get('Rick', 'I do not know who you are!'))"
      ],
      "execution_count": 21,
      "outputs": [
        {
          "output_type": "stream",
          "name": "stdout",
          "text": [
            "I do not know who you are!\n"
          ]
        }
      ]
    },
    {
      "cell_type": "code",
      "metadata": {
        "colab": {
          "base_uri": "https://localhost:8080/"
        },
        "id": "v1sQcfxGWwu-",
        "outputId": "1f315af0-c5d9-4af9-bc2f-127df1722cd3"
      },
      "source": [
        "\n",
        "if 'a' in 'bar':\n",
        "  print('foo')\n",
        "elif 1/0:\n",
        "  print(\"This won't happen\")\n",
        "elif var:\n",
        "  print(\"This won't happen either\")"
      ],
      "execution_count": 26,
      "outputs": [
        {
          "output_type": "stream",
          "name": "stdout",
          "text": [
            "foo\n"
          ]
        }
      ]
    },
    {
      "cell_type": "code",
      "metadata": {
        "colab": {
          "base_uri": "https://localhost:8080/"
        },
        "id": "VaU1jAGtbxc4",
        "outputId": "91a3e627-0a9a-4914-a38b-8a04af6d85c1"
      },
      "source": [
        "#one line if statement\n",
        "if 'f' in 'foo': print(1); print(2); print(3)"
      ],
      "execution_count": 28,
      "outputs": [
        {
          "output_type": "stream",
          "name": "stdout",
          "text": [
            "1\n",
            "2\n",
            "3\n"
          ]
        }
      ]
    },
    {
      "cell_type": "code",
      "metadata": {
        "colab": {
          "base_uri": "https://localhost:8080/"
        },
        "id": "-xKa6hTJczhS",
        "outputId": "8424f1d7-2ee5-4858-88cd-27c63926ccf0"
      },
      "source": [
        "x = 2 \n",
        "if x == 1: print('bar')\n",
        "elif x == 2: print('qux')\n",
        "else: print('corge')"
      ],
      "execution_count": 40,
      "outputs": [
        {
          "output_type": "stream",
          "name": "stdout",
          "text": [
            "qux\n"
          ]
        }
      ]
    },
    {
      "cell_type": "code",
      "metadata": {
        "colab": {
          "base_uri": "https://localhost:8080/"
        },
        "id": "x6OGcqQNeoDy",
        "outputId": "225f0066-9086-40de-ec7e-5ec3eef831a2"
      },
      "source": [
        "x = 2\n",
        "if x == 2:\n",
        "  print('bar')\n",
        "elif x == 1:\n",
        "  print('qux')\n",
        "else: \n",
        "  print('corge')"
      ],
      "execution_count": 42,
      "outputs": [
        {
          "output_type": "stream",
          "name": "stdout",
          "text": [
            "bar\n"
          ]
        }
      ]
    },
    {
      "cell_type": "code",
      "metadata": {
        "colab": {
          "base_uri": "https://localhost:8080/"
        },
        "id": "xmM4H1idh32m",
        "outputId": "1db49a14-1ec9-4ca2-b55a-e954342c7d38"
      },
      "source": [
        "#conditional expressions\n",
        "raining = True\n",
        "print(\"Let's go to the\", 'library' if not raining else 'beach')"
      ],
      "execution_count": 45,
      "outputs": [
        {
          "output_type": "stream",
          "name": "stdout",
          "text": [
            "Let's go to the library\n"
          ]
        }
      ]
    },
    {
      "cell_type": "code",
      "metadata": {
        "colab": {
          "base_uri": "https://localhost:8080/"
        },
        "id": "8Ofb0p5gjN2I",
        "outputId": "2b53717e-53a3-4382-d96e-e54e791ae037"
      },
      "source": [
        "raining = False\n",
        "print(\"Let's go to the\", 'beach' if raining else 'library')"
      ],
      "execution_count": 48,
      "outputs": [
        {
          "output_type": "stream",
          "name": "stdout",
          "text": [
            "Let's go to the library\n"
          ]
        }
      ]
    },
    {
      "cell_type": "code",
      "metadata": {
        "colab": {
          "base_uri": "https://localhost:8080/",
          "height": 35
        },
        "id": "CnmQrzi6jnKy",
        "outputId": "8b7baf89-5e2e-4c51-d8c7-14e25b33cb03"
      },
      "source": [
        "'yes' if ('qux' in ['foo', 'bar', 'baz']) else 'no'"
      ],
      "execution_count": 50,
      "outputs": [
        {
          "output_type": "execute_result",
          "data": {
            "application/vnd.google.colaboratory.intrinsic+json": {
              "type": "string"
            },
            "text/plain": [
              "'no'"
            ]
          },
          "metadata": {},
          "execution_count": 50
        }
      ]
    },
    {
      "cell_type": "code",
      "metadata": {
        "colab": {
          "base_uri": "https://localhost:8080/",
          "height": 35
        },
        "id": "OEf2r5Arj02U",
        "outputId": "3b47b7c8-88a9-4ce9-b727-6df35f584795"
      },
      "source": [
        "age = 12\n",
        "s = 'minor' if age < 21 else 'major'\n",
        "s"
      ],
      "execution_count": 53,
      "outputs": [
        {
          "output_type": "execute_result",
          "data": {
            "application/vnd.google.colaboratory.intrinsic+json": {
              "type": "string"
            },
            "text/plain": [
              "'minor'"
            ]
          },
          "metadata": {},
          "execution_count": 53
        }
      ]
    },
    {
      "cell_type": "code",
      "metadata": {
        "colab": {
          "base_uri": "https://localhost:8080/"
        },
        "id": "ZXkbOX3ukQn1",
        "outputId": "4b83c737-1b4f-4f6b-afa0-c7e196aad0b7"
      },
      "source": [
        "x = y = 40\n",
        "\n",
        "z = 1 + x if y > x else y + 2\n",
        "print(z)"
      ],
      "execution_count": 56,
      "outputs": [
        {
          "output_type": "stream",
          "name": "stdout",
          "text": [
            "42\n"
          ]
        }
      ]
    },
    {
      "cell_type": "code",
      "metadata": {
        "colab": {
          "base_uri": "https://localhost:8080/"
        },
        "id": "oSg7f8Bdk_Es",
        "outputId": "0cd7e2cb-aeda-433d-c42b-34c65f4cfb52"
      },
      "source": [
        "#pass statement\n",
        "if True:\n",
        "  pass\n",
        "print('foo')"
      ],
      "execution_count": 57,
      "outputs": [
        {
          "output_type": "stream",
          "name": "stdout",
          "text": [
            "foo\n"
          ]
        }
      ]
    },
    {
      "cell_type": "markdown",
      "metadata": {
        "id": "jMGBgSs2nYg6"
      },
      "source": [
        "used as a placeholder where a statement is syntactically required but you don't want to do anything"
      ]
    }
  ]
}