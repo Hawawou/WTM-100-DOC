{
  "nbformat": 4,
  "nbformat_minor": 0,
  "metadata": {
    "colab": {
      "name": "Day15.ipynb",
      "provenance": [],
      "authorship_tag": "ABX9TyOplyC8Ue6QvlULw71EPsby",
      "include_colab_link": true
    },
    "kernelspec": {
      "name": "python3",
      "display_name": "Python 3"
    },
    "language_info": {
      "name": "python"
    }
  },
  "cells": [
    {
      "cell_type": "markdown",
      "metadata": {
        "id": "view-in-github",
        "colab_type": "text"
      },
      "source": [
        "<a href=\"https://colab.research.google.com/github/Hawawou/WTM-100-DOC/blob/main/Day15.ipynb\" target=\"_parent\"><img src=\"https://colab.research.google.com/assets/colab-badge.svg\" alt=\"Open In Colab\"/></a>"
      ]
    },
    {
      "cell_type": "code",
      "metadata": {
        "colab": {
          "base_uri": "https://localhost:8080/"
        },
        "id": "AHhbaYIaBAhW",
        "outputId": "7ffec791-b3a2-411f-ca23-5111323a991d"
      },
      "source": [
        "#string formatting in python\n",
        "s = input()\n"
      ],
      "execution_count": 2,
      "outputs": [
        {
          "name": "stdout",
          "output_type": "stream",
          "text": [
            "hey\n"
          ]
        }
      ]
    },
    {
      "cell_type": "code",
      "metadata": {
        "colab": {
          "base_uri": "https://localhost:8080/"
        },
        "id": "9v_88crt9pV3",
        "outputId": "cb353dc4-8e98-40e7-8f15-d27d0a00cbdc"
      },
      "source": [
        "name = input('What is your name?: ')\n",
        "print (f'My name is {name}')"
      ],
      "execution_count": 8,
      "outputs": [
        {
          "output_type": "stream",
          "name": "stdout",
          "text": [
            "What is your name?: Hawa\n",
            "My name is Hawa\n"
          ]
        }
      ]
    },
    {
      "cell_type": "code",
      "metadata": {
        "colab": {
          "base_uri": "https://localhost:8080/"
        },
        "id": "WTcUiezc-Rl8",
        "outputId": "e9abe2e1-ba78-4507-a898-6653e7ad409c"
      },
      "source": [
        "#input nimeric type\n",
        "num1 = int(input('Enter the first number: '))\n",
        "num2 = int(input('Enter the second number: '))\n",
        "\n",
        "a = num1 + num2\n",
        "print (f'The sum is {a}')"
      ],
      "execution_count": 13,
      "outputs": [
        {
          "output_type": "stream",
          "name": "stdout",
          "text": [
            "Enter the first number: 47663\n",
            "Enter the second number: 356\n",
            "The sum is 48019\n"
          ]
        }
      ]
    },
    {
      "cell_type": "code",
      "metadata": {
        "colab": {
          "base_uri": "https://localhost:8080/"
        },
        "id": "y7bLVWzZ-3-d",
        "outputId": "5829eae6-853e-40c4-8977-35ebe13cfdc1"
      },
      "source": [
        "#writing output to the console\n",
        "fname = 'Hawa'\n",
        "lname = 'Oumar'\n",
        "print('Name:', fname, lname)"
      ],
      "execution_count": 15,
      "outputs": [
        {
          "output_type": "stream",
          "name": "stdout",
          "text": [
            "Name: Hawa Oumar\n"
          ]
        }
      ]
    },
    {
      "cell_type": "code",
      "metadata": {
        "colab": {
          "base_uri": "https://localhost:8080/"
        },
        "id": "3otuxwWvAqZG",
        "outputId": "7c36a078-f6cc-4d74-da9f-cca65d516062"
      },
      "source": [
        "#keywords arguments to print()\n",
        "print('foo', 42, 'bar', sep='...') #sep causes objects to be seperated by the string\n"
      ],
      "execution_count": 18,
      "outputs": [
        {
          "output_type": "stream",
          "name": "stdout",
          "text": [
            "foo...42...bar\n"
          ]
        }
      ]
    },
    {
      "cell_type": "code",
      "metadata": {
        "colab": {
          "base_uri": "https://localhost:8080/"
        },
        "id": "Hm69LKFJB_4K",
        "outputId": "4ec79c4e-c3ed-4cd1-8e5e-f97e387669f5"
      },
      "source": [
        "d = {\n",
        "    'foo': 1,\n",
        "     'bar': 2,\n",
        "     'baz': 3\n",
        "}\n",
        "for k, v in d.items():\n",
        "  print(k, v, sep='->')"
      ],
      "execution_count": 20,
      "outputs": [
        {
          "output_type": "stream",
          "name": "stdout",
          "text": [
            "foo->1\n",
            "bar->2\n",
            "baz->3\n"
          ]
        }
      ]
    },
    {
      "cell_type": "code",
      "metadata": {
        "colab": {
          "base_uri": "https://localhost:8080/"
        },
        "id": "uNpR3T5mCefX",
        "outputId": "08e26945-4481-4188-aacc-83f7b4405f74"
      },
      "source": [
        "#end argument\n",
        "if True:\n",
        "  print('foo', end='/')\n",
        "  print(42, end='/')\n",
        "  print('bar')"
      ],
      "execution_count": 25,
      "outputs": [
        {
          "output_type": "stream",
          "name": "stdout",
          "text": [
            "foo/42/bar\n"
          ]
        }
      ]
    },
    {
      "cell_type": "markdown",
      "metadata": {
        "id": "XCLcQ8ggCiP-"
      },
      "source": [
        "causes output to be terminated"
      ]
    },
    {
      "cell_type": "code",
      "metadata": {
        "colab": {
          "base_uri": "https://localhost:8080/"
        },
        "id": "FRFr8WPKC9dA",
        "outputId": "b163675b-66b4-474e-8ec8-6d25a5feb36a"
      },
      "source": [
        "for n in range(10):\n",
        "  print(n, end=' ')"
      ],
      "execution_count": 27,
      "outputs": [
        {
          "output_type": "stream",
          "name": "stdout",
          "text": [
            "0 1 2 3 4 5 6 7 8 9 "
          ]
        }
      ]
    },
    {
      "cell_type": "code",
      "metadata": {
        "colab": {
          "base_uri": "https://localhost:8080/"
        },
        "id": "oKd2_Hd8DDwL",
        "outputId": "f98566b9-6f6d-463d-9afb-04cb90e25b3e"
      },
      "source": [
        "#formatted string output \n",
        "print('%d %s cost $%.2f' % (6, 'bananas', 1.74))"
      ],
      "execution_count": 29,
      "outputs": [
        {
          "output_type": "stream",
          "name": "stdout",
          "text": [
            "6 bananas cost $1.74\n"
          ]
        }
      ]
    },
    {
      "cell_type": "markdown",
      "metadata": {
        "id": "d3RCZIvbFRKi"
      },
      "source": [
        "string modulo"
      ]
    },
    {
      "cell_type": "code",
      "metadata": {
        "colab": {
          "base_uri": "https://localhost:8080/",
          "height": 35
        },
        "id": "pjXYjU7iG8MX",
        "outputId": "cfb18ab5-59d5-4871-c3c3-264a45d7cf8a"
      },
      "source": [
        "s = 'Hello, my name is %s.' %'Graham'\n",
        "s"
      ],
      "execution_count": 31,
      "outputs": [
        {
          "output_type": "execute_result",
          "data": {
            "application/vnd.google.colaboratory.intrinsic+json": {
              "type": "string"
            },
            "text/plain": [
              "'Hello, my name is Graham.'"
            ]
          },
          "metadata": {},
          "execution_count": 31
        }
      ]
    },
    {
      "cell_type": "code",
      "metadata": {
        "colab": {
          "base_uri": "https://localhost:8080/",
          "height": 35
        },
        "id": "a-nVO0EWHNqz",
        "outputId": "a64bc839-3404-4181-80b0-a00c4a564f42"
      },
      "source": [
        "#conversion specifiers\n",
        "'%d, %i, %u' % (42, 42, 42)"
      ],
      "execution_count": 33,
      "outputs": [
        {
          "output_type": "execute_result",
          "data": {
            "application/vnd.google.colaboratory.intrinsic+json": {
              "type": "string"
            },
            "text/plain": [
              "'42, 42, 42'"
            ]
          },
          "metadata": {},
          "execution_count": 33
        }
      ]
    },
    {
      "cell_type": "code",
      "metadata": {
        "colab": {
          "base_uri": "https://localhost:8080/",
          "height": 35
        },
        "id": "f9h48rDKKhVx",
        "outputId": "8f489355-d2e3-4c09-d765-4f7c63b6598f"
      },
      "source": [
        "'%x, %X' % (252, 252)\n"
      ],
      "execution_count": 35,
      "outputs": [
        {
          "output_type": "execute_result",
          "data": {
            "application/vnd.google.colaboratory.intrinsic+json": {
              "type": "string"
            },
            "text/plain": [
              "'fc, FC'"
            ]
          },
          "metadata": {},
          "execution_count": 35
        }
      ]
    },
    {
      "cell_type": "code",
      "metadata": {
        "colab": {
          "base_uri": "https://localhost:8080/",
          "height": 35
        },
        "id": "YCZB6nioKydn",
        "outputId": "99a809b9-4561-4d2e-d64e-cb5c0d7424b9"
      },
      "source": [
        "#floating point conversion types\n",
        "'%f, %F' % (3.2342, 3.12)"
      ],
      "execution_count": 38,
      "outputs": [
        {
          "output_type": "execute_result",
          "data": {
            "application/vnd.google.colaboratory.intrinsic+json": {
              "type": "string"
            },
            "text/plain": [
              "'3.234200, 3.120000'"
            ]
          },
          "metadata": {},
          "execution_count": 38
        }
      ]
    },
    {
      "cell_type": "code",
      "metadata": {
        "colab": {
          "base_uri": "https://localhost:8080/",
          "height": 35
        },
        "id": "aWIsJVzfLzgs",
        "outputId": "ccde334e-6478-4c07-e3af-7d9c07a00e18"
      },
      "source": [
        "x = float('NaN')\n",
        "'%f, %e, %F, %E' % (x, x, x, x)"
      ],
      "execution_count": 42,
      "outputs": [
        {
          "output_type": "execute_result",
          "data": {
            "application/vnd.google.colaboratory.intrinsic+json": {
              "type": "string"
            },
            "text/plain": [
              "'nan, nan, NAN, NAN'"
            ]
          },
          "metadata": {},
          "execution_count": 42
        }
      ]
    },
    {
      "cell_type": "code",
      "metadata": {
        "colab": {
          "base_uri": "https://localhost:8080/",
          "height": 35
        },
        "id": "ecGR_ZV4POgn",
        "outputId": "70b44614-107e-4eb5-98fc-7c6052d5a005"
      },
      "source": [
        "'%g' % 3.14\n"
      ],
      "execution_count": 46,
      "outputs": [
        {
          "output_type": "execute_result",
          "data": {
            "application/vnd.google.colaboratory.intrinsic+json": {
              "type": "string"
            },
            "text/plain": [
              "'3.14'"
            ]
          },
          "metadata": {},
          "execution_count": 46
        }
      ]
    },
    {
      "cell_type": "code",
      "metadata": {
        "colab": {
          "base_uri": "https://localhost:8080/",
          "height": 35
        },
        "id": "KQ6US4-EPlx9",
        "outputId": "2837dfed-84fe-4655-ba04-f13f678ea794"
      },
      "source": [
        "#character conversion types\n",
        "'%c' % 97"
      ],
      "execution_count": 48,
      "outputs": [
        {
          "output_type": "execute_result",
          "data": {
            "application/vnd.google.colaboratory.intrinsic+json": {
              "type": "string"
            },
            "text/plain": [
              "'a'"
            ]
          },
          "metadata": {},
          "execution_count": 48
        }
      ]
    },
    {
      "cell_type": "code",
      "metadata": {
        "colab": {
          "base_uri": "https://localhost:8080/",
          "height": 35
        },
        "id": "U-PlG7lKP_2d",
        "outputId": "6874ba0c-6b2c-4821-cfd4-97b1b28d42af"
      },
      "source": [
        "'[%c]' % 'y'"
      ],
      "execution_count": 50,
      "outputs": [
        {
          "output_type": "execute_result",
          "data": {
            "application/vnd.google.colaboratory.intrinsic+json": {
              "type": "string"
            },
            "text/plain": [
              "'[y]'"
            ]
          },
          "metadata": {},
          "execution_count": 50
        }
      ]
    },
    {
      "cell_type": "code",
      "metadata": {
        "colab": {
          "base_uri": "https://localhost:8080/",
          "height": 35
        },
        "id": "OdaO5rMkQGgx",
        "outputId": "bd2c9182-ed2f-4e8c-a648-909b0323665e"
      },
      "source": [
        "'%c' % 8721 #supports conversion to unicode"
      ],
      "execution_count": 52,
      "outputs": [
        {
          "output_type": "execute_result",
          "data": {
            "application/vnd.google.colaboratory.intrinsic+json": {
              "type": "string"
            },
            "text/plain": [
              "'∑'"
            ]
          },
          "metadata": {},
          "execution_count": 52
        }
      ]
    },
    {
      "cell_type": "code",
      "metadata": {
        "colab": {
          "base_uri": "https://localhost:8080/",
          "height": 35
        },
        "id": "v7fXzkEVQRIU",
        "outputId": "48b88631-640a-4485-c0f3-4aed636e15b2"
      },
      "source": [
        "#inserting a '%' character\n",
        "'Get %d%% off on %s today only!' % (30, 'bananas')"
      ],
      "execution_count": 54,
      "outputs": [
        {
          "output_type": "execute_result",
          "data": {
            "application/vnd.google.colaboratory.intrinsic+json": {
              "type": "string"
            },
            "text/plain": [
              "'Get 30% off on bananas today only!'"
            ]
          },
          "metadata": {},
          "execution_count": 54
        }
      ]
    },
    {
      "cell_type": "code",
      "metadata": {
        "colab": {
          "base_uri": "https://localhost:8080/",
          "height": 35
        },
        "id": "JRTPyCs_SKnU",
        "outputId": "26933734-d433-4101-ca09-1d55e6ce1669"
      },
      "source": [
        "#width and precision specifiers\n",
        "'%3d' % 4\n",
        "'%2d' % 1234, '%d' % 1234 # if the length is more than the width, then the width has no effect"
      ],
      "execution_count": 56,
      "outputs": [
        {
          "output_type": "execute_result",
          "data": {
            "application/vnd.google.colaboratory.intrinsic+json": {
              "type": "string"
            },
            "text/plain": [
              "'  4'"
            ]
          },
          "metadata": {},
          "execution_count": 56
        }
      ]
    },
    {
      "cell_type": "markdown",
      "metadata": {
        "id": "iogBQB7dSSif"
      },
      "source": [
        "width specifies the minimum width of the output field"
      ]
    },
    {
      "cell_type": "code",
      "metadata": {
        "colab": {
          "base_uri": "https://localhost:8080/",
          "height": 35
        },
        "id": "TiL8RKl8TNRf",
        "outputId": "0fc3143a-3f90-4545-fe7e-c3180a0127d8"
      },
      "source": [
        "'%.2f' % 123.34523"
      ],
      "execution_count": 60,
      "outputs": [
        {
          "output_type": "execute_result",
          "data": {
            "application/vnd.google.colaboratory.intrinsic+json": {
              "type": "string"
            },
            "text/plain": [
              "'123.35'"
            ]
          },
          "metadata": {},
          "execution_count": 60
        }
      ]
    },
    {
      "cell_type": "markdown",
      "metadata": {
        "id": "c-BlveOQTNy1"
      },
      "source": [
        "precision determnes the number of digits after the decimal point"
      ]
    },
    {
      "cell_type": "code",
      "metadata": {
        "colab": {
          "base_uri": "https://localhost:8080/",
          "height": 35
        },
        "id": "kMy30siqUQRe",
        "outputId": "acee9784-3d1e-4be5-d33e-44a94aaf2a8c"
      },
      "source": [
        "'.%.2e' % 34.356342"
      ],
      "execution_count": 62,
      "outputs": [
        {
          "output_type": "execute_result",
          "data": {
            "application/vnd.google.colaboratory.intrinsic+json": {
              "type": "string"
            },
            "text/plain": [
              "'.3.44e+01'"
            ]
          },
          "metadata": {},
          "execution_count": 62
        }
      ]
    },
    {
      "cell_type": "code",
      "metadata": {
        "colab": {
          "base_uri": "https://localhost:8080/",
          "height": 35
        },
        "id": "djbf-V6NUgG-",
        "outputId": "dcd1ed68-c4da-451e-bbbe-b65ebfa7912b"
      },
      "source": [
        "'%.2g' % 34.345533 "
      ],
      "execution_count": 63,
      "outputs": [
        {
          "output_type": "execute_result",
          "data": {
            "application/vnd.google.colaboratory.intrinsic+json": {
              "type": "string"
            },
            "text/plain": [
              "'34'"
            ]
          },
          "metadata": {},
          "execution_count": 63
        }
      ]
    },
    {
      "cell_type": "markdown",
      "metadata": {
        "id": "_fz324LsUm7A"
      },
      "source": [
        "g determines the number of significant digits before and after the decimal"
      ]
    },
    {
      "cell_type": "code",
      "metadata": {
        "colab": {
          "base_uri": "https://localhost:8080/",
          "height": 35
        },
        "id": "lEf3q12kU6WA",
        "outputId": "e9db8f8b-d492-402a-92e9-373d9d08b029"
      },
      "source": [
        "'%.4s' %'foobar'"
      ],
      "execution_count": 64,
      "outputs": [
        {
          "output_type": "execute_result",
          "data": {
            "application/vnd.google.colaboratory.intrinsic+json": {
              "type": "string"
            },
            "text/plain": [
              "'foob'"
            ]
          },
          "metadata": {},
          "execution_count": 64
        }
      ]
    },
    {
      "cell_type": "markdown",
      "metadata": {
        "id": "koEje5SJWDbP"
      },
      "source": [
        "Are truncated to the number of character specified "
      ]
    },
    {
      "cell_type": "code",
      "metadata": {
        "colab": {
          "base_uri": "https://localhost:8080/",
          "height": 35
        },
        "id": "EdvIiZk_WRGw",
        "outputId": "c37817c3-75a0-493c-838b-16a102f4b45c"
      },
      "source": [
        "'%*d' % (5, 23) #width and precision"
      ],
      "execution_count": 66,
      "outputs": [
        {
          "output_type": "execute_result",
          "data": {
            "application/vnd.google.colaboratory.intrinsic+json": {
              "type": "string"
            },
            "text/plain": [
              "'   23'"
            ]
          },
          "metadata": {},
          "execution_count": 66
        }
      ]
    },
    {
      "cell_type": "code",
      "metadata": {
        "colab": {
          "base_uri": "https://localhost:8080/",
          "height": 231
        },
        "id": "pOQBubqxW1cw",
        "outputId": "4facb1dd-017a-4587-9251-e074b79a3930"
      },
      "source": [
        "for i in range(3):\n",
        "  w = int(input('Enter width: '))\n",
        "  print('[%*s]' % (w, 'foo'))\n",
        "\n"
      ],
      "execution_count": 73,
      "outputs": [
        {
          "name": "stdout",
          "output_type": "stream",
          "text": [
            "Enter width: \n"
          ]
        },
        {
          "output_type": "error",
          "ename": "ValueError",
          "evalue": "ignored",
          "traceback": [
            "\u001b[0;31m---------------------------------------------------------------------------\u001b[0m",
            "\u001b[0;31mValueError\u001b[0m                                Traceback (most recent call last)",
            "\u001b[0;32m<ipython-input-73-1913e5771db1>\u001b[0m in \u001b[0;36m<module>\u001b[0;34m()\u001b[0m\n\u001b[1;32m      1\u001b[0m \u001b[0;32mfor\u001b[0m \u001b[0mi\u001b[0m \u001b[0;32min\u001b[0m \u001b[0mrange\u001b[0m\u001b[0;34m(\u001b[0m\u001b[0;36m3\u001b[0m\u001b[0;34m)\u001b[0m\u001b[0;34m:\u001b[0m\u001b[0;34m\u001b[0m\u001b[0;34m\u001b[0m\u001b[0m\n\u001b[0;32m----> 2\u001b[0;31m   \u001b[0mw\u001b[0m \u001b[0;34m=\u001b[0m \u001b[0mint\u001b[0m\u001b[0;34m(\u001b[0m\u001b[0minput\u001b[0m\u001b[0;34m(\u001b[0m\u001b[0;34m'Enter width: '\u001b[0m\u001b[0;34m)\u001b[0m\u001b[0;34m)\u001b[0m\u001b[0;34m\u001b[0m\u001b[0;34m\u001b[0m\u001b[0m\n\u001b[0m\u001b[1;32m      3\u001b[0m   \u001b[0mprint\u001b[0m\u001b[0;34m(\u001b[0m\u001b[0;34m'[%*s]'\u001b[0m \u001b[0;34m%\u001b[0m \u001b[0;34m(\u001b[0m\u001b[0mw\u001b[0m\u001b[0;34m,\u001b[0m \u001b[0;34m'foo'\u001b[0m\u001b[0;34m)\u001b[0m\u001b[0;34m)\u001b[0m\u001b[0;34m\u001b[0m\u001b[0;34m\u001b[0m\u001b[0m\n\u001b[1;32m      4\u001b[0m \u001b[0;34m\u001b[0m\u001b[0m\n",
            "\u001b[0;31mValueError\u001b[0m: invalid literal for int() with base 10: ''"
          ]
        }
      ]
    },
    {
      "cell_type": "code",
      "metadata": {
        "colab": {
          "base_uri": "https://localhost:8080/"
        },
        "id": "_EYrZDHWXcmm",
        "outputId": "450765fe-36e3-4b17-c9d2-f1e2c9e7de43"
      },
      "source": [
        "#Conversionflag\n",
        "'%#o' % 16\n",
        "'%#x' % 16, '%#X' % 16"
      ],
      "execution_count": 76,
      "outputs": [
        {
          "output_type": "execute_result",
          "data": {
            "text/plain": [
              "('0x10', '0X10')"
            ]
          },
          "metadata": {},
          "execution_count": 76
        }
      ]
    },
    {
      "cell_type": "markdown",
      "metadata": {
        "id": "qVby89uXYOYx"
      },
      "source": [
        "the # flag causes the base information to be included for octal and hexadecimal"
      ]
    },
    {
      "cell_type": "code",
      "metadata": {
        "colab": {
          "base_uri": "https://localhost:8080/",
          "height": 35
        },
        "id": "6X481_5RZPSc",
        "outputId": "eef338b1-e582-463d-8852-a973e60fadb5"
      },
      "source": [
        "'%#.0f' % 123"
      ],
      "execution_count": 77,
      "outputs": [
        {
          "output_type": "execute_result",
          "data": {
            "application/vnd.google.colaboratory.intrinsic+json": {
              "type": "string"
            },
            "text/plain": [
              "'123.'"
            ]
          },
          "metadata": {},
          "execution_count": 77
        }
      ]
    },
    {
      "cell_type": "markdown",
      "metadata": {
        "id": "czude25hZVbn"
      },
      "source": [
        "for floating point, the # flag forces the output to contain a decimal point"
      ]
    },
    {
      "cell_type": "code",
      "metadata": {
        "colab": {
          "base_uri": "https://localhost:8080/",
          "height": 35
        },
        "id": "yNdaLrrWa5K-",
        "outputId": "cbb46510-ba89-424f-ed8a-68a6e03dce7a"
      },
      "source": [
        "'%05d' % 123\n",
        "'%08.2f' % 1.2"
      ],
      "execution_count": 80,
      "outputs": [
        {
          "output_type": "execute_result",
          "data": {
            "application/vnd.google.colaboratory.intrinsic+json": {
              "type": "string"
            },
            "text/plain": [
              "'00001.20'"
            ]
          },
          "metadata": {},
          "execution_count": 80
        }
      ]
    },
    {
      "cell_type": "markdown",
      "metadata": {
        "id": "HF6vOaVsbJS-"
      },
      "source": [
        "0 flag causes padding "
      ]
    },
    {
      "cell_type": "code",
      "metadata": {
        "colab": {
          "base_uri": "https://localhost:8080/",
          "height": 35
        },
        "id": "EOP6EbdxbZ9A",
        "outputId": "9e1c9976-0c46-41db-84a6-11476ec33ae3"
      },
      "source": [
        "'%-8.2f' % 123.7"
      ],
      "execution_count": 83,
      "outputs": [
        {
          "output_type": "execute_result",
          "data": {
            "application/vnd.google.colaboratory.intrinsic+json": {
              "type": "string"
            },
            "text/plain": [
              "'123.70  '"
            ]
          },
          "metadata": {},
          "execution_count": 83
        }
      ]
    },
    {
      "cell_type": "code",
      "metadata": {
        "colab": {
          "base_uri": "https://localhost:8080/",
          "height": 35
        },
        "id": "xeuiHIyBcHa6",
        "outputId": "6dfae4ee-7ec8-4019-c8f0-5da5e2159bd8"
      },
      "source": [
        "'%+d' % 3"
      ],
      "execution_count": 84,
      "outputs": [
        {
          "output_type": "execute_result",
          "data": {
            "application/vnd.google.colaboratory.intrinsic+json": {
              "type": "string"
            },
            "text/plain": [
              "'+3'"
            ]
          },
          "metadata": {},
          "execution_count": 84
        }
      ]
    },
    {
      "cell_type": "markdown",
      "metadata": {
        "id": "P6PyX8BvcPQ-"
      },
      "source": [
        "the + flag adds a + to the left of the numeric value"
      ]
    },
    {
      "cell_type": "code",
      "metadata": {
        "colab": {
          "base_uri": "https://localhost:8080/",
          "height": 35
        },
        "id": "uLcjlPwdcXQp",
        "outputId": "fe1c2643-86c0-4701-ce3f-a789ac97b514"
      },
      "source": [
        " '% d' % 3"
      ],
      "execution_count": 85,
      "outputs": [
        {
          "output_type": "execute_result",
          "data": {
            "application/vnd.google.colaboratory.intrinsic+json": {
              "type": "string"
            },
            "text/plain": [
              "' 3'"
            ]
          },
          "metadata": {},
          "execution_count": 85
        }
      ]
    },
    {
      "cell_type": "markdown",
      "metadata": {
        "id": "0OQIFGclceez"
      },
      "source": [
        "'' flag causes positive numeric values to be preceded by a space character"
      ]
    },
    {
      "cell_type": "code",
      "metadata": {
        "colab": {
          "base_uri": "https://localhost:8080/",
          "height": 35
        },
        "id": "5rEG6DhEgFJ1",
        "outputId": "440c16e5-cb8c-4550-d26b-e778982cdbf1"
      },
      "source": [
        "#specifying values by dictionary mapping\n",
        "d = {'quantity': 6, 'item': 'bananas', 'price': 1.74}\n",
        "'%(quantity)d %(item)s cost $%(price).2f' % d"
      ],
      "execution_count": 89,
      "outputs": [
        {
          "output_type": "execute_result",
          "data": {
            "application/vnd.google.colaboratory.intrinsic+json": {
              "type": "string"
            },
            "text/plain": [
              "'6 bananas cost $1.74'"
            ]
          },
          "metadata": {},
          "execution_count": 89
        }
      ]
    },
    {
      "cell_type": "code",
      "metadata": {
        "id": "knjvm2kUgOzO"
      },
      "source": [
        ""
      ],
      "execution_count": null,
      "outputs": []
    }
  ]
}