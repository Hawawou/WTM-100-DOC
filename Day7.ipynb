{
  "nbformat": 4,
  "nbformat_minor": 0,
  "metadata": {
    "colab": {
      "name": "Day7.ipynb",
      "provenance": [],
      "authorship_tag": "ABX9TyMzK+YPSNA8ppOVpnUOPLik",
      "include_colab_link": true
    },
    "kernelspec": {
      "name": "python3",
      "display_name": "Python 3"
    },
    "language_info": {
      "name": "python"
    }
  },
  "cells": [
    {
      "cell_type": "markdown",
      "metadata": {
        "id": "view-in-github",
        "colab_type": "text"
      },
      "source": [
        "<a href=\"https://colab.research.google.com/github/Hawawou/WTM-100-DOC/blob/main/Day7.ipynb\" target=\"_parent\"><img src=\"https://colab.research.google.com/assets/colab-badge.svg\" alt=\"Open In Colab\"/></a>"
      ]
    },
    {
      "cell_type": "code",
      "metadata": {
        "colab": {
          "base_uri": "https://localhost:8080/"
        },
        "id": "1dVBykjCQt2X",
        "outputId": "48024113-43c3-42e3-ca22-38f460af640f"
      },
      "source": [
        "#Dictionaries in python(associative array)\n",
        "d = {\n",
        "    \"name\": \"Hawa\",\n",
        "    \"school\": \"nahpi\"\n",
        "     \n",
        "}\n",
        "print(d)\n"
      ],
      "execution_count": 2,
      "outputs": [
        {
          "output_type": "stream",
          "name": "stdout",
          "text": [
            "{'name': 'Hawa', 'school': 'nahpi'}\n"
          ]
        }
      ]
    },
    {
      "cell_type": "markdown",
      "metadata": {
        "id": "BKy7sy-aRrcl"
      },
      "source": [
        "dictionary elements are accessed via keys\n"
      ]
    },
    {
      "cell_type": "code",
      "metadata": {
        "colab": {
          "base_uri": "https://localhost:8080/"
        },
        "id": "NNUcctPvSgYv",
        "outputId": "8166245c-dcdf-423f-a06c-953b61d6ef0d"
      },
      "source": [
        "d = dict([\n",
        "          (\"name\", \"Fadia\"),\n",
        "          (\"friend\", \"Dada\"),\n",
        "])\n",
        "d"
      ],
      "execution_count": 6,
      "outputs": [
        {
          "output_type": "execute_result",
          "data": {
            "text/plain": [
              "{'friend': 'Dada', 'name': 'Fadia'}"
            ]
          },
          "metadata": {},
          "execution_count": 6
        }
      ]
    },
    {
      "cell_type": "code",
      "metadata": {
        "colab": {
          "base_uri": "https://localhost:8080/"
        },
        "id": "eOfXilsJTEy2",
        "outputId": "971d2802-9df6-4796-b0d0-f8c57c111776"
      },
      "source": [
        "MLB_team = dict(\n",
        "    Colorado='Rockies',\n",
        "    Boston='Red Sox',\n",
        "    Minnesota='Twins',\n",
        "    Milwaukee='Brewers'\n",
        ") \n",
        "MLB_team"
      ],
      "execution_count": 8,
      "outputs": [
        {
          "output_type": "execute_result",
          "data": {
            "text/plain": [
              "{'Boston': 'Red Sox',\n",
              " 'Colorado': 'Rockies',\n",
              " 'Milwaukee': 'Brewers',\n",
              " 'Minnesota': 'Twins'}"
            ]
          },
          "metadata": {},
          "execution_count": 8
        }
      ]
    },
    {
      "cell_type": "code",
      "metadata": {
        "colab": {
          "base_uri": "https://localhost:8080/",
          "height": 35
        },
        "id": "54medMgpTlC_",
        "outputId": "d6b587d9-28c9-48b1-886a-f5befa42a86e"
      },
      "source": [
        "MLB_team['Minnesota']"
      ],
      "execution_count": 11,
      "outputs": [
        {
          "output_type": "execute_result",
          "data": {
            "application/vnd.google.colaboratory.intrinsic+json": {
              "type": "string"
            },
            "text/plain": [
              "'Twins'"
            ]
          },
          "metadata": {},
          "execution_count": 11
        }
      ]
    },
    {
      "cell_type": "code",
      "metadata": {
        "colab": {
          "base_uri": "https://localhost:8080/"
        },
        "id": "BOLDw279TujQ",
        "outputId": "37ffca62-6c3a-4352-9263-3c4b2c5fae0b"
      },
      "source": [
        "#Adding an entry\n",
        "MLB_team['Kansas City'] = 'Royals' \n",
        "MLB_team"
      ],
      "execution_count": 14,
      "outputs": [
        {
          "output_type": "execute_result",
          "data": {
            "text/plain": [
              "{'Boston': 'Red Sox',\n",
              " 'Colorado': 'Rockies',\n",
              " 'Kansas City': 'Royals',\n",
              " 'Milwaukee': 'Brewers',\n",
              " 'Minnesota': 'Twins'}"
            ]
          },
          "metadata": {},
          "execution_count": 14
        }
      ]
    },
    {
      "cell_type": "code",
      "metadata": {
        "colab": {
          "base_uri": "https://localhost:8080/"
        },
        "id": "wPZ66hUCUJL_",
        "outputId": "3c189f05-4f6c-41cb-e09e-01a97baa7d80"
      },
      "source": [
        "#Updating an entry\n",
        "MLB_team['Colorado'] = 'Seahawks'\n",
        "MLB_team"
      ],
      "execution_count": 16,
      "outputs": [
        {
          "output_type": "execute_result",
          "data": {
            "text/plain": [
              "{'Boston': 'Red Sox',\n",
              " 'Colorado': 'Seahawks',\n",
              " 'Kansas City': 'Royals',\n",
              " 'Milwaukee': 'Brewers',\n",
              " 'Minnesota': 'Twins'}"
            ]
          },
          "metadata": {},
          "execution_count": 16
        }
      ]
    },
    {
      "cell_type": "code",
      "metadata": {
        "colab": {
          "base_uri": "https://localhost:8080/",
          "height": 35
        },
        "id": "y0O6LhYTUd6U",
        "outputId": "1fec6c60-dbc2-4f54-a739-e38ffe81658f"
      },
      "source": [
        "MLB_team['Colorado']"
      ],
      "execution_count": 18,
      "outputs": [
        {
          "output_type": "execute_result",
          "data": {
            "application/vnd.google.colaboratory.intrinsic+json": {
              "type": "string"
            },
            "text/plain": [
              "'Seahawks'"
            ]
          },
          "metadata": {},
          "execution_count": 18
        }
      ]
    },
    {
      "cell_type": "code",
      "metadata": {
        "id": "9z_KcIkFUkhc"
      },
      "source": [
        "del MLB_team['Minnesota'] #already deleted\n"
      ],
      "execution_count": null,
      "outputs": []
    },
    {
      "cell_type": "code",
      "metadata": {
        "colab": {
          "base_uri": "https://localhost:8080/"
        },
        "id": "tpwaVBHqVUpu",
        "outputId": "dfacbd10-af6b-46d8-9c7f-db6b4f898329"
      },
      "source": [
        "MLB_team"
      ],
      "execution_count": 25,
      "outputs": [
        {
          "output_type": "execute_result",
          "data": {
            "text/plain": [
              "{'Boston': 'Red Sox',\n",
              " 'Colorado': 'Seahawks',\n",
              " 'Kansas City': 'Royals',\n",
              " 'Milwaukee': 'Brewers'}"
            ]
          },
          "metadata": {},
          "execution_count": 25
        }
      ]
    },
    {
      "cell_type": "code",
      "metadata": {
        "colab": {
          "base_uri": "https://localhost:8080/",
          "height": 35
        },
        "id": "VNeWpVVYVdoU",
        "outputId": "9e48867f-48f9-48cb-daa4-f0b5161a628a"
      },
      "source": [
        "d = {\n",
        "    0: 'a',\n",
        "    1: 'b',\n",
        "    2: 'c'\n",
        "}\n",
        "d[1]"
      ],
      "execution_count": 26,
      "outputs": [
        {
          "output_type": "execute_result",
          "data": {
            "application/vnd.google.colaboratory.intrinsic+json": {
              "type": "string"
            },
            "text/plain": [
              "'b'"
            ]
          },
          "metadata": {},
          "execution_count": 26
        }
      ]
    },
    {
      "cell_type": "markdown",
      "metadata": {
        "id": "QJTX29h8Wh3J"
      },
      "source": [
        "dictionaries are not hashable\n",
        "Are not accessed by index\n",
        "has no attribute append\n"
      ]
    },
    {
      "cell_type": "code",
      "metadata": {
        "colab": {
          "base_uri": "https://localhost:8080/"
        },
        "id": "sQ2ZRXAfYWz7",
        "outputId": "d37f4fa1-c8aa-496f-abd2-9e71ad715ebd"
      },
      "source": [
        "# building a dictionary incrementally\n",
        "person = {}\n",
        "person['fname'] = 'Joe',\n",
        "person['lname'] = 'Fonebone',\n",
        "person['age'] = 51,\n",
        "person['spouse'] = 'Edna',\n",
        "person['children'] = ['Ralph', 'Betty', 'Joe'],\n",
        "person['pets'] = {'dog': 'Fido', 'cat': 'Sox'}\n",
        "person"
      ],
      "execution_count": 29,
      "outputs": [
        {
          "output_type": "execute_result",
          "data": {
            "text/plain": [
              "{'age': (51,),\n",
              " 'children': (['Ralph', 'Betty', 'Joe'],),\n",
              " 'fname': ('Joe',),\n",
              " 'lname': ('Fonebone',),\n",
              " 'pets': {'cat': 'Sox', 'dog': 'Fido'},\n",
              " 'spouse': ('Edna',)}"
            ]
          },
          "metadata": {},
          "execution_count": 29
        }
      ]
    },
    {
      "cell_type": "markdown",
      "metadata": {
        "id": "fpfxfRNWbdRA"
      },
      "source": [
        "values and keys of a dictionary dont need to be of thesame type\n"
      ]
    },
    {
      "cell_type": "code",
      "metadata": {
        "colab": {
          "base_uri": "https://localhost:8080/"
        },
        "id": "X3L-LlmYaFvW",
        "outputId": "1191b5db-8649-452c-be83-f64a4296a45d"
      },
      "source": [
        "person['fname']"
      ],
      "execution_count": 33,
      "outputs": [
        {
          "output_type": "execute_result",
          "data": {
            "text/plain": [
              "('Joe',)"
            ]
          },
          "metadata": {},
          "execution_count": 33
        }
      ]
    },
    {
      "cell_type": "code",
      "metadata": {
        "colab": {
          "base_uri": "https://localhost:8080/"
        },
        "id": "fHo-CMS2aijz",
        "outputId": "f4b75094-6e82-417e-d6de-fd4d1cd8f152"
      },
      "source": [
        "person['pets']"
      ],
      "execution_count": 35,
      "outputs": [
        {
          "output_type": "execute_result",
          "data": {
            "text/plain": [
              "{'cat': 'Sox', 'dog': 'Fido'}"
            ]
          },
          "metadata": {},
          "execution_count": 35
        }
      ]
    },
    {
      "cell_type": "code",
      "metadata": {
        "colab": {
          "base_uri": "https://localhost:8080/"
        },
        "id": "B0UWgikYapNa",
        "outputId": "9dc01983-95d5-4d47-a326-21bb2dc15af9"
      },
      "source": [
        "person['children'][0]"
      ],
      "execution_count": 42,
      "outputs": [
        {
          "output_type": "execute_result",
          "data": {
            "text/plain": [
              "['Ralph', 'Betty', 'Joe']"
            ]
          },
          "metadata": {},
          "execution_count": 42
        }
      ]
    },
    {
      "cell_type": "code",
      "metadata": {
        "colab": {
          "base_uri": "https://localhost:8080/"
        },
        "id": "_d7xu-95bH7h",
        "outputId": "1e051125-9d98-473e-ba67-1e670bf26fb3"
      },
      "source": [
        "#restrictions on dictionary keys\n",
        "foo = {42: 'aa', 2.78: 'bb', True: 'ccc'}\n",
        "foo"
      ],
      "execution_count": 45,
      "outputs": [
        {
          "output_type": "execute_result",
          "data": {
            "text/plain": [
              "{True: 'ccc', 2.78: 'bb', 42: 'aa'}"
            ]
          },
          "metadata": {},
          "execution_count": 45
        }
      ]
    },
    {
      "cell_type": "code",
      "metadata": {
        "colab": {
          "base_uri": "https://localhost:8080/",
          "height": 35
        },
        "id": "Pfcl6UPucljN",
        "outputId": "5e55ad78-b42f-42c4-8dd4-b8fe1498fd03"
      },
      "source": [
        "foo[True]"
      ],
      "execution_count": 47,
      "outputs": [
        {
          "output_type": "execute_result",
          "data": {
            "application/vnd.google.colaboratory.intrinsic+json": {
              "type": "string"
            },
            "text/plain": [
              "'ccc'"
            ]
          },
          "metadata": {},
          "execution_count": 47
        }
      ]
    },
    {
      "cell_type": "code",
      "metadata": {
        "colab": {
          "base_uri": "https://localhost:8080/"
        },
        "id": "l9TApU11cqfr",
        "outputId": "4bc421d0-7f64-4209-b8c5-a27ddb57d902"
      },
      "source": [
        "#built in objects can be used\n",
        "d = {int: 1, float: 23.3, bool: 3, hex: 4,}\n",
        "d[bool]"
      ],
      "execution_count": 50,
      "outputs": [
        {
          "output_type": "execute_result",
          "data": {
            "text/plain": [
              "3"
            ]
          },
          "metadata": {},
          "execution_count": 50
        }
      ]
    },
    {
      "cell_type": "markdown",
      "metadata": {
        "id": "3NheRsjAdPia"
      },
      "source": [
        "a key can appear only once\n",
        "key can map only one value\n",
        "the key must be of an immutable type "
      ]
    },
    {
      "cell_type": "code",
      "metadata": {
        "id": "yGJKS0k2elYf"
      },
      "source": [
        "#neither a list nor another dictionary can be used as a key\n",
        "#Keys are hashable objects"
      ],
      "execution_count": 51,
      "outputs": []
    },
    {
      "cell_type": "code",
      "metadata": {
        "id": "5WIBOA6Lf3d6"
      },
      "source": [
        "#retsrictions on value\n",
        "#no restrictions on particular values"
      ],
      "execution_count": 52,
      "outputs": []
    },
    {
      "cell_type": "code",
      "metadata": {
        "colab": {
          "base_uri": "https://localhost:8080/"
        },
        "id": "G7gIC06Bhij3",
        "outputId": "2e231633-ddcc-4a2e-9faa-9598ac207049"
      },
      "source": [
        "#operators and built-in functions\n",
        "'Milwaukee' in MLB_team"
      ],
      "execution_count": 54,
      "outputs": [
        {
          "output_type": "execute_result",
          "data": {
            "text/plain": [
              "True"
            ]
          },
          "metadata": {},
          "execution_count": 54
        }
      ]
    },
    {
      "cell_type": "code",
      "metadata": {
        "colab": {
          "base_uri": "https://localhost:8080/"
        },
        "id": "gg927Royh5Kp",
        "outputId": "fc0b5b60-992e-4b2f-c053-47a1aff4bf4b"
      },
      "source": [
        "'Toronto' not in MLB_team"
      ],
      "execution_count": 56,
      "outputs": [
        {
          "output_type": "execute_result",
          "data": {
            "text/plain": [
              "True"
            ]
          },
          "metadata": {},
          "execution_count": 56
        }
      ]
    },
    {
      "cell_type": "code",
      "metadata": {
        "colab": {
          "base_uri": "https://localhost:8080/",
          "height": 163
        },
        "id": "c98qh8HKiLR8",
        "outputId": "2ea7b6b5-70c3-49df-c6e7-8c944e8b3be3"
      },
      "source": [
        "MLB_team['Toronto']"
      ],
      "execution_count": 58,
      "outputs": [
        {
          "output_type": "error",
          "ename": "KeyError",
          "evalue": "ignored",
          "traceback": [
            "\u001b[0;31m---------------------------------------------------------------------------\u001b[0m",
            "\u001b[0;31mKeyError\u001b[0m                                  Traceback (most recent call last)",
            "\u001b[0;32m<ipython-input-58-0cf457503e5d>\u001b[0m in \u001b[0;36m<module>\u001b[0;34m()\u001b[0m\n\u001b[0;32m----> 1\u001b[0;31m \u001b[0mMLB_team\u001b[0m\u001b[0;34m[\u001b[0m\u001b[0;34m'Toronto'\u001b[0m\u001b[0;34m]\u001b[0m\u001b[0;34m\u001b[0m\u001b[0;34m\u001b[0m\u001b[0m\n\u001b[0m",
            "\u001b[0;31mKeyError\u001b[0m: 'Toronto'"
          ]
        }
      ]
    },
    {
      "cell_type": "code",
      "metadata": {
        "colab": {
          "base_uri": "https://localhost:8080/"
        },
        "id": "iIZyQ6zjiUus",
        "outputId": "26cb3875-4ab6-4938-899d-2fc76a972a14"
      },
      "source": [
        "'Toronto' in MLB_team and MLB_team['Toronto'] #short circuit evaluation"
      ],
      "execution_count": 61,
      "outputs": [
        {
          "output_type": "execute_result",
          "data": {
            "text/plain": [
              "False"
            ]
          },
          "metadata": {},
          "execution_count": 61
        }
      ]
    },
    {
      "cell_type": "code",
      "metadata": {
        "colab": {
          "base_uri": "https://localhost:8080/"
        },
        "id": "XbRIo5Y8infE",
        "outputId": "bd2f90ec-0626-4526-e7ab-3b1876d474f0"
      },
      "source": [
        "len(MLB_team)"
      ],
      "execution_count": 63,
      "outputs": [
        {
          "output_type": "execute_result",
          "data": {
            "text/plain": [
              "4"
            ]
          },
          "metadata": {},
          "execution_count": 63
        }
      ]
    },
    {
      "cell_type": "code",
      "metadata": {
        "colab": {
          "base_uri": "https://localhost:8080/"
        },
        "id": "v_g7j51mirp2",
        "outputId": "11ee7aa0-91ad-4461-88d4-ab71262d4885"
      },
      "source": [
        "#Built-in dic methods\n",
        "d = {'a':10, 'b':20, 'c':30}\n",
        "d.clear()\n",
        "d"
      ],
      "execution_count": 66,
      "outputs": [
        {
          "output_type": "execute_result",
          "data": {
            "text/plain": [
              "{}"
            ]
          },
          "metadata": {},
          "execution_count": 66
        }
      ]
    },
    {
      "cell_type": "code",
      "metadata": {
        "colab": {
          "base_uri": "https://localhost:8080/"
        },
        "id": "UGi5bGhGkIyt",
        "outputId": "02f27841-d1e5-4100-b3e6-24e371c49575"
      },
      "source": [
        "d = {'a':10, 'b':20, 'c':30}\n",
        "d.get('b')"
      ],
      "execution_count": 68,
      "outputs": [
        {
          "output_type": "execute_result",
          "data": {
            "text/plain": [
              "20"
            ]
          },
          "metadata": {},
          "execution_count": 68
        }
      ]
    },
    {
      "cell_type": "code",
      "metadata": {
        "colab": {
          "base_uri": "https://localhost:8080/"
        },
        "id": "dxiaNunXkTk3",
        "outputId": "00eb1ce8-f113-4c53-8168-751c7aa02d5b"
      },
      "source": [
        "d.get('z', -1)"
      ],
      "execution_count": 75,
      "outputs": [
        {
          "output_type": "execute_result",
          "data": {
            "text/plain": [
              "-1"
            ]
          },
          "metadata": {},
          "execution_count": 75
        }
      ]
    },
    {
      "cell_type": "code",
      "metadata": {
        "colab": {
          "base_uri": "https://localhost:8080/"
        },
        "id": "l6L8-Nwgkhoj",
        "outputId": "51edf51d-d6a3-4b97-99e3-e69cef60216f"
      },
      "source": [
        "d = {'a':10, 'b':20, 'c':30} \n",
        "list(d.items())"
      ],
      "execution_count": 77,
      "outputs": [
        {
          "output_type": "execute_result",
          "data": {
            "text/plain": [
              "[('a', 10), ('b', 20), ('c', 30)]"
            ]
          },
          "metadata": {},
          "execution_count": 77
        }
      ]
    },
    {
      "cell_type": "markdown",
      "metadata": {
        "id": "BGbzgzzb35yc"
      },
      "source": [
        "returns list of tuples containing the key value pairs "
      ]
    },
    {
      "cell_type": "code",
      "metadata": {
        "colab": {
          "base_uri": "https://localhost:8080/"
        },
        "id": "8tsMTsQw4BDJ",
        "outputId": "d7970395-5a84-47f4-d8ba-323cc591a2f6"
      },
      "source": [
        "list(d.items())[1][1]"
      ],
      "execution_count": 80,
      "outputs": [
        {
          "output_type": "execute_result",
          "data": {
            "text/plain": [
              "20"
            ]
          },
          "metadata": {},
          "execution_count": 80
        }
      ]
    },
    {
      "cell_type": "code",
      "metadata": {
        "colab": {
          "base_uri": "https://localhost:8080/"
        },
        "id": "hz04Y9Vq8WLS",
        "outputId": "cd5162ed-609b-43ce-a4ae-1c7e28d785d6"
      },
      "source": [
        "d.keys()"
      ],
      "execution_count": 82,
      "outputs": [
        {
          "output_type": "execute_result",
          "data": {
            "text/plain": [
              "dict_keys(['a', 'b', 'c'])"
            ]
          },
          "metadata": {},
          "execution_count": 82
        }
      ]
    },
    {
      "cell_type": "code",
      "metadata": {
        "colab": {
          "base_uri": "https://localhost:8080/"
        },
        "id": "PLZKu21H8vl8",
        "outputId": "7595bf6f-33ca-44ec-c225-030851ff0dc9"
      },
      "source": [
        "list(d.values())"
      ],
      "execution_count": 85,
      "outputs": [
        {
          "output_type": "execute_result",
          "data": {
            "text/plain": [
              "[10, 20, 30]"
            ]
          },
          "metadata": {},
          "execution_count": 85
        }
      ]
    },
    {
      "cell_type": "code",
      "metadata": {
        "colab": {
          "base_uri": "https://localhost:8080/",
          "height": 163
        },
        "id": "TOxamUXc9fi7",
        "outputId": "474da4df-1b41-4e39-ff0c-7078f69a5ff8"
      },
      "source": [
        "d.pop('b')"
      ],
      "execution_count": 87,
      "outputs": [
        {
          "output_type": "error",
          "ename": "KeyError",
          "evalue": "ignored",
          "traceback": [
            "\u001b[0;31m---------------------------------------------------------------------------\u001b[0m",
            "\u001b[0;31mKeyError\u001b[0m                                  Traceback (most recent call last)",
            "\u001b[0;32m<ipython-input-87-71ad316f2bd4>\u001b[0m in \u001b[0;36m<module>\u001b[0;34m()\u001b[0m\n\u001b[0;32m----> 1\u001b[0;31m \u001b[0md\u001b[0m\u001b[0;34m.\u001b[0m\u001b[0mpop\u001b[0m\u001b[0;34m(\u001b[0m\u001b[0;34m'b'\u001b[0m\u001b[0;34m)\u001b[0m\u001b[0;34m\u001b[0m\u001b[0;34m\u001b[0m\u001b[0m\n\u001b[0m",
            "\u001b[0;31mKeyError\u001b[0m: 'b'"
          ]
        }
      ]
    },
    {
      "cell_type": "code",
      "metadata": {
        "colab": {
          "base_uri": "https://localhost:8080/"
        },
        "id": "TBadeExN9jop",
        "outputId": "71bd721e-d3fa-4788-b24e-2f00e45b08e9"
      },
      "source": [
        "print(d)"
      ],
      "execution_count": 90,
      "outputs": [
        {
          "output_type": "stream",
          "name": "stdout",
          "text": [
            "{'a': 10, 'c': 30}\n"
          ]
        }
      ]
    },
    {
      "cell_type": "code",
      "metadata": {
        "colab": {
          "base_uri": "https://localhost:8080/"
        },
        "id": "O6Usp-qo9t93",
        "outputId": "6bf2302f-c0c9-4a71-b02c-df6bf53562d6"
      },
      "source": [
        "d.popitem()"
      ],
      "execution_count": 92,
      "outputs": [
        {
          "output_type": "execute_result",
          "data": {
            "text/plain": [
              "('a', 10)"
            ]
          },
          "metadata": {},
          "execution_count": 92
        }
      ]
    },
    {
      "cell_type": "code",
      "metadata": {
        "colab": {
          "base_uri": "https://localhost:8080/"
        },
        "id": "G6vl3LhU9xiL",
        "outputId": "6a19e9b5-498c-4481-ed57-ce7c4d9fd4b3"
      },
      "source": [
        "d"
      ],
      "execution_count": 94,
      "outputs": [
        {
          "output_type": "execute_result",
          "data": {
            "text/plain": [
              "{}"
            ]
          },
          "metadata": {},
          "execution_count": 94
        }
      ]
    },
    {
      "cell_type": "code",
      "metadata": {
        "colab": {
          "base_uri": "https://localhost:8080/"
        },
        "id": "qvofk_Np94Se",
        "outputId": "c8527261-d891-41d3-8dc0-209910b40e8a"
      },
      "source": [
        "d1 = {'a': 10, 'b': 24, 'c': 89}\n",
        "d2 = { 'x': 23, 'y':76}\n",
        "d1.update(d2)\n",
        "d1"
      ],
      "execution_count": 95,
      "outputs": [
        {
          "output_type": "execute_result",
          "data": {
            "text/plain": [
              "{'a': 10, 'b': 24, 'c': 89, 'x': 23, 'y': 76}"
            ]
          },
          "metadata": {},
          "execution_count": 95
        }
      ]
    }
  ]
}