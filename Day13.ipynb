{
  "nbformat": 4,
  "nbformat_minor": 0,
  "metadata": {
    "colab": {
      "name": "Day13.ipynb",
      "provenance": [],
      "authorship_tag": "ABX9TyOQcTc9VYLzhAhdJo7a4jWf",
      "include_colab_link": true
    },
    "kernelspec": {
      "name": "python3",
      "display_name": "Python 3"
    },
    "language_info": {
      "name": "python"
    }
  },
  "cells": [
    {
      "cell_type": "markdown",
      "metadata": {
        "id": "view-in-github",
        "colab_type": "text"
      },
      "source": [
        "<a href=\"https://colab.research.google.com/github/Hawawou/WTM-100-DOC/blob/main/Day13.ipynb\" target=\"_parent\"><img src=\"https://colab.research.google.com/assets/colab-badge.svg\" alt=\"Open In Colab\"/></a>"
      ]
    },
    {
      "cell_type": "code",
      "metadata": {
        "colab": {
          "base_uri": "https://localhost:8080/"
        },
        "id": "96yFdxc6nvg7",
        "outputId": "31d5b620-9b5e-4df8-9a60-4637f6b1a7b4"
      },
      "source": [
        "app = {\n",
        "    \"first\": \"whatsapp\",\n",
        "    \"second\": \"twitter\",\n",
        "    \"third\": \"facebook\"\n",
        "}\n",
        "app"
      ],
      "execution_count": null,
      "outputs": [
        {
          "output_type": "execute_result",
          "data": {
            "text/plain": [
              "{'first': 'whatsapp', 'second': 'twitter', 'third': 'facebook'}"
            ]
          },
          "metadata": {},
          "execution_count": 3
        }
      ]
    },
    {
      "cell_type": "code",
      "metadata": {
        "colab": {
          "base_uri": "https://localhost:8080/"
        },
        "id": "kZzpgDCwp1D3",
        "outputId": "b017f6a5-a30d-464b-e2ee-46d906800726"
      },
      "source": [
        "numbers = [1, 2, 3, 4, 5]\n",
        "def square(number):\n",
        "  return number ** 2\n",
        "\n",
        "squared = map(square, numbers)\n",
        "list(squared)"
      ],
      "execution_count": null,
      "outputs": [
        {
          "output_type": "execute_result",
          "data": {
            "text/plain": [
              "[1, 4, 9, 16, 25]"
            ]
          },
          "metadata": {},
          "execution_count": 9
        }
      ]
    },
    {
      "cell_type": "markdown",
      "metadata": {
        "id": "gvxgaGiu0Nuo"
      },
      "source": [
        "map() uses less memory than the for loop and it is more efficient than "
      ]
    },
    {
      "cell_type": "code",
      "metadata": {
        "colab": {
          "base_uri": "https://localhost:8080/"
        },
        "id": "vutI-lKnw4up",
        "outputId": "1dd4c923-ed1d-498e-94e5-77f32b088129"
      },
      "source": [
        "#Alternatively\n",
        "squared = []\n",
        "for num in numbers:\n",
        "  squared.append(num**2)\n",
        "print(squared)"
      ],
      "execution_count": null,
      "outputs": [
        {
          "output_type": "stream",
          "name": "stdout",
          "text": [
            "[1, 4, 9, 16, 25]\n"
          ]
        }
      ]
    },
    {
      "cell_type": "code",
      "metadata": {
        "colab": {
          "base_uri": "https://localhost:8080/"
        },
        "id": "EauSylvz0r0F",
        "outputId": "4e59492b-2c57-48d2-97c2-d848f0decc7c"
      },
      "source": [
        "str_num = [\"3\", \"4\", \"9\", \"2\", \"23\", \"56\"]\n",
        "int_num = map(int, str_num)\n",
        "list(int_num)"
      ],
      "execution_count": null,
      "outputs": [
        {
          "output_type": "execute_result",
          "data": {
            "text/plain": [
              "[3, 4, 9, 2, 23, 56]"
            ]
          },
          "metadata": {},
          "execution_count": 12
        }
      ]
    },
    {
      "cell_type": "code",
      "metadata": {
        "colab": {
          "base_uri": "https://localhost:8080/"
        },
        "id": "LaaRMx3f25Io",
        "outputId": "ab8ff5fa-0aa1-45d2-f052-06da76c0c7a1"
      },
      "source": [
        "abs(-23)"
      ],
      "execution_count": null,
      "outputs": [
        {
          "output_type": "execute_result",
          "data": {
            "text/plain": [
              "23"
            ]
          },
          "metadata": {},
          "execution_count": 14
        }
      ]
    },
    {
      "cell_type": "code",
      "metadata": {
        "colab": {
          "base_uri": "https://localhost:8080/"
        },
        "id": "nTmPieT0CWcP",
        "outputId": "a2cee60f-bff7-4100-9bfd-f00d8fab86e8"
      },
      "source": [
        "num = [-2, -3, -4, -5, -6]\n",
        "abs_values = map(abs, num)\n",
        "list(abs_values)"
      ],
      "execution_count": null,
      "outputs": [
        {
          "output_type": "execute_result",
          "data": {
            "text/plain": [
              "[2, 3, 4, 5, 6]"
            ]
          },
          "metadata": {},
          "execution_count": 16
        }
      ]
    },
    {
      "cell_type": "code",
      "metadata": {
        "colab": {
          "base_uri": "https://localhost:8080/"
        },
        "id": "vqzkEABnDz8G",
        "outputId": "05f22216-d5be-45fe-cf27-adfedb8fa3e9"
      },
      "source": [
        "words = [\"Welcome\", \"to\", \"Real\", \"Python\"]\n",
        "list(map(len, words))"
      ],
      "execution_count": null,
      "outputs": [
        {
          "output_type": "execute_result",
          "data": {
            "text/plain": [
              "[7, 2, 4, 6]"
            ]
          },
          "metadata": {},
          "execution_count": 18
        }
      ]
    },
    {
      "cell_type": "code",
      "metadata": {
        "colab": {
          "base_uri": "https://localhost:8080/"
        },
        "id": "v3BTdEE2EWFl",
        "outputId": "d8f21197-79d9-4967-e725-09f5fcf43761"
      },
      "source": [
        "squared = map(lambda num: num ** 2, numbers)\n",
        "list(squared)"
      ],
      "execution_count": null,
      "outputs": [
        {
          "output_type": "execute_result",
          "data": {
            "text/plain": [
              "[1, 4, 9, 16, 25]"
            ]
          },
          "metadata": {},
          "execution_count": 19
        }
      ]
    },
    {
      "cell_type": "markdown",
      "metadata": {
        "id": "63Hg4W1BG19d"
      },
      "source": [
        "lambda functions useful when you need to pass an expression based function to map()"
      ]
    },
    {
      "cell_type": "code",
      "metadata": {
        "colab": {
          "base_uri": "https://localhost:8080/"
        },
        "id": "dbOcVG6aHBX1",
        "outputId": "16af069a-ca75-468f-c8ab-f1783e9324ca"
      },
      "source": [
        "first = [1, 2, 3, 4]\n",
        "second = [5, 6, 7, 8]\n",
        "\n",
        "list(map(pow, first, second))"
      ],
      "execution_count": null,
      "outputs": [
        {
          "output_type": "execute_result",
          "data": {
            "text/plain": [
              "[1, 64, 2187, 65536]"
            ]
          },
          "metadata": {},
          "execution_count": 21
        }
      ]
    },
    {
      "cell_type": "code",
      "metadata": {
        "colab": {
          "base_uri": "https://localhost:8080/"
        },
        "id": "MS4a-tn0HT-0",
        "outputId": "a019dc7e-0fd4-4df9-a30b-c6a5b79448ee"
      },
      "source": [
        "list(map(lambda x,y:x*y, first, second))"
      ],
      "execution_count": null,
      "outputs": [
        {
          "output_type": "execute_result",
          "data": {
            "text/plain": [
              "[5, 12, 21, 32]"
            ]
          },
          "metadata": {},
          "execution_count": 23
        }
      ]
    },
    {
      "cell_type": "code",
      "metadata": {
        "colab": {
          "base_uri": "https://localhost:8080/"
        },
        "id": "kClGoAwDLuB2",
        "outputId": "e4d99f96-679a-4fcb-f772-87e720007c56"
      },
      "source": [
        "#transforming iterables of string\n",
        "string_it = [\"processing\", \"strings\", \"with\", \"string_it\"]\n",
        "list(map(str.capitalize, string_it))"
      ],
      "execution_count": null,
      "outputs": [
        {
          "output_type": "execute_result",
          "data": {
            "text/plain": [
              "['Processing', 'Strings', 'With', 'String_it']"
            ]
          },
          "metadata": {},
          "execution_count": 24
        }
      ]
    },
    {
      "cell_type": "code",
      "metadata": {
        "colab": {
          "base_uri": "https://localhost:8080/"
        },
        "id": "Ryq4S0RSNEE5",
        "outputId": "2119a28b-7c1b-4b32-92af-2d68c93134bf"
      },
      "source": [
        "list(map(str.upper, string_it))"
      ],
      "execution_count": null,
      "outputs": [
        {
          "output_type": "execute_result",
          "data": {
            "text/plain": [
              "['PROCESSING', 'STRINGS', 'WITH', 'STRING_IT']"
            ]
          },
          "metadata": {},
          "execution_count": 27
        }
      ]
    },
    {
      "cell_type": "code",
      "metadata": {
        "colab": {
          "base_uri": "https://localhost:8080/"
        },
        "id": "F-9aaHRDNj2d",
        "outputId": "79b66bd9-ce78-48cd-ab2f-6fe9cbbfa15e"
      },
      "source": [
        "list(map(str.swapcase, string_it))"
      ],
      "execution_count": null,
      "outputs": [
        {
          "output_type": "execute_result",
          "data": {
            "text/plain": [
              "['PROCESSING', 'STRINGS', 'WITH', 'STRING_IT']"
            ]
          },
          "metadata": {},
          "execution_count": 29
        }
      ]
    },
    {
      "cell_type": "code",
      "metadata": {
        "colab": {
          "base_uri": "https://localhost:8080/"
        },
        "id": "YW3fpqhLPzTh",
        "outputId": "e549fccc-9cf0-4f53-a40a-38ab058e09dc"
      },
      "source": [
        "with_dots = [\"processing..\", \"..strings\", \"..with\" ]\n",
        "list(map(lambda s:s.strip(\".\"), with_dots))"
      ],
      "execution_count": null,
      "outputs": [
        {
          "output_type": "execute_result",
          "data": {
            "text/plain": [
              "['processing', 'strings', 'with']"
            ]
          },
          "metadata": {},
          "execution_count": 31
        }
      ]
    },
    {
      "cell_type": "code",
      "metadata": {
        "colab": {
          "base_uri": "https://localhost:8080/",
          "height": 35
        },
        "id": "v3C3xrcFP3Yq",
        "outputId": "48484949-56c5-4380-d926-c8cf95005c2e"
      },
      "source": [
        "#Removing punctuation\n",
        "import re\n",
        "def remove_punc(word):\n",
        "  return re.sub(r'[!?.:;,\"()-]', \"\", word)\n",
        "\n",
        "remove_punc(\"..Python!,\")"
      ],
      "execution_count": null,
      "outputs": [
        {
          "output_type": "execute_result",
          "data": {
            "application/vnd.google.colaboratory.intrinsic+json": {
              "type": "string"
            },
            "text/plain": [
              "'Python'"
            ]
          },
          "metadata": {},
          "execution_count": 38
        }
      ]
    },
    {
      "cell_type": "code",
      "metadata": {
        "colab": {
          "base_uri": "https://localhost:8080/"
        },
        "id": "S_i1Bk_6SZVH",
        "outputId": "e36b94f0-147f-4560-8542-d485c4013ceb"
      },
      "source": [
        "text = \"\"\"Some people, when confronted with a problem, think \n",
        "...\"I know, I'll use regular expressions.\"\n",
        "...Now they have two problems\"\"\"\n",
        "words = text.split()\n",
        "words"
      ],
      "execution_count": null,
      "outputs": [
        {
          "output_type": "execute_result",
          "data": {
            "text/plain": [
              "['Some',\n",
              " 'people,',\n",
              " 'when',\n",
              " 'confronted',\n",
              " 'with',\n",
              " 'a',\n",
              " 'problem,',\n",
              " 'think',\n",
              " '...\"I',\n",
              " 'know,',\n",
              " \"I'll\",\n",
              " 'use',\n",
              " 'regular',\n",
              " 'expressions.\"',\n",
              " '...Now',\n",
              " 'they',\n",
              " 'have',\n",
              " 'two',\n",
              " 'problems']"
            ]
          },
          "metadata": {},
          "execution_count": 41
        }
      ]
    },
    {
      "cell_type": "code",
      "metadata": {
        "colab": {
          "base_uri": "https://localhost:8080/"
        },
        "id": "0MT0umYiS8F0",
        "outputId": "1ee38019-5c8a-4b25-b359-335d61230e3a"
      },
      "source": [
        "list(map(remove_punc, words))"
      ],
      "execution_count": null,
      "outputs": [
        {
          "output_type": "execute_result",
          "data": {
            "text/plain": [
              "['Some',\n",
              " 'people',\n",
              " 'when',\n",
              " 'confronted',\n",
              " 'with',\n",
              " 'a',\n",
              " 'problem',\n",
              " 'think',\n",
              " 'I',\n",
              " 'know',\n",
              " \"I'll\",\n",
              " 'use',\n",
              " 'regular',\n",
              " 'expressions',\n",
              " 'Now',\n",
              " 'they',\n",
              " 'have',\n",
              " 'two',\n",
              " 'problems']"
            ]
          },
          "metadata": {},
          "execution_count": 43
        }
      ]
    },
    {
      "cell_type": "code",
      "metadata": {
        "id": "A8Ax_ToYbq4H"
      },
      "source": [
        "#Caeser cipher\n",
        "def rotate_chr(c):\n",
        "  rot_by = 3\n",
        "  c = c.lower()\n",
        "  alphabet = \"abcdefghijklmnopqrstuvwxyz\"\n",
        "  #keep punctuation amd whitespace\n",
        "  if c not in alphabet:\n",
        "    return c\n",
        "  rotated_pos = ord(c) + rot_by\n",
        "  #if the rotation is inside the whitespace\n",
        "  if rotated_pos <= ord(alphabet[-1]):\n",
        "    return chr(rotated_pos)\n",
        "    #if the rotation goes beyond the alphabet\n",
        "  return chr(rotated_pos - len(alphabet))"
      ],
      "execution_count": null,
      "outputs": []
    },
    {
      "cell_type": "code",
      "metadata": {
        "colab": {
          "base_uri": "https://localhost:8080/"
        },
        "id": "nsO9-StohBkt",
        "outputId": "fa68bb30-a31a-4164-8914-6214b6576c2b"
      },
      "source": [
        "ord(\"a\") #takes a character as an argument and return the unicode"
      ],
      "execution_count": null,
      "outputs": [
        {
          "output_type": "execute_result",
          "data": {
            "text/plain": [
              "97"
            ]
          },
          "metadata": {},
          "execution_count": 50
        }
      ]
    },
    {
      "cell_type": "code",
      "metadata": {
        "colab": {
          "base_uri": "https://localhost:8080/",
          "height": 35
        },
        "id": "C3g01Vx-hLPD",
        "outputId": "26fc73a4-3f1e-44e6-eef1-e7c98e64f841"
      },
      "source": [
        "\"\".join(map(rotate_chr, \"hawaoutchapchet.\"))"
      ],
      "execution_count": null,
      "outputs": [
        {
          "output_type": "execute_result",
          "data": {
            "application/vnd.google.colaboratory.intrinsic+json": {
              "type": "string"
            },
            "text/plain": [
              "'kdzdrxwfkdsfkhw.'"
            ]
          },
          "metadata": {},
          "execution_count": 55
        }
      ]
    },
    {
      "cell_type": "code",
      "metadata": {
        "colab": {
          "base_uri": "https://localhost:8080/"
        },
        "id": "JpitlEWCmOb2",
        "outputId": "5b68c907-f7b8-4ede-e634-5f3011c35be7"
      },
      "source": [
        "#transforming iterables of numbers\n",
        "#python handles multiple return values as tuple\n",
        "def powers(x):\n",
        "  return x ** 2, x ** 3\n",
        "\n",
        "numbers = [2, 3, 5, 7]\n",
        "\n",
        "list(map(powers, numbers))"
      ],
      "execution_count": null,
      "outputs": [
        {
          "output_type": "execute_result",
          "data": {
            "text/plain": [
              "[(4, 8), (9, 27), (25, 125)]"
            ]
          },
          "metadata": {},
          "execution_count": 57
        }
      ]
    },
    {
      "cell_type": "code",
      "metadata": {
        "colab": {
          "base_uri": "https://localhost:8080/"
        },
        "id": "DBuPnws1mzRI",
        "outputId": "4e3cbcc4-692d-467b-c1b0-fd589762757a"
      },
      "source": [
        "import math\n",
        "numbers = [1, 2, 3, 4, 5, 6, 7]\n",
        "list(map(math.factorial, numbers))"
      ],
      "execution_count": null,
      "outputs": [
        {
          "output_type": "execute_result",
          "data": {
            "text/plain": [
              "[1, 2, 6, 24, 120, 720, 5040]"
            ]
          },
          "metadata": {},
          "execution_count": 58
        }
      ]
    }
  ]
}