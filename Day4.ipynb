{
  "nbformat": 4,
  "nbformat_minor": 0,
  "metadata": {
    "colab": {
      "name": "Day4.ipynb",
      "provenance": [],
      "authorship_tag": "ABX9TyNKLSjqwmB2bPxsE7v6lh6X",
      "include_colab_link": true
    },
    "kernelspec": {
      "name": "python3",
      "display_name": "Python 3"
    },
    "language_info": {
      "name": "python"
    }
  },
  "cells": [
    {
      "cell_type": "markdown",
      "metadata": {
        "id": "view-in-github",
        "colab_type": "text"
      },
      "source": [
        "<a href=\"https://colab.research.google.com/github/Hawawou/WTM-100-DOC/blob/main/Day4.ipynb\" target=\"_parent\"><img src=\"https://colab.research.google.com/assets/colab-badge.svg\" alt=\"Open In Colab\"/></a>"
      ]
    },
    {
      "cell_type": "code",
      "metadata": {
        "colab": {
          "base_uri": "https://localhost:8080/"
        },
        "id": "VfkbKF7_Hl8W",
        "outputId": "5d46a29f-a528-4425-ea6e-13eb6017377e"
      },
      "source": [
        "#Arrays must contain only thesame datatype\n",
        "list1 = [\"Hello\", 1, \"world\", 2]\n",
        "print(list1)"
      ],
      "execution_count": 1,
      "outputs": [
        {
          "output_type": "stream",
          "name": "stdout",
          "text": [
            "['Hello', 1, 'world', 2]\n"
          ]
        }
      ]
    },
    {
      "cell_type": "code",
      "metadata": {
        "colab": {
          "base_uri": "https://localhost:8080/"
        },
        "id": "l2qWSUtSIy5N",
        "outputId": "8627ec8e-3fff-46a4-8e92-08ba60027e40"
      },
      "source": [
        "var1 = \"Hello \" + \"world!\"\n",
        "list1 = [1, \"python\", 2, \"java\", 3, \"php\", 4, \"ruby\", 5.1, \"docker\", 32.4, 56.2, 11.32, 55.66, var1]\n",
        "print(list1)\n"
      ],
      "execution_count": 5,
      "outputs": [
        {
          "output_type": "stream",
          "name": "stdout",
          "text": [
            "[1, 'python', 2, 'java', 3, 'php', 4, 'ruby', 5.1, 'docker', 32.4, 56.2, 11.32, 55.66, 'Hello world!']\n"
          ]
        }
      ]
    },
    {
      "cell_type": "code",
      "metadata": {
        "colab": {
          "base_uri": "https://localhost:8080/"
        },
        "id": "SzlL6XnOKpuy",
        "outputId": "cb05f165-a2e4-4b1f-b8f5-48f50499dec1"
      },
      "source": [
        "list4 = [6, \"django\", 7, \"vuejs\", 8, \"laravel\", 9, \"flask\", 10, 786.9, 23.4, 12.4, 55.78, 98.07, 45.56]\n",
        "a = list1 + list4\n",
        "print(a)"
      ],
      "execution_count": 6,
      "outputs": [
        {
          "output_type": "stream",
          "name": "stdout",
          "text": [
            "[1, 'python', 2, 'java', 3, 'php', 4, 'ruby', 5.1, 'docker', 32.4, 56.2, 11.32, 55.66, 'Hello world!', 6, 'django', 7, 'vuejs', 8, 'laravel', 9, 'flask', 10, 786.9, 23.4, 12.4, 55.78, 98.07, 45.56]\n"
          ]
        }
      ]
    },
    {
      "cell_type": "code",
      "metadata": {
        "colab": {
          "base_uri": "https://localhost:8080/",
          "height": 129
        },
        "id": "gMewP-evLtvc",
        "outputId": "6e9f53af-34b5-4d2d-a8da-ca40147e3307"
      },
      "source": [
        "list2 = [5, 6, 7.0, \"eight\", \"nine\"]\n",
        "list3 = [for i in list2 type(i)]\n",
        "print(list3)"
      ],
      "execution_count": 14,
      "outputs": [
        {
          "output_type": "error",
          "ename": "SyntaxError",
          "evalue": "ignored",
          "traceback": [
            "\u001b[0;36m  File \u001b[0;32m\"<ipython-input-14-814e2c44298c>\"\u001b[0;36m, line \u001b[0;32m2\u001b[0m\n\u001b[0;31m    list3 = [for i in list2 type(i)]\u001b[0m\n\u001b[0m               ^\u001b[0m\n\u001b[0;31mSyntaxError\u001b[0m\u001b[0;31m:\u001b[0m invalid syntax\n"
          ]
        }
      ]
    }
  ]
}