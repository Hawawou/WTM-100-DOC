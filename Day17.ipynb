{
  "nbformat": 4,
  "nbformat_minor": 0,
  "metadata": {
    "colab": {
      "name": "Day17.ipynb",
      "provenance": [],
      "collapsed_sections": [],
      "authorship_tag": "ABX9TyOrxndP7ybE45F7eiPdrR3R",
      "include_colab_link": true
    },
    "kernelspec": {
      "name": "python3",
      "display_name": "Python 3"
    },
    "language_info": {
      "name": "python"
    }
  },
  "cells": [
    {
      "cell_type": "markdown",
      "metadata": {
        "id": "view-in-github",
        "colab_type": "text"
      },
      "source": [
        "<a href=\"https://colab.research.google.com/github/Hawawou/WTM-100-DOC/blob/main/Day17.ipynb\" target=\"_parent\"><img src=\"https://colab.research.google.com/assets/colab-badge.svg\" alt=\"Open In Colab\"/></a>"
      ]
    },
    {
      "cell_type": "code",
      "metadata": {
        "colab": {
          "base_uri": "https://localhost:8080/"
        },
        "id": "EkN8PA8ERUpY",
        "outputId": "4820c734-1ed8-4471-e097-5a73a1cdd7ca"
      },
      "source": [
        "#regular expressions\n",
        "s = 'foo123bar'\n",
        "s.find('123')"
      ],
      "execution_count": null,
      "outputs": [
        {
          "output_type": "execute_result",
          "data": {
            "text/plain": [
              "3"
            ]
          },
          "metadata": {},
          "execution_count": 1
        }
      ]
    },
    {
      "cell_type": "code",
      "metadata": {
        "colab": {
          "base_uri": "https://localhost:8080/"
        },
        "id": "rbqSM9d0cJUh",
        "outputId": "e3780a1c-1be3-4378-b061-ed5232504876"
      },
      "source": [
        "#re.search()\n",
        "import re\n",
        "s = 'foo123bar'\n",
        "re.search('123', s)"
      ],
      "execution_count": null,
      "outputs": [
        {
          "output_type": "execute_result",
          "data": {
            "text/plain": [
              "<re.Match object; span=(3, 6), match='123'>"
            ]
          },
          "metadata": {},
          "execution_count": 4
        }
      ]
    },
    {
      "cell_type": "markdown",
      "metadata": {
        "id": "gYnEC1s6cMLz"
      },
      "source": [
        "search resides in the re module. So it has to be imported"
      ]
    },
    {
      "cell_type": "code",
      "metadata": {
        "colab": {
          "base_uri": "https://localhost:8080/"
        },
        "id": "T1jH_RZxcdfI",
        "outputId": "fed45c49-a961-4ced-d7f4-ba6f5b16419a"
      },
      "source": [
        "if re.search('123', s):\n",
        "  print('Found a match')\n",
        "else:\n",
        "  print('No match')"
      ],
      "execution_count": null,
      "outputs": [
        {
          "output_type": "stream",
          "name": "stdout",
          "text": [
            "Found a match\n"
          ]
        }
      ]
    },
    {
      "cell_type": "code",
      "metadata": {
        "colab": {
          "base_uri": "https://localhost:8080/"
        },
        "id": "prZ9EXUZdaFq",
        "outputId": "57d85c47-00e8-4ee1-8d13-560965cfabfa"
      },
      "source": [
        "#regex metacharacters\n",
        "s = 'foo123bar'\n",
        "re.search('[0-9][0-9][0-9]', s)"
      ],
      "execution_count": null,
      "outputs": [
        {
          "output_type": "execute_result",
          "data": {
            "text/plain": [
              "<re.Match object; span=(3, 6), match='123'>"
            ]
          },
          "metadata": {},
          "execution_count": 11
        }
      ]
    },
    {
      "cell_type": "markdown",
      "metadata": {
        "id": "nPogGOWsfMkf"
      },
      "source": [
        "identifies digits in a string that contains 3 consecutive digits"
      ]
    },
    {
      "cell_type": "code",
      "metadata": {
        "colab": {
          "base_uri": "https://localhost:8080/"
        },
        "id": "ubmuXTa9ecZH",
        "outputId": "ae5ad5d0-a352-4dcf-e0b3-40a76fa5ecbb"
      },
      "source": [
        "re.search('1.3', s)"
      ],
      "execution_count": null,
      "outputs": [
        {
          "output_type": "execute_result",
          "data": {
            "text/plain": [
              "<re.Match object; span=(3, 6), match='123'>"
            ]
          },
          "metadata": {},
          "execution_count": 13
        }
      ]
    },
    {
      "cell_type": "markdown",
      "metadata": {
        "id": "68bEQmDtg9im"
      },
      "source": [
        "looks if s contains 1, any character then 3"
      ]
    },
    {
      "cell_type": "code",
      "metadata": {
        "colab": {
          "base_uri": "https://localhost:8080/"
        },
        "id": "0oq053EAg6sH",
        "outputId": "b8da4f6b-d880-4e7c-ebf3-4dfe9b2a1b50"
      },
      "source": [
        "import re\n",
        "re.search('ba[artz]', 'foobarqux')"
      ],
      "execution_count": null,
      "outputs": [
        {
          "output_type": "execute_result",
          "data": {
            "text/plain": [
              "<re.Match object; span=(3, 6), match='bar'>"
            ]
          },
          "metadata": {},
          "execution_count": 3
        }
      ]
    },
    {
      "cell_type": "code",
      "metadata": {
        "colab": {
          "base_uri": "https://localhost:8080/"
        },
        "id": "RcsWT8yZB4hM",
        "outputId": "b73919d8-6e10-4008-fadf-429e94bbda16"
      },
      "source": [
        "re.search('[a-z]', 'FOObcr')"
      ],
      "execution_count": null,
      "outputs": [
        {
          "output_type": "execute_result",
          "data": {
            "text/plain": [
              "<re.Match object; span=(3, 4), match='b'>"
            ]
          },
          "metadata": {},
          "execution_count": 6
        }
      ]
    },
    {
      "cell_type": "code",
      "metadata": {
        "colab": {
          "base_uri": "https://localhost:8080/"
        },
        "id": "U_-iXQ0oCe1W",
        "outputId": "42eb3196-c21b-4e42-a42d-5bb85e3643e5"
      },
      "source": [
        "re.search('[0-9a-fA-f]', '--- a0 ---')"
      ],
      "execution_count": null,
      "outputs": [
        {
          "output_type": "execute_result",
          "data": {
            "text/plain": [
              "<re.Match object; span=(4, 5), match='a'>"
            ]
          },
          "metadata": {},
          "execution_count": 7
        }
      ]
    },
    {
      "cell_type": "markdown",
      "metadata": {
        "id": "auDI1EODCrMs"
      },
      "source": [
        "matches a any hexadecimal digit"
      ]
    },
    {
      "cell_type": "code",
      "metadata": {
        "colab": {
          "base_uri": "https://localhost:8080/"
        },
        "id": "TmshVr1uCwSF",
        "outputId": "953db3ed-76fe-438f-839f-bb34077e66b6"
      },
      "source": [
        "re.search('[^0-9]', '1234foo')"
      ],
      "execution_count": null,
      "outputs": [
        {
          "output_type": "execute_result",
          "data": {
            "text/plain": [
              "<re.Match object; span=(4, 5), match='f'>"
            ]
          },
          "metadata": {},
          "execution_count": 8
        }
      ]
    },
    {
      "cell_type": "markdown",
      "metadata": {
        "id": "qo-cJxpiDTgC"
      },
      "source": [
        "first character that is not a digit"
      ]
    },
    {
      "cell_type": "code",
      "metadata": {
        "colab": {
          "base_uri": "https://localhost:8080/"
        },
        "id": "QtR62cF5DadJ",
        "outputId": "8a206876-1c7c-45a1-cd0a-a4c2381fc38d"
      },
      "source": [
        "re.search('[#:^]', 'foo^bar:baz#qux')"
      ],
      "execution_count": null,
      "outputs": [
        {
          "output_type": "execute_result",
          "data": {
            "text/plain": [
              "<re.Match object; span=(3, 4), match='^'>"
            ]
          },
          "metadata": {},
          "execution_count": 9
        }
      ]
    },
    {
      "cell_type": "markdown",
      "metadata": {
        "id": "Qu7GPm4UFxhK"
      },
      "source": [
        "when ^ is not at the beginning, it has no special meaning"
      ]
    },
    {
      "cell_type": "code",
      "metadata": {
        "colab": {
          "base_uri": "https://localhost:8080/"
        },
        "id": "kbbmdBrMF3Le",
        "outputId": "a43825dc-e67b-4adb-fa15-5cdf15540b45"
      },
      "source": [
        "re.search('[-abc]', '123-456')"
      ],
      "execution_count": null,
      "outputs": [
        {
          "output_type": "execute_result",
          "data": {
            "text/plain": [
              "<re.Match object; span=(3, 4), match='-'>"
            ]
          },
          "metadata": {},
          "execution_count": 11
        }
      ]
    },
    {
      "cell_type": "code",
      "metadata": {
        "colab": {
          "base_uri": "https://localhost:8080/"
        },
        "id": "dbeE4we4GLft",
        "outputId": "4fdc5731-191b-4413-dca6-f79c49656a6f"
      },
      "source": [
        "re.search('[ab\\-c]', '123-456')"
      ],
      "execution_count": null,
      "outputs": [
        {
          "output_type": "execute_result",
          "data": {
            "text/plain": [
              "<re.Match object; span=(3, 4), match='-'>"
            ]
          },
          "metadata": {},
          "execution_count": 13
        }
      ]
    },
    {
      "cell_type": "code",
      "metadata": {
        "colab": {
          "base_uri": "https://localhost:8080/"
        },
        "id": "sVHZjUjUGX78",
        "outputId": "98d5d67e-7e45-4d2f-84e4-5a72f2391c4a"
      },
      "source": [
        "import re\n",
        "re.search('[)*|]', '1234*56')"
      ],
      "execution_count": null,
      "outputs": [
        {
          "output_type": "execute_result",
          "data": {
            "text/plain": [
              "<re.Match object; span=(4, 5), match='*'>"
            ]
          },
          "metadata": {},
          "execution_count": 2
        }
      ]
    },
    {
      "cell_type": "markdown",
      "metadata": {
        "id": "eM0qVVFmxFGk"
      },
      "source": [
        "other regex character loss their special meaning inside a character class"
      ]
    },
    {
      "cell_type": "code",
      "metadata": {
        "colab": {
          "base_uri": "https://localhost:8080/"
        },
        "id": "04g5RmVfxuFQ",
        "outputId": "ac9c0626-34e0-4b68-ee04-560b0f04c6b6"
      },
      "source": [
        "import re\n",
        "re.search('foo.bar', 'fooxbar')"
      ],
      "execution_count": null,
      "outputs": [
        {
          "output_type": "execute_result",
          "data": {
            "text/plain": [
              "<re.Match object; span=(0, 7), match='fooxbar'>"
            ]
          },
          "metadata": {},
          "execution_count": 2
        }
      ]
    },
    {
      "cell_type": "markdown",
      "metadata": {
        "id": "WpOVtaPCyNiv"
      },
      "source": [
        "means the character foo, any character other than a new line then bar"
      ]
    },
    {
      "cell_type": "code",
      "metadata": {
        "colab": {
          "base_uri": "https://localhost:8080/"
        },
        "id": "jSxnILQIyTPZ",
        "outputId": "db645811-dd81-4840-d1b1-153320dde40d"
      },
      "source": [
        "re.search('\\w', '#(.a$@&)')"
      ],
      "execution_count": null,
      "outputs": [
        {
          "output_type": "execute_result",
          "data": {
            "text/plain": [
              "<re.Match object; span=(3, 4), match='a'>"
            ]
          },
          "metadata": {},
          "execution_count": 3
        }
      ]
    },
    {
      "cell_type": "markdown",
      "metadata": {
        "id": "DSGU9uGizMIq"
      },
      "source": [
        "matches any alphanumeric character. Equivalent of [a-zA-Z0-9]"
      ]
    },
    {
      "cell_type": "code",
      "metadata": {
        "colab": {
          "base_uri": "https://localhost:8080/"
        },
        "id": "GWjkXIoHzVTT",
        "outputId": "ef62ef17-77ed-4983-c12a-85f51f7f4406"
      },
      "source": [
        "re.search('\\W', 'a_1*3Qb')"
      ],
      "execution_count": null,
      "outputs": [
        {
          "output_type": "execute_result",
          "data": {
            "text/plain": [
              "<re.Match object; span=(3, 4), match='*'>"
            ]
          },
          "metadata": {},
          "execution_count": 4
        }
      ]
    },
    {
      "cell_type": "markdown",
      "metadata": {
        "id": "nU3ihOb80i98"
      },
      "source": [
        "equivalent to [^a-zA-Z0-9]"
      ]
    },
    {
      "cell_type": "code",
      "metadata": {
        "colab": {
          "base_uri": "https://localhost:8080/"
        },
        "id": "a7tZx7Nh0p9w",
        "outputId": "e27d21a4-f349-4803-ea58-d5ec6ea14932"
      },
      "source": [
        "re.search('\\d', 'abcd4ef')"
      ],
      "execution_count": null,
      "outputs": [
        {
          "output_type": "execute_result",
          "data": {
            "text/plain": [
              "<re.Match object; span=(4, 5), match='4'>"
            ]
          },
          "metadata": {},
          "execution_count": 5
        }
      ]
    },
    {
      "cell_type": "markdown",
      "metadata": {
        "id": "Lk6JvlJH01bU"
      },
      "source": [
        "matches decial digit"
      ]
    },
    {
      "cell_type": "code",
      "metadata": {
        "colab": {
          "base_uri": "https://localhost:8080/"
        },
        "id": "eHD0lO0703Yu",
        "outputId": "09976f6d-4f38-4d0e-dbfa-d8b549b3b945"
      },
      "source": [
        "re.search('\\D', '234Q678')"
      ],
      "execution_count": null,
      "outputs": [
        {
          "output_type": "execute_result",
          "data": {
            "text/plain": [
              "<re.Match object; span=(3, 4), match='Q'>"
            ]
          },
          "metadata": {},
          "execution_count": 6
        }
      ]
    },
    {
      "cell_type": "markdown",
      "metadata": {
        "id": "pTB02OvL1GxJ"
      },
      "source": [
        "equivalent to [^0-9]"
      ]
    },
    {
      "cell_type": "code",
      "metadata": {
        "colab": {
          "base_uri": "https://localhost:8080/"
        },
        "id": "lCbQkrno1LLj",
        "outputId": "0038e920-546d-45dc-fa1a-e40f231b8063"
      },
      "source": [
        "re.search('\\s', 'foo\\nbar baz')"
      ],
      "execution_count": null,
      "outputs": [
        {
          "output_type": "execute_result",
          "data": {
            "text/plain": [
              "<re.Match object; span=(3, 4), match='\\n'>"
            ]
          },
          "metadata": {},
          "execution_count": 7
        }
      ]
    },
    {
      "cell_type": "markdown",
      "metadata": {
        "id": "45FZThml1t6M"
      },
      "source": [
        "matches a new line"
      ]
    },
    {
      "cell_type": "code",
      "metadata": {
        "colab": {
          "base_uri": "https://localhost:8080/"
        },
        "id": "rl7n0oye1vof",
        "outputId": "b7b54b67-b56b-49c6-d8b0-6a549e0a43f6"
      },
      "source": [
        "re.search('\\S', '\\n foo \\n')"
      ],
      "execution_count": null,
      "outputs": [
        {
          "output_type": "execute_result",
          "data": {
            "text/plain": [
              "<re.Match object; span=(2, 3), match='f'>"
            ]
          },
          "metadata": {},
          "execution_count": 8
        }
      ]
    },
    {
      "cell_type": "markdown",
      "metadata": {
        "id": "a8ThUnAT13e4"
      },
      "source": [
        "any character that is not a whitespace"
      ]
    },
    {
      "cell_type": "code",
      "metadata": {
        "colab": {
          "base_uri": "https://localhost:8080/"
        },
        "id": "hwoGkEIv17H5",
        "outputId": "3494ae40-0b11-4cca-ee1c-ffe107aa6cc6"
      },
      "source": [
        "#escaping metacharacters\n",
        "re.search('\\.', 'foo.bar')"
      ],
      "execution_count": null,
      "outputs": [
        {
          "output_type": "execute_result",
          "data": {
            "text/plain": [
              "<re.Match object; span=(3, 4), match='.'>"
            ]
          },
          "metadata": {},
          "execution_count": 9
        }
      ]
    },
    {
      "cell_type": "markdown",
      "metadata": {
        "id": "UB-ziroB334V"
      },
      "source": [
        "it removes the special meaning of a metacharacter\n"
      ]
    },
    {
      "cell_type": "code",
      "metadata": {
        "colab": {
          "base_uri": "https://localhost:8080/"
        },
        "id": "kqvXBtf338y1",
        "outputId": "f16ba7c3-fb71-44e9-907f-1b5d3f6b712b"
      },
      "source": [
        "import re\n",
        "s = r'foo\\bar'\n",
        "re.search(r'\\\\', s)"
      ],
      "execution_count": null,
      "outputs": [
        {
          "output_type": "execute_result",
          "data": {
            "text/plain": [
              "<re.Match object; span=(3, 4), match='\\\\'>"
            ]
          },
          "metadata": {},
          "execution_count": 16
        }
      ]
    },
    {
      "cell_type": "code",
      "metadata": {
        "colab": {
          "base_uri": "https://localhost:8080/"
        },
        "id": "rjm1jAG_5lrG",
        "outputId": "c2677ab2-bfbc-492d-fb23-d1e01e6f1ad5"
      },
      "source": [
        "re.search('\\\\\\\\', s)"
      ],
      "execution_count": null,
      "outputs": [
        {
          "output_type": "execute_result",
          "data": {
            "text/plain": [
              "<re.Match object; span=(3, 4), match='\\\\'>"
            ]
          },
          "metadata": {},
          "execution_count": 18
        }
      ]
    },
    {
      "cell_type": "code",
      "metadata": {
        "colab": {
          "base_uri": "https://localhost:8080/"
        },
        "id": "4ImHYKxw5uqW",
        "outputId": "281f5c61-3b58-4037-fcc1-95d849da1def"
      },
      "source": [
        "#anchors\n",
        "re.search('^foo', 'foobar')"
      ],
      "execution_count": null,
      "outputs": [
        {
          "output_type": "execute_result",
          "data": {
            "text/plain": [
              "<re.Match object; span=(0, 3), match='foo'>"
            ]
          },
          "metadata": {},
          "execution_count": 20
        }
      ]
    },
    {
      "cell_type": "code",
      "metadata": {
        "colab": {
          "base_uri": "https://localhost:8080/"
        },
        "id": "2sIKYefq61Nw",
        "outputId": "440369e3-3663-455d-dc99-3b81ef27e020"
      },
      "source": [
        "print(re.search('^foo', 'barfoo'))"
      ],
      "execution_count": null,
      "outputs": [
        {
          "output_type": "stream",
          "name": "stdout",
          "text": [
            "None\n"
          ]
        }
      ]
    },
    {
      "cell_type": "markdown",
      "metadata": {
        "id": "IrRNRYfv7OKY"
      },
      "source": [
        "the xter must be at the start"
      ]
    },
    {
      "cell_type": "code",
      "metadata": {
        "colab": {
          "base_uri": "https://localhost:8080/"
        },
        "id": "q-obsA-x7DLY",
        "outputId": "8229003b-738f-4c74-cbd2-05bea3f8333e"
      },
      "source": [
        "re.search('\\Afoo', 'foobar')"
      ],
      "execution_count": null,
      "outputs": [
        {
          "output_type": "execute_result",
          "data": {
            "text/plain": [
              "<re.Match object; span=(0, 3), match='foo'>"
            ]
          },
          "metadata": {},
          "execution_count": 27
        }
      ]
    },
    {
      "cell_type": "code",
      "metadata": {
        "colab": {
          "base_uri": "https://localhost:8080/"
        },
        "id": "hwtiETGG7eFe",
        "outputId": "f8880ae1-9114-4763-8974-a52cfbe24a0b"
      },
      "source": [
        "print (re.search('A\\foo', 'barfoo'))"
      ],
      "execution_count": null,
      "outputs": [
        {
          "output_type": "stream",
          "name": "stdout",
          "text": [
            "None\n"
          ]
        }
      ]
    },
    {
      "cell_type": "code",
      "metadata": {
        "colab": {
          "base_uri": "https://localhost:8080/"
        },
        "id": "eXElsLF38kVw",
        "outputId": "d9eec544-10aa-4d2c-bb05-17b8586c56a9"
      },
      "source": [
        "re.search('bar$', 'foobar')"
      ],
      "execution_count": null,
      "outputs": [
        {
          "output_type": "execute_result",
          "data": {
            "text/plain": [
              "<re.Match object; span=(3, 6), match='bar'>"
            ]
          },
          "metadata": {},
          "execution_count": 30
        }
      ]
    },
    {
      "cell_type": "markdown",
      "metadata": {
        "id": "ou94qU2T87Qq"
      },
      "source": [
        "charcter must be at the end of the string"
      ]
    },
    {
      "cell_type": "code",
      "metadata": {
        "colab": {
          "base_uri": "https://localhost:8080/"
        },
        "id": "a8JY77TV8_LZ",
        "outputId": "feb7049c-5d3d-47c6-cb57-5a5c1fc5c3c1"
      },
      "source": [
        "re.search('bar\\Z', 'foobar')"
      ],
      "execution_count": null,
      "outputs": [
        {
          "output_type": "execute_result",
          "data": {
            "text/plain": [
              "<re.Match object; span=(3, 6), match='bar'>"
            ]
          },
          "metadata": {},
          "execution_count": 32
        }
      ]
    },
    {
      "cell_type": "code",
      "metadata": {
        "colab": {
          "base_uri": "https://localhost:8080/"
        },
        "id": "SKRYAtuM9GsP",
        "outputId": "766c3ad0-5c28-43ff-80f4-dfedca3fa463"
      },
      "source": [
        "#also matches just before a single new line\n",
        "re.search('bar$', 'foobar\\n')"
      ],
      "execution_count": null,
      "outputs": [
        {
          "output_type": "execute_result",
          "data": {
            "text/plain": [
              "<re.Match object; span=(3, 6), match='bar'>"
            ]
          },
          "metadata": {},
          "execution_count": 34
        }
      ]
    },
    {
      "cell_type": "code",
      "metadata": {
        "colab": {
          "base_uri": "https://localhost:8080/"
        },
        "id": "bDVCehn69Vce",
        "outputId": "3bd34020-7a53-4c1d-dfc2-05ad47bd1b32"
      },
      "source": [
        "re.search(r'\\bbar', 'foo bar')"
      ],
      "execution_count": null,
      "outputs": [
        {
          "output_type": "execute_result",
          "data": {
            "text/plain": [
              "<re.Match object; span=(4, 7), match='bar'>"
            ]
          },
          "metadata": {},
          "execution_count": 36
        }
      ]
    },
    {
      "cell_type": "code",
      "metadata": {
        "colab": {
          "base_uri": "https://localhost:8080/"
        },
        "id": "RntQPS6PAazc",
        "outputId": "3763a61a-6cec-41f2-8337-db117d07b161"
      },
      "source": [
        "re.search(r'\\bbar', 'foo.bar')"
      ],
      "execution_count": null,
      "outputs": [
        {
          "output_type": "execute_result",
          "data": {
            "text/plain": [
              "<re.Match object; span=(4, 7), match='bar'>"
            ]
          },
          "metadata": {},
          "execution_count": 38
        }
      ]
    },
    {
      "cell_type": "code",
      "metadata": {
        "colab": {
          "base_uri": "https://localhost:8080/"
        },
        "id": "GAq0mIMYAh7u",
        "outputId": "1d0697ba-a03d-44b8-ddb6-90f7fd8a0f18"
      },
      "source": [
        "print(re.search(r'\\bbar', 'foobar'))"
      ],
      "execution_count": null,
      "outputs": [
        {
          "output_type": "stream",
          "name": "stdout",
          "text": [
            "None\n"
          ]
        }
      ]
    },
    {
      "cell_type": "code",
      "metadata": {
        "colab": {
          "base_uri": "https://localhost:8080/"
        },
        "id": "LTWpZVbLAxBj",
        "outputId": "76e1e02a-169f-4f53-b82e-4716548042fb"
      },
      "source": [
        "re.search(r'foo\\b', 'foo.bar')"
      ],
      "execution_count": null,
      "outputs": [
        {
          "output_type": "execute_result",
          "data": {
            "text/plain": [
              "<re.Match object; span=(0, 3), match='foo'>"
            ]
          },
          "metadata": {},
          "execution_count": 42
        }
      ]
    },
    {
      "cell_type": "code",
      "metadata": {
        "colab": {
          "base_uri": "https://localhost:8080/"
        },
        "id": "4vv6A2aiA3lv",
        "outputId": "fe956f3b-9b5b-47d2-d796-3d31c3abab3a"
      },
      "source": [
        "re.search(r'foo\\b', 'foo bar')"
      ],
      "execution_count": null,
      "outputs": [
        {
          "output_type": "execute_result",
          "data": {
            "text/plain": [
              "<re.Match object; span=(0, 3), match='foo'>"
            ]
          },
          "metadata": {},
          "execution_count": 44
        }
      ]
    },
    {
      "cell_type": "code",
      "metadata": {
        "colab": {
          "base_uri": "https://localhost:8080/"
        },
        "id": "WStiDn_ZA8G0",
        "outputId": "f3f7d7e6-adde-4e34-aa00-26ea6322d752"
      },
      "source": [
        "print(re.search(r'foo\\b', 'foobar'))"
      ],
      "execution_count": null,
      "outputs": [
        {
          "output_type": "stream",
          "name": "stdout",
          "text": [
            "None\n"
          ]
        }
      ]
    },
    {
      "cell_type": "code",
      "metadata": {
        "colab": {
          "base_uri": "https://localhost:8080/"
        },
        "id": "SXQ0808jBMDY",
        "outputId": "029929ff-ae84-48ed-97cb-061b983b09d5"
      },
      "source": [
        "re.search(r'\\bbar\\b', 'foo bar baz')"
      ],
      "execution_count": null,
      "outputs": [
        {
          "output_type": "execute_result",
          "data": {
            "text/plain": [
              "<re.Match object; span=(4, 7), match='bar'>"
            ]
          },
          "metadata": {},
          "execution_count": 50
        }
      ]
    },
    {
      "cell_type": "code",
      "metadata": {
        "colab": {
          "base_uri": "https://localhost:8080/"
        },
        "id": "OhVNEgx5BX4B",
        "outputId": "543fa34d-c2c4-4191-a950-b12e025caf9c"
      },
      "source": [
        "re.search(r'\\bbar\\b', 'foo(bar)baz')"
      ],
      "execution_count": null,
      "outputs": [
        {
          "output_type": "execute_result",
          "data": {
            "text/plain": [
              "<re.Match object; span=(4, 7), match='bar'>"
            ]
          },
          "metadata": {},
          "execution_count": 52
        }
      ]
    },
    {
      "cell_type": "code",
      "metadata": {
        "colab": {
          "base_uri": "https://localhost:8080/"
        },
        "id": "6hjIXRYyBc0C",
        "outputId": "dba9009d-377f-4e7a-be8b-f226693b3519"
      },
      "source": [
        "print(re.search(r'\\bbar\\b', 'foobarbaz'))"
      ],
      "execution_count": null,
      "outputs": [
        {
          "output_type": "stream",
          "name": "stdout",
          "text": [
            "None\n"
          ]
        }
      ]
    },
    {
      "cell_type": "code",
      "metadata": {
        "colab": {
          "base_uri": "https://localhost:8080/"
        },
        "id": "rpb7oDE3F-0u",
        "outputId": "da0da73e-96aa-4530-ecf9-6b5cb365740f"
      },
      "source": [
        "print(re.search(r'\\Bfoo\\B', 'foo'))"
      ],
      "execution_count": null,
      "outputs": [
        {
          "output_type": "stream",
          "name": "stdout",
          "text": [
            "None\n"
          ]
        }
      ]
    },
    {
      "cell_type": "code",
      "metadata": {
        "colab": {
          "base_uri": "https://localhost:8080/"
        },
        "id": "SWkPSgNLGPYx",
        "outputId": "5a1b01e6-c4db-4898-cbb0-56ceb731e015"
      },
      "source": [
        "re.search(r'\\Bfoo\\B', 'bazfoobar')"
      ],
      "execution_count": null,
      "outputs": [
        {
          "output_type": "execute_result",
          "data": {
            "text/plain": [
              "<re.Match object; span=(3, 6), match='foo'>"
            ]
          },
          "metadata": {},
          "execution_count": 59
        }
      ]
    },
    {
      "cell_type": "code",
      "metadata": {
        "colab": {
          "base_uri": "https://localhost:8080/"
        },
        "id": "0Ewz255vGd8o",
        "outputId": "1f70e992-9d0f-4601-c83d-b61251bddd3a"
      },
      "source": [
        "#quantifiers\n",
        "re.search('foo-*bar', 'foobar')"
      ],
      "execution_count": null,
      "outputs": [
        {
          "output_type": "execute_result",
          "data": {
            "text/plain": [
              "<re.Match object; span=(0, 6), match='foobar'>"
            ]
          },
          "metadata": {},
          "execution_count": 61
        }
      ]
    },
    {
      "cell_type": "code",
      "metadata": {
        "colab": {
          "base_uri": "https://localhost:8080/"
        },
        "id": "FiYcTwSKJAhl",
        "outputId": "b27f01ae-f38c-4729-a193-e510748f9d51"
      },
      "source": [
        "re.search('foo-*bar', 'foo--bar')"
      ],
      "execution_count": null,
      "outputs": [
        {
          "output_type": "execute_result",
          "data": {
            "text/plain": [
              "<re.Match object; span=(0, 8), match='foo--bar'>"
            ]
          },
          "metadata": {},
          "execution_count": 63
        }
      ]
    },
    {
      "cell_type": "code",
      "metadata": {
        "colab": {
          "base_uri": "https://localhost:8080/"
        },
        "id": "Lx0WKOdyN8vb",
        "outputId": "acc24f07-102c-41ce-a6b8-fcee0beace64"
      },
      "source": [
        "re.search('foo-+bar', 'foo-bar')"
      ],
      "execution_count": null,
      "outputs": [
        {
          "output_type": "execute_result",
          "data": {
            "text/plain": [
              "<re.Match object; span=(0, 7), match='foo-bar'>"
            ]
          },
          "metadata": {},
          "execution_count": 65
        }
      ]
    },
    {
      "cell_type": "code",
      "metadata": {
        "colab": {
          "base_uri": "https://localhost:8080/"
        },
        "id": "rH3hq6ohOJxT",
        "outputId": "e2b2a772-bdd2-4881-af1b-fe2886eefaf6"
      },
      "source": [
        "print(re.search('foo-+bar', 'foobar'))"
      ],
      "execution_count": null,
      "outputs": [
        {
          "output_type": "stream",
          "name": "stdout",
          "text": [
            "None\n"
          ]
        }
      ]
    },
    {
      "cell_type": "markdown",
      "metadata": {
        "id": "nO_8RROgOTnZ"
      },
      "source": [
        "+  + requires at least one occurence of -"
      ]
    },
    {
      "cell_type": "code",
      "metadata": {
        "colab": {
          "base_uri": "https://localhost:8080/"
        },
        "id": "C2VICKQBOZ5x",
        "outputId": "91a48e13-fcc2-405c-88c6-63be76f2d256"
      },
      "source": [
        "re.search('foo-?bar', 'foobar')"
      ],
      "execution_count": null,
      "outputs": [
        {
          "output_type": "execute_result",
          "data": {
            "text/plain": [
              "<re.Match object; span=(0, 6), match='foobar'>"
            ]
          },
          "metadata": {},
          "execution_count": 67
        }
      ]
    },
    {
      "cell_type": "markdown",
      "metadata": {
        "id": "MPW7VFtxPc3q"
      },
      "source": [
        "there's a match iff the preceding regex occur once or not at all"
      ]
    },
    {
      "cell_type": "code",
      "metadata": {
        "colab": {
          "base_uri": "https://localhost:8080/"
        },
        "id": "tsq1FgE9PoZa",
        "outputId": "9c2cc064-60a8-4a7b-e239-6598ee888c08"
      },
      "source": [
        "import re\n",
        "re.match('foo[1-9]*bar', 'foobar')"
      ],
      "execution_count": null,
      "outputs": [
        {
          "output_type": "execute_result",
          "data": {
            "text/plain": [
              "<re.Match object; span=(0, 6), match='foobar'>"
            ]
          },
          "metadata": {},
          "execution_count": 2
        }
      ]
    },
    {
      "cell_type": "code",
      "metadata": {
        "colab": {
          "base_uri": "https://localhost:8080/"
        },
        "id": "d7NxDtLlpFp9",
        "outputId": "4f6f5e06-6138-48cb-f88b-bb227e65d0ae"
      },
      "source": [
        "re.match('foo[1-9]*bar', 'foo42bar')"
      ],
      "execution_count": null,
      "outputs": [
        {
          "output_type": "execute_result",
          "data": {
            "text/plain": [
              "<re.Match object; span=(0, 8), match='foo42bar'>"
            ]
          },
          "metadata": {},
          "execution_count": 4
        }
      ]
    },
    {
      "cell_type": "code",
      "metadata": {
        "colab": {
          "base_uri": "https://localhost:8080/"
        },
        "id": "dlsUCp58pZw6",
        "outputId": "a034a269-f2a8-459e-fdcf-b5f18dde3cc1"
      },
      "source": [
        "re.search('<.*>', '%<foo> <bar> <bas>%')"
      ],
      "execution_count": null,
      "outputs": [
        {
          "output_type": "execute_result",
          "data": {
            "text/plain": [
              "<re.Match object; span=(1, 18), match='<foo> <bar> <bas>'>"
            ]
          },
          "metadata": {},
          "execution_count": 6
        }
      ]
    },
    {
      "cell_type": "markdown",
      "metadata": {
        "id": "C-oDr_6GqNAX"
      },
      "source": [
        "     * * dictates the longest possible match here"
      ]
    },
    {
      "cell_type": "code",
      "metadata": {
        "colab": {
          "base_uri": "https://localhost:8080/"
        },
        "id": "SWhUgqn9pwtK",
        "outputId": "73b67fbf-8ecf-4ceb-ab0b-025bb2ac1d63"
      },
      "source": [
        "re.search('<.*?>', '%<foo> <bar>')"
      ],
      "execution_count": null,
      "outputs": [
        {
          "output_type": "execute_result",
          "data": {
            "text/plain": [
              "<re.Match object; span=(1, 6), match='<foo>'>"
            ]
          },
          "metadata": {},
          "execution_count": 7
        }
      ]
    },
    {
      "cell_type": "markdown",
      "metadata": {
        "id": "bAeWT2-1rKu0"
      },
      "source": [
        "the shortes match"
      ]
    },
    {
      "cell_type": "code",
      "metadata": {
        "colab": {
          "base_uri": "https://localhost:8080/"
        },
        "id": "qeRpURvprF0W",
        "outputId": "70dc2322-0c4c-46b0-bd08-eeb196ea2398"
      },
      "source": [
        "#lazy versions of + and ?\n",
        "re.search('<.+>', '%<foo> <bar>')"
      ],
      "execution_count": null,
      "outputs": [
        {
          "output_type": "execute_result",
          "data": {
            "text/plain": [
              "<re.Match object; span=(1, 12), match='<foo> <bar>'>"
            ]
          },
          "metadata": {},
          "execution_count": 9
        }
      ]
    },
    {
      "cell_type": "code",
      "metadata": {
        "colab": {
          "base_uri": "https://localhost:8080/"
        },
        "id": "Ana2aWDkt_m4",
        "outputId": "2953d387-e26d-4a3f-8fe1-878117d39a9b"
      },
      "source": [
        "print(re.search('x-{3}x', 'x--x'))"
      ],
      "execution_count": null,
      "outputs": [
        {
          "output_type": "stream",
          "name": "stdout",
          "text": [
            "None\n"
          ]
        }
      ]
    },
    {
      "cell_type": "code",
      "metadata": {
        "colab": {
          "base_uri": "https://localhost:8080/"
        },
        "id": "_tiew8a_uJkN",
        "outputId": "48da1559-8532-4baf-edf1-b8329e5201c5"
      },
      "source": [
        "re.search('x-{3}x', 'x---x')"
      ],
      "execution_count": null,
      "outputs": [
        {
          "output_type": "execute_result",
          "data": {
            "text/plain": [
              "<re.Match object; span=(0, 5), match='x---x'>"
            ]
          },
          "metadata": {},
          "execution_count": 12
        }
      ]
    },
    {
      "cell_type": "markdown",
      "metadata": {
        "id": "dCQCb1SZuWVP"
      },
      "source": [
        "matches the number of characters of -"
      ]
    },
    {
      "cell_type": "code",
      "metadata": {
        "colab": {
          "base_uri": "https://localhost:8080/"
        },
        "id": "RJKyxkyIubN5",
        "outputId": "df077f21-3cf0-4203-ec25-a8a55797acf7"
      },
      "source": [
        "for i in range(1,6):\n",
        "  s = f\"x{'-' * i}x\"\n",
        "  print(f'{i} {s:10}', re.search('x-{2,4}x', s))"
      ],
      "execution_count": null,
      "outputs": [
        {
          "output_type": "stream",
          "name": "stdout",
          "text": [
            "1 x-x        None\n",
            "2 x--x       <re.Match object; span=(0, 4), match='x--x'>\n",
            "3 x---x      <re.Match object; span=(0, 5), match='x---x'>\n",
            "4 x----x     <re.Match object; span=(0, 6), match='x----x'>\n",
            "5 x-----x    None\n"
          ]
        }
      ]
    },
    {
      "cell_type": "code",
      "metadata": {
        "colab": {
          "base_uri": "https://localhost:8080/"
        },
        "id": "d54zlLIrvGB4",
        "outputId": "ce708ac6-8854-4b1f-fcd4-bb97e09b8d6d"
      },
      "source": [
        "#lazy version\n",
        "re.search('a{3,5}', 'aaaaaaaa')"
      ],
      "execution_count": null,
      "outputs": [
        {
          "output_type": "execute_result",
          "data": {
            "text/plain": [
              "<re.Match object; span=(0, 5), match='aaaaa'>"
            ]
          },
          "metadata": {},
          "execution_count": 16
        }
      ]
    },
    {
      "cell_type": "code",
      "metadata": {
        "colab": {
          "base_uri": "https://localhost:8080/"
        },
        "id": "Xr1fALLovfXk",
        "outputId": "e419c531-1d4e-46cb-efe9-4f949ad30819"
      },
      "source": [
        "re.search('(bar)+', 'foo bar baz')\n",
        "re.search('(bar)+', 'foo barbar baz')\n",
        "re.search('(bar)+', 'foo barbarbar baz')"
      ],
      "execution_count": null,
      "outputs": [
        {
          "output_type": "execute_result",
          "data": {
            "text/plain": [
              "<re.Match object; span=(4, 13), match='barbarbar'>"
            ]
          },
          "metadata": {},
          "execution_count": 19
        }
      ]
    },
    {
      "cell_type": "code",
      "metadata": {
        "colab": {
          "base_uri": "https://localhost:8080/"
        },
        "id": "OPrzadS-wrQI",
        "outputId": "f54b5c1b-874f-485d-e374-a53ea13d73b8"
      },
      "source": [
        "re.search('(ba[rz]){2,4}(qux)', 'bazbarbazqux')"
      ],
      "execution_count": null,
      "outputs": [
        {
          "output_type": "execute_result",
          "data": {
            "text/plain": [
              "<re.Match object; span=(0, 12), match='bazbarbazqux'>"
            ]
          },
          "metadata": {},
          "execution_count": 23
        }
      ]
    },
    {
      "cell_type": "code",
      "metadata": {
        "colab": {
          "base_uri": "https://localhost:8080/"
        },
        "id": "Gct8XZ2BxDkQ",
        "outputId": "6620fcf6-8b47-4c7d-ea08-f8aea6dc7ce5"
      },
      "source": [
        "re.search('(foo(bar)?)+(\\d\\d\\d)?', 'foofoobar')"
      ],
      "execution_count": null,
      "outputs": [
        {
          "output_type": "execute_result",
          "data": {
            "text/plain": [
              "<re.Match object; span=(0, 9), match='foofoobar'>"
            ]
          },
          "metadata": {},
          "execution_count": 24
        }
      ]
    },
    {
      "cell_type": "markdown",
      "metadata": {
        "id": "zim9vDFMxRe8"
      },
      "source": [
        "nesting group of paranthesis"
      ]
    },
    {
      "cell_type": "code",
      "metadata": {
        "colab": {
          "base_uri": "https://localhost:8080/"
        },
        "id": "bF0GUb3BxlWs",
        "outputId": "07cc8d3c-098f-48bf-8f3a-af7737913fff"
      },
      "source": [
        "re.search('(foo(bar)?)+(\\d\\d\\d)?', 'foofoobar123')"
      ],
      "execution_count": null,
      "outputs": [
        {
          "output_type": "execute_result",
          "data": {
            "text/plain": [
              "<re.Match object; span=(0, 12), match='foofoobar123'>"
            ]
          },
          "metadata": {},
          "execution_count": 25
        }
      ]
    },
    {
      "cell_type": "code",
      "metadata": {
        "colab": {
          "base_uri": "https://localhost:8080/"
        },
        "id": "M-isxLwnxt9M",
        "outputId": "097a7773-b675-4f6c-867f-4dfc8ba6395a"
      },
      "source": [
        "#capturing groups \n",
        "m = re.search('(\\w+),(\\w+),(\\w+)', 'foo,quux,baz')\n",
        "m.groups()"
      ],
      "execution_count": null,
      "outputs": [
        {
          "output_type": "execute_result",
          "data": {
            "text/plain": [
              "('foo', 'quux', 'baz')"
            ]
          },
          "metadata": {},
          "execution_count": 30
        }
      ]
    },
    {
      "cell_type": "code",
      "metadata": {
        "colab": {
          "base_uri": "https://localhost:8080/",
          "height": 35
        },
        "id": "bsEv2lHLzubj",
        "outputId": "80141169-666a-491a-d7a5-0bb0ba9357fb"
      },
      "source": [
        "m.group(2)"
      ],
      "execution_count": null,
      "outputs": [
        {
          "output_type": "execute_result",
          "data": {
            "application/vnd.google.colaboratory.intrinsic+json": {
              "type": "string"
            },
            "text/plain": [
              "'quux'"
            ]
          },
          "metadata": {},
          "execution_count": 34
        }
      ]
    },
    {
      "cell_type": "code",
      "metadata": {
        "colab": {
          "base_uri": "https://localhost:8080/",
          "height": 35
        },
        "id": "Ix96EtnJ2I6Y",
        "outputId": "69ed020f-d66f-4f87-aff7-a353682921b3"
      },
      "source": [
        "m.group(1)"
      ],
      "execution_count": null,
      "outputs": [
        {
          "output_type": "execute_result",
          "data": {
            "application/vnd.google.colaboratory.intrinsic+json": {
              "type": "string"
            },
            "text/plain": [
              "'foo'"
            ]
          },
          "metadata": {},
          "execution_count": 36
        }
      ]
    },
    {
      "cell_type": "code",
      "metadata": {
        "colab": {
          "base_uri": "https://localhost:8080/",
          "height": 35
        },
        "id": "h2GTn9zr2UiR",
        "outputId": "9692310d-ffe0-4526-f37a-a641edf1c62e"
      },
      "source": [
        "m.group(0)"
      ],
      "execution_count": null,
      "outputs": [
        {
          "output_type": "execute_result",
          "data": {
            "application/vnd.google.colaboratory.intrinsic+json": {
              "type": "string"
            },
            "text/plain": [
              "'foo,quux,baz'"
            ]
          },
          "metadata": {},
          "execution_count": 38
        }
      ]
    },
    {
      "cell_type": "code",
      "metadata": {
        "colab": {
          "base_uri": "https://localhost:8080/"
        },
        "id": "DCnDH6G23Ja_",
        "outputId": "e66a465c-2d57-4f25-d9ff-b6ae0d3fb579"
      },
      "source": [
        "m.group(2,3)"
      ],
      "execution_count": null,
      "outputs": [
        {
          "output_type": "execute_result",
          "data": {
            "text/plain": [
              "('quux', 'baz')"
            ]
          },
          "metadata": {},
          "execution_count": 40
        }
      ]
    },
    {
      "cell_type": "code",
      "metadata": {
        "colab": {
          "base_uri": "https://localhost:8080/"
        },
        "id": "qf08b6664-f5",
        "outputId": "b1623b80-07d6-457e-ed66-26660db74eb0"
      },
      "source": [
        "regex = r'(\\w+),\\1'\n",
        "m = re.search(regex, 'foo,foo')\n",
        "m"
      ],
      "execution_count": null,
      "outputs": [
        {
          "output_type": "execute_result",
          "data": {
            "text/plain": [
              "<re.Match object; span=(0, 7), match='foo,foo'>"
            ]
          },
          "metadata": {},
          "execution_count": 47
        }
      ]
    },
    {
      "cell_type": "code",
      "metadata": {
        "colab": {
          "base_uri": "https://localhost:8080/",
          "height": 35
        },
        "id": "AqVhdk8z5b4S",
        "outputId": "2942d087-c6d4-409c-d465-22d1a45919fc"
      },
      "source": [
        "m.group(1)"
      ],
      "execution_count": null,
      "outputs": [
        {
          "output_type": "execute_result",
          "data": {
            "application/vnd.google.colaboratory.intrinsic+json": {
              "type": "string"
            },
            "text/plain": [
              "'foo'"
            ]
          },
          "metadata": {},
          "execution_count": 49
        }
      ]
    },
    {
      "cell_type": "code",
      "metadata": {
        "colab": {
          "base_uri": "https://localhost:8080/"
        },
        "id": "AKlzpbzm9skp",
        "outputId": "cccec4ac-63b9-4a3e-8e5c-c5369b8d5067"
      },
      "source": [
        "m = re.search('(?P<w1>\\w+),(?P<w2>\\w+),(?P<w3>\\w+)', 'foo,quux,baz')\n",
        "m.groups()"
      ],
      "execution_count": null,
      "outputs": [
        {
          "output_type": "execute_result",
          "data": {
            "text/plain": [
              "('foo', 'quux', 'baz')"
            ]
          },
          "metadata": {},
          "execution_count": 51
        }
      ]
    },
    {
      "cell_type": "code",
      "metadata": {
        "colab": {
          "base_uri": "https://localhost:8080/",
          "height": 35
        },
        "id": "SwOUk1y_9xZF",
        "outputId": "73b8834d-9460-41f1-aaeb-c52f6ea61403"
      },
      "source": [
        "m.group('w1')"
      ],
      "execution_count": null,
      "outputs": [
        {
          "output_type": "execute_result",
          "data": {
            "application/vnd.google.colaboratory.intrinsic+json": {
              "type": "string"
            },
            "text/plain": [
              "'foo'"
            ]
          },
          "metadata": {},
          "execution_count": 53
        }
      ]
    },
    {
      "cell_type": "code",
      "metadata": {
        "colab": {
          "base_uri": "https://localhost:8080/",
          "height": 35
        },
        "id": "rzWW7K1S92Jy",
        "outputId": "4182121c-116c-43a7-aa5f-84758e7da5d0"
      },
      "source": [
        "m.group(1)"
      ],
      "execution_count": null,
      "outputs": [
        {
          "output_type": "execute_result",
          "data": {
            "application/vnd.google.colaboratory.intrinsic+json": {
              "type": "string"
            },
            "text/plain": [
              "'foo'"
            ]
          },
          "metadata": {},
          "execution_count": 55
        }
      ]
    },
    {
      "cell_type": "code",
      "metadata": {
        "colab": {
          "base_uri": "https://localhost:8080/",
          "height": 35
        },
        "id": "ufh3ZQCR-1a3",
        "outputId": "266e0673-f173-4e32-8a54-ad2ae7c6df40"
      },
      "source": [
        "m = re.search(r'(?P<word>\\w+),(?P=word)', 'foo,foo')\n",
        "m.group('word')"
      ],
      "execution_count": null,
      "outputs": [
        {
          "output_type": "execute_result",
          "data": {
            "application/vnd.google.colaboratory.intrinsic+json": {
              "type": "string"
            },
            "text/plain": [
              "'foo'"
            ]
          },
          "metadata": {},
          "execution_count": 59
        }
      ]
    },
    {
      "cell_type": "code",
      "metadata": {
        "colab": {
          "base_uri": "https://localhost:8080/"
        },
        "id": "jTzfCOcQ_VOW",
        "outputId": "9aef5717-dfac-4ddc-b8f3-178c7e8249ac"
      },
      "source": [
        "#conditional matches\n",
        "regex = r'^(###)?foo(?(1)bar|baz)'\n",
        "re.search(regex, '###foobar')"
      ],
      "execution_count": null,
      "outputs": [
        {
          "output_type": "execute_result",
          "data": {
            "text/plain": [
              "<re.Match object; span=(0, 9), match='###foobar'>"
            ]
          },
          "metadata": {},
          "execution_count": 60
        }
      ]
    }
  ]
}