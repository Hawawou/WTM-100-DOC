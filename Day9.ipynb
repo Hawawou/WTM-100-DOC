{
  "nbformat": 4,
  "nbformat_minor": 0,
  "metadata": {
    "colab": {
      "name": "Day9.ipynb",
      "provenance": [],
      "authorship_tag": "ABX9TyNeSnaN9I7n717XbhYuMGdd",
      "include_colab_link": true
    },
    "kernelspec": {
      "display_name": "Python 3",
      "name": "python3"
    },
    "language_info": {
      "name": "python"
    }
  },
  "cells": [
    {
      "cell_type": "markdown",
      "metadata": {
        "id": "view-in-github",
        "colab_type": "text"
      },
      "source": [
        "<a href=\"https://colab.research.google.com/github/Hawawou/WTM-100-DOC/blob/main/Day9.ipynb\" target=\"_parent\"><img src=\"https://colab.research.google.com/assets/colab-badge.svg\" alt=\"Open In Colab\"/></a>"
      ]
    },
    {
      "cell_type": "code",
      "metadata": {
        "colab": {
          "base_uri": "https://localhost:8080/"
        },
        "id": "OmtmkIfoCw8P",
        "outputId": "8c77e5d2-779a-462d-9f0d-f5d7798762e2"
      },
      "source": [
        "a = 0\n",
        "while a < 20:\n",
        "  a = a+2\n",
        "  print(a)"
      ],
      "execution_count": null,
      "outputs": [
        {
          "output_type": "stream",
          "name": "stdout",
          "text": [
            "2\n",
            "4\n",
            "6\n",
            "8\n",
            "10\n",
            "12\n",
            "14\n",
            "16\n",
            "18\n",
            "20\n"
          ]
        }
      ]
    },
    {
      "cell_type": "code",
      "metadata": {
        "colab": {
          "base_uri": "https://localhost:8080/"
        },
        "id": "pVHbM0D2FEsV",
        "outputId": "e4c84ca8-01e8-4ff8-f59a-3fd098191c01"
      },
      "source": [
        "n = ['foo', 'bar', 'baz']\n",
        "while n:\n",
        "  print(n.pop(-1))"
      ],
      "execution_count": null,
      "outputs": [
        {
          "output_type": "stream",
          "name": "stdout",
          "text": [
            "baz\n",
            "bar\n",
            "foo\n"
          ]
        }
      ]
    },
    {
      "cell_type": "code",
      "metadata": {
        "colab": {
          "base_uri": "https://localhost:8080/"
        },
        "id": "4E5d6hiYHSQD",
        "outputId": "9d7b13bc-5b44-44f6-9e8b-4a177ac43a88"
      },
      "source": [
        "#break and continue statement\n",
        "n = 5\n",
        "while n > 0:\n",
        "  n -= 1\n",
        "  if n == 2:\n",
        "    break\n",
        "  print(n)\n",
        "print('loop ended!')"
      ],
      "execution_count": null,
      "outputs": [
        {
          "output_type": "stream",
          "name": "stdout",
          "text": [
            "4\n",
            "3\n",
            "loop ended!\n"
          ]
        }
      ]
    },
    {
      "cell_type": "code",
      "metadata": {
        "colab": {
          "base_uri": "https://localhost:8080/"
        },
        "id": "yQlGQjXRIdeN",
        "outputId": "ce43ea21-0f46-4d95-fd44-02116b934e21"
      },
      "source": [
        "n = 5\n",
        "while n > 0:\n",
        "  n -= 1\n",
        "  if n == 2:\n",
        "    continue\n",
        "  print(n)\n",
        "print('loop ended!')"
      ],
      "execution_count": null,
      "outputs": [
        {
          "output_type": "stream",
          "name": "stdout",
          "text": [
            "4\n",
            "3\n",
            "1\n",
            "0\n",
            "loop ended!\n"
          ]
        }
      ]
    },
    {
      "cell_type": "code",
      "metadata": {
        "colab": {
          "base_uri": "https://localhost:8080/"
        },
        "id": "zRHa2cVMJHNq",
        "outputId": "e1ba7ac0-bc2c-4d67-9c72-95cf35fe1b8c"
      },
      "source": [
        "#else statement\n",
        "n = 5\n",
        "while n > 0:\n",
        "  n -= 1\n",
        "  print(n)\n",
        "else:\n",
        "  print('loop done')"
      ],
      "execution_count": null,
      "outputs": [
        {
          "output_type": "stream",
          "name": "stdout",
          "text": [
            "4\n",
            "3\n",
            "2\n",
            "1\n",
            "0\n",
            "loop done\n"
          ]
        }
      ]
    },
    {
      "cell_type": "code",
      "metadata": {
        "colab": {
          "base_uri": "https://localhost:8080/"
        },
        "id": "q9ty0644JkQB",
        "outputId": "9f3d952d-215c-4bd4-c19c-0717be24d3b2"
      },
      "source": [
        "n = 5\n",
        "while n > 0:\n",
        "  n -= 1\n",
        "  print(n)\n",
        "  if n == 2:\n",
        "    break\n",
        "else:\n",
        "  print('loop done')"
      ],
      "execution_count": 1,
      "outputs": [
        {
          "output_type": "stream",
          "name": "stdout",
          "text": [
            "4\n",
            "3\n",
            "2\n"
          ]
        }
      ]
    },
    {
      "cell_type": "code",
      "metadata": {
        "colab": {
          "base_uri": "https://localhost:8080/"
        },
        "id": "hj7zps26z6Au",
        "outputId": "875da779-4226-4295-b6e3-b6cb4488ef9b"
      },
      "source": [
        "a = ['python', 'ruby', 'java', 'php']\n",
        "s = 'javascript'\n",
        "i = 0\n",
        "while i < len(a):\n",
        "  if a[i] == s:\n",
        "    break\n",
        "  i += 1\n",
        "else:\n",
        "  print(s, 'is not found in the list')\n",
        "  "
      ],
      "execution_count": 3,
      "outputs": [
        {
          "output_type": "stream",
          "name": "stdout",
          "text": [
            "javascript is not found in the list\n"
          ]
        }
      ]
    },
    {
      "cell_type": "code",
      "metadata": {
        "colab": {
          "base_uri": "https://localhost:8080/"
        },
        "id": "K3-KvfYU1a_5",
        "outputId": "549a4b14-1b90-4ad3-d60c-a3dca34aaa6f"
      },
      "source": [
        "if s in a:\n",
        "  print(s, 'found in list')\n",
        "else:\n",
        "  print(s, 'not found in list')"
      ],
      "execution_count": 6,
      "outputs": [
        {
          "output_type": "stream",
          "name": "stdout",
          "text": [
            "javascript not found in list\n"
          ]
        }
      ]
    },
    {
      "cell_type": "code",
      "metadata": {
        "colab": {
          "base_uri": "https://localhost:8080/"
        },
        "id": "MBDJj3Bq2h7x",
        "outputId": "a16009bd-1210-4442-9510-8e3075eaa4e3"
      },
      "source": [
        "#list.index method\n",
        "try:\n",
        "  print(a.index(s))\n",
        "  #if s is not found in the list\n",
        "except ValueError: \n",
        "  print(s, 'not found in list')"
      ],
      "execution_count": 9,
      "outputs": [
        {
          "output_type": "stream",
          "name": "stdout",
          "text": [
            "javascript not found in list\n"
          ]
        }
      ]
    },
    {
      "cell_type": "code",
      "metadata": {
        "id": "o8CUNAAD254y"
      },
      "source": [
        "#infinite loops\n",
        "while True:\n",
        "  if not a:\n",
        "    break\n",
        "  print(a.pop(-1))"
      ],
      "execution_count": 14,
      "outputs": []
    },
    {
      "cell_type": "code",
      "metadata": {
        "colab": {
          "base_uri": "https://localhost:8080/"
        },
        "id": "O08IgBoP3naB",
        "outputId": "4afe3000-451a-4abe-8fcf-85d4b7e3ef67"
      },
      "source": [
        "#nested while loops\n",
        "age = 20\n",
        "gender = 'M'\n",
        "if age < 18:\n",
        "  if gender == 'M':\n",
        "    print('son')\n",
        "  else:\n",
        "    print('daughter')\n",
        "elif age >= 18 and age < 65:\n",
        "  if gender == 'M':\n",
        "    print('father')\n",
        "  else:\n",
        "    print('Mother')\n",
        "else:\n",
        "  if gender == 'M':\n",
        "    print('grandfather')\n",
        "  else:\n",
        "    print('grandmother')\n"
      ],
      "execution_count": 19,
      "outputs": [
        {
          "output_type": "stream",
          "name": "stdout",
          "text": [
            "father\n"
          ]
        }
      ]
    },
    {
      "cell_type": "code",
      "metadata": {
        "colab": {
          "base_uri": "https://localhost:8080/"
        },
        "id": "PmmSSAJ-6y57",
        "outputId": "95c642c0-8feb-4895-d847-4ee6535a1add"
      },
      "source": [
        "a = ['python', 'ruby', 'java', 'php']\n",
        "while len(a):\n",
        "  print(a.pop(0))\n",
        "  b = ['baz','qux']\n",
        "  while len(b):\n",
        "    print('>', b.pop(0))"
      ],
      "execution_count": 22,
      "outputs": [
        {
          "output_type": "stream",
          "name": "stdout",
          "text": [
            "python\n",
            "> baz\n",
            "> qux\n",
            "ruby\n",
            "> baz\n",
            "> qux\n",
            "java\n",
            "> baz\n",
            "> qux\n",
            "php\n",
            "> baz\n",
            "> qux\n"
          ]
        }
      ]
    },
    {
      "cell_type": "code",
      "metadata": {
        "colab": {
          "base_uri": "https://localhost:8080/"
        },
        "id": "nY1rgmXR7tMI",
        "outputId": "0f836ac3-2b32-4336-c9b5-a2138f4b7c7a"
      },
      "source": [
        "#one-line while loops\n",
        "n = 5\n",
        "while n > 0: n-= 1; print(n)"
      ],
      "execution_count": 24,
      "outputs": [
        {
          "output_type": "stream",
          "name": "stdout",
          "text": [
            "4\n",
            "3\n",
            "2\n",
            "1\n",
            "0\n"
          ]
        }
      ]
    },
    {
      "cell_type": "code",
      "metadata": {
        "id": "_Dyq9pbn8k_m"
      },
      "source": [
        ""
      ],
      "execution_count": null,
      "outputs": []
    }
  ]
}