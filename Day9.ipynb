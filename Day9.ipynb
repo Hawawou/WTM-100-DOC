{
  "nbformat": 4,
  "nbformat_minor": 0,
  "metadata": {
    "colab": {
      "name": "Day9.ipynb",
      "provenance": [],
      "authorship_tag": "ABX9TyPNagszdWRoSocXLjLp9LIj",
      "include_colab_link": true
    },
    "kernelspec": {
      "display_name": "Python 3",
      "name": "python3"
    },
    "language_info": {
      "name": "python"
    }
  },
  "cells": [
    {
      "cell_type": "markdown",
      "metadata": {
        "id": "view-in-github",
        "colab_type": "text"
      },
      "source": [
        "<a href=\"https://colab.research.google.com/github/Hawawou/WTM-100-DOC/blob/main/Day9.ipynb\" target=\"_parent\"><img src=\"https://colab.research.google.com/assets/colab-badge.svg\" alt=\"Open In Colab\"/></a>"
      ]
    },
    {
      "cell_type": "code",
      "metadata": {
        "colab": {
          "base_uri": "https://localhost:8080/"
        },
        "id": "OmtmkIfoCw8P",
        "outputId": "8c77e5d2-779a-462d-9f0d-f5d7798762e2"
      },
      "source": [
        "a = 0\n",
        "while a < 20:\n",
        "  a = a+2\n",
        "  print(a)"
      ],
      "execution_count": 5,
      "outputs": [
        {
          "output_type": "stream",
          "name": "stdout",
          "text": [
            "2\n",
            "4\n",
            "6\n",
            "8\n",
            "10\n",
            "12\n",
            "14\n",
            "16\n",
            "18\n",
            "20\n"
          ]
        }
      ]
    },
    {
      "cell_type": "code",
      "metadata": {
        "colab": {
          "base_uri": "https://localhost:8080/"
        },
        "id": "pVHbM0D2FEsV",
        "outputId": "e4c84ca8-01e8-4ff8-f59a-3fd098191c01"
      },
      "source": [
        "n = ['foo', 'bar', 'baz']\n",
        "while n:\n",
        "  print(n.pop(-1))"
      ],
      "execution_count": 8,
      "outputs": [
        {
          "output_type": "stream",
          "name": "stdout",
          "text": [
            "baz\n",
            "bar\n",
            "foo\n"
          ]
        }
      ]
    },
    {
      "cell_type": "code",
      "metadata": {
        "colab": {
          "base_uri": "https://localhost:8080/"
        },
        "id": "4E5d6hiYHSQD",
        "outputId": "9d7b13bc-5b44-44f6-9e8b-4a177ac43a88"
      },
      "source": [
        "#break and continue statement\n",
        "n = 5\n",
        "while n > 0:\n",
        "  n -= 1\n",
        "  if n == 2:\n",
        "    break\n",
        "  print(n)\n",
        "print('loop ended!')"
      ],
      "execution_count": 11,
      "outputs": [
        {
          "output_type": "stream",
          "name": "stdout",
          "text": [
            "4\n",
            "3\n",
            "loop ended!\n"
          ]
        }
      ]
    },
    {
      "cell_type": "code",
      "metadata": {
        "colab": {
          "base_uri": "https://localhost:8080/"
        },
        "id": "yQlGQjXRIdeN",
        "outputId": "ce43ea21-0f46-4d95-fd44-02116b934e21"
      },
      "source": [
        "n = 5\n",
        "while n > 0:\n",
        "  n -= 1\n",
        "  if n == 2:\n",
        "    continue\n",
        "  print(n)\n",
        "print('loop ended!')"
      ],
      "execution_count": 14,
      "outputs": [
        {
          "output_type": "stream",
          "name": "stdout",
          "text": [
            "4\n",
            "3\n",
            "1\n",
            "0\n",
            "loop ended!\n"
          ]
        }
      ]
    },
    {
      "cell_type": "code",
      "metadata": {
        "colab": {
          "base_uri": "https://localhost:8080/"
        },
        "id": "zRHa2cVMJHNq",
        "outputId": "e1ba7ac0-bc2c-4d67-9c72-95cf35fe1b8c"
      },
      "source": [
        "#else statement\n",
        "n = 5\n",
        "while n > 0:\n",
        "  n -= 1\n",
        "  print(n)\n",
        "else:\n",
        "  print('loop done')"
      ],
      "execution_count": 16,
      "outputs": [
        {
          "output_type": "stream",
          "name": "stdout",
          "text": [
            "4\n",
            "3\n",
            "2\n",
            "1\n",
            "0\n",
            "loop done\n"
          ]
        }
      ]
    },
    {
      "cell_type": "code",
      "metadata": {
        "colab": {
          "base_uri": "https://localhost:8080/"
        },
        "id": "q9ty0644JkQB",
        "outputId": "7818bc4e-4565-4ef2-89e8-1d76c44d9082"
      },
      "source": [
        "n = 5\n",
        "while n > 0:\n",
        "  n -= 1\n",
        "  print(n)\n",
        "  if n == 2:\n",
        "    break\n",
        "else:\n",
        "  print('loop done')"
      ],
      "execution_count": 17,
      "outputs": [
        {
          "output_type": "stream",
          "name": "stdout",
          "text": [
            "4\n",
            "3\n",
            "2\n"
          ]
        }
      ]
    }
  ]
}